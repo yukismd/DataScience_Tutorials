{
 "cells": [
  {
   "cell_type": "markdown",
   "id": "2338360c",
   "metadata": {
    "_cell_guid": "b1076dfc-b9ad-4769-8c92-a6c4dae69d19",
    "_uuid": "8f2839f25d086af736a60e9eeb907d3b93b6e0e5",
    "papermill": {
     "duration": 0.012758,
     "end_time": "2022-11-30T01:05:37.995063",
     "exception": false,
     "start_time": "2022-11-30T01:05:37.982305",
     "status": "completed"
    },
    "tags": []
   },
   "source": [
    "Run on [Kaggle Kernel](https://www.kaggle.com/code/yukismd/image-fasterrcnn)"
   ]
  },
  {
   "cell_type": "markdown",
   "id": "dd74f38c",
   "metadata": {
    "papermill": {
     "duration": 0.011572,
     "end_time": "2022-11-30T01:05:38.042215",
     "exception": false,
     "start_time": "2022-11-30T01:05:38.030643",
     "status": "completed"
    },
    "tags": []
   },
   "source": [
    "# Kaggle: [Pytorch Beginner Code : Faster RCNN](https://www.kaggle.com/code/chekoduadarsh/pytorch-beginner-code-faster-rcnn/notebook)"
   ]
  },
  {
   "cell_type": "markdown",
   "id": "f28f2db7",
   "metadata": {
    "papermill": {
     "duration": 0.011016,
     "end_time": "2022-11-30T01:05:38.064675",
     "exception": false,
     "start_time": "2022-11-30T01:05:38.053659",
     "status": "completed"
    },
    "tags": []
   },
   "source": [
    "Add data set from https://www.kaggle.com/competitions/vinbigdata-chest-xray-abnormalities-detection"
   ]
  },
  {
   "cell_type": "code",
   "execution_count": 1,
   "id": "f27e4c2d",
   "metadata": {
    "execution": {
     "iopub.execute_input": "2022-11-30T01:05:38.089207Z",
     "iopub.status.busy": "2022-11-30T01:05:38.088467Z",
     "iopub.status.idle": "2022-11-30T01:05:40.047109Z",
     "shell.execute_reply": "2022-11-30T01:05:40.045943Z"
    },
    "papermill": {
     "duration": 1.973692,
     "end_time": "2022-11-30T01:05:40.049564",
     "exception": false,
     "start_time": "2022-11-30T01:05:38.075872",
     "status": "completed"
    },
    "tags": []
   },
   "outputs": [
    {
     "name": "stdout",
     "output_type": "stream",
     "text": [
      "vinbigdata-chest-xray-abnormalities-detection\r\n",
      "total 4680\r\n",
      "-rw-r--r-- 1 nobody nogroup  138026 Dec 30  2020 sample_submission.csv\r\n",
      "drwxr-xr-x 2 nobody nogroup       0 Dec 30  2020 test\r\n",
      "drwxr-xr-x 2 nobody nogroup       0 Dec 30  2020 train\r\n",
      "-rw-r--r-- 1 nobody nogroup 4650790 Dec 30  2020 train.csv\r\n"
     ]
    }
   ],
   "source": [
    "! ls ../input\n",
    "! ls ../input/vinbigdata-chest-xray-abnormalities-detection -l"
   ]
  },
  {
   "cell_type": "code",
   "execution_count": 2,
   "id": "14144790",
   "metadata": {
    "execution": {
     "iopub.execute_input": "2022-11-30T01:05:40.074929Z",
     "iopub.status.busy": "2022-11-30T01:05:40.074596Z",
     "iopub.status.idle": "2022-11-30T01:05:42.742853Z",
     "shell.execute_reply": "2022-11-30T01:05:42.741571Z"
    },
    "papermill": {
     "duration": 2.683388,
     "end_time": "2022-11-30T01:05:42.745233",
     "exception": false,
     "start_time": "2022-11-30T01:05:40.061845",
     "status": "completed"
    },
    "tags": []
   },
   "outputs": [
    {
     "name": "stdout",
     "output_type": "stream",
     "text": [
      "000434271f63a053c4128a0ba6352c7f.dicom\r\n",
      "00053190460d56c53cc3e57321387478.dicom\r\n",
      "0005e8e3701dfb1dd93d53e2ff537b6e.dicom\r\n",
      "0006e0a85696f6bb578e84fafa9a5607.dicom\r\n",
      "0007d316f756b3fa0baea2ff514ce945.dicom\r\n",
      "ls: write error: Broken pipe\r\n"
     ]
    }
   ],
   "source": [
    "!ls ../input/vinbigdata-chest-xray-abnormalities-detection/train | head -n5"
   ]
  },
  {
   "cell_type": "code",
   "execution_count": 3,
   "id": "f248faa6",
   "metadata": {
    "execution": {
     "iopub.execute_input": "2022-11-30T01:05:42.771500Z",
     "iopub.status.busy": "2022-11-30T01:05:42.771160Z",
     "iopub.status.idle": "2022-11-30T01:05:46.569070Z",
     "shell.execute_reply": "2022-11-30T01:05:46.568061Z"
    },
    "papermill": {
     "duration": 3.81408,
     "end_time": "2022-11-30T01:05:46.571461",
     "exception": false,
     "start_time": "2022-11-30T01:05:42.757381",
     "status": "completed"
    },
    "tags": []
   },
   "outputs": [],
   "source": [
    "import pandas as pd\n",
    "import numpy as np\n",
    "import cv2\n",
    "import os\n",
    "import re\n",
    "import pydicom\n",
    "import warnings\n",
    "\n",
    "from PIL import Image\n",
    "\n",
    "import albumentations as A\n",
    "from albumentations.pytorch.transforms import ToTensorV2\n",
    "from albumentations.core.transforms_interface import ImageOnlyTransform\n",
    "\n",
    "import torch\n",
    "import torchvision\n",
    "\n",
    "from torchvision.models.detection.faster_rcnn import FastRCNNPredictor\n",
    "from torchvision.models.detection import FasterRCNN\n",
    "from torchvision.models.detection.rpn import AnchorGenerator\n",
    "\n",
    "from torch.utils.data import DataLoader, Dataset\n",
    "from torch.utils.data.sampler import SequentialSampler\n",
    "\n",
    "from matplotlib import pyplot as plt\n",
    "import random"
   ]
  },
  {
   "cell_type": "code",
   "execution_count": 4,
   "id": "e0290476",
   "metadata": {
    "execution": {
     "iopub.execute_input": "2022-11-30T01:05:46.597447Z",
     "iopub.status.busy": "2022-11-30T01:05:46.596339Z",
     "iopub.status.idle": "2022-11-30T01:05:46.601816Z",
     "shell.execute_reply": "2022-11-30T01:05:46.600975Z"
    },
    "papermill": {
     "duration": 0.020102,
     "end_time": "2022-11-30T01:05:46.603770",
     "exception": false,
     "start_time": "2022-11-30T01:05:46.583668",
     "status": "completed"
    },
    "tags": []
   },
   "outputs": [],
   "source": [
    "paddingSize= 0\n",
    "\n",
    "warnings.filterwarnings(\"ignore\")\n",
    "\n",
    "DIR_INPUT = '/kaggle/input/vinbigdata-chest-xray-abnormalities-detection'\n",
    "DIR_TRAIN = f'{DIR_INPUT}/train'   # 画像ディレクトリ（学習）\n",
    "DIR_TEST = f'{DIR_INPUT}/test'     # 画像ディレクトリ（テスト）"
   ]
  },
  {
   "cell_type": "markdown",
   "id": "40dc9ad1",
   "metadata": {
    "papermill": {
     "duration": 0.011217,
     "end_time": "2022-11-30T01:05:46.626608",
     "exception": false,
     "start_time": "2022-11-30T01:05:46.615391",
     "status": "completed"
    },
    "tags": []
   },
   "source": [
    "## メタデータ（csv）準備"
   ]
  },
  {
   "cell_type": "code",
   "execution_count": 5,
   "id": "697492bd",
   "metadata": {
    "execution": {
     "iopub.execute_input": "2022-11-30T01:05:46.651527Z",
     "iopub.status.busy": "2022-11-30T01:05:46.650987Z",
     "iopub.status.idle": "2022-11-30T01:05:46.816615Z",
     "shell.execute_reply": "2022-11-30T01:05:46.815692Z"
    },
    "papermill": {
     "duration": 0.180206,
     "end_time": "2022-11-30T01:05:46.818845",
     "exception": false,
     "start_time": "2022-11-30T01:05:46.638639",
     "status": "completed"
    },
    "tags": []
   },
   "outputs": [
    {
     "data": {
      "text/html": [
       "<div>\n",
       "<style scoped>\n",
       "    .dataframe tbody tr th:only-of-type {\n",
       "        vertical-align: middle;\n",
       "    }\n",
       "\n",
       "    .dataframe tbody tr th {\n",
       "        vertical-align: top;\n",
       "    }\n",
       "\n",
       "    .dataframe thead th {\n",
       "        text-align: right;\n",
       "    }\n",
       "</style>\n",
       "<table border=\"1\" class=\"dataframe\">\n",
       "  <thead>\n",
       "    <tr style=\"text-align: right;\">\n",
       "      <th></th>\n",
       "      <th>image_id</th>\n",
       "      <th>class_name</th>\n",
       "      <th>class_id</th>\n",
       "      <th>rad_id</th>\n",
       "      <th>x_min</th>\n",
       "      <th>y_min</th>\n",
       "      <th>x_max</th>\n",
       "      <th>y_max</th>\n",
       "    </tr>\n",
       "  </thead>\n",
       "  <tbody>\n",
       "    <tr>\n",
       "      <th>0</th>\n",
       "      <td>50a418190bc3fb1ef1633bf9678929b3</td>\n",
       "      <td>No finding</td>\n",
       "      <td>14</td>\n",
       "      <td>R11</td>\n",
       "      <td>NaN</td>\n",
       "      <td>NaN</td>\n",
       "      <td>NaN</td>\n",
       "      <td>NaN</td>\n",
       "    </tr>\n",
       "    <tr>\n",
       "      <th>1</th>\n",
       "      <td>21a10246a5ec7af151081d0cd6d65dc9</td>\n",
       "      <td>No finding</td>\n",
       "      <td>14</td>\n",
       "      <td>R7</td>\n",
       "      <td>NaN</td>\n",
       "      <td>NaN</td>\n",
       "      <td>NaN</td>\n",
       "      <td>NaN</td>\n",
       "    </tr>\n",
       "    <tr>\n",
       "      <th>2</th>\n",
       "      <td>9a5094b2563a1ef3ff50dc5c7ff71345</td>\n",
       "      <td>Cardiomegaly</td>\n",
       "      <td>3</td>\n",
       "      <td>R10</td>\n",
       "      <td>691.0</td>\n",
       "      <td>1375.0</td>\n",
       "      <td>1653.0</td>\n",
       "      <td>1831.0</td>\n",
       "    </tr>\n",
       "    <tr>\n",
       "      <th>3</th>\n",
       "      <td>051132a778e61a86eb147c7c6f564dfe</td>\n",
       "      <td>Aortic enlargement</td>\n",
       "      <td>0</td>\n",
       "      <td>R10</td>\n",
       "      <td>1264.0</td>\n",
       "      <td>743.0</td>\n",
       "      <td>1611.0</td>\n",
       "      <td>1019.0</td>\n",
       "    </tr>\n",
       "    <tr>\n",
       "      <th>4</th>\n",
       "      <td>063319de25ce7edb9b1c6b8881290140</td>\n",
       "      <td>No finding</td>\n",
       "      <td>14</td>\n",
       "      <td>R10</td>\n",
       "      <td>NaN</td>\n",
       "      <td>NaN</td>\n",
       "      <td>NaN</td>\n",
       "      <td>NaN</td>\n",
       "    </tr>\n",
       "    <tr>\n",
       "      <th>...</th>\n",
       "      <td>...</td>\n",
       "      <td>...</td>\n",
       "      <td>...</td>\n",
       "      <td>...</td>\n",
       "      <td>...</td>\n",
       "      <td>...</td>\n",
       "      <td>...</td>\n",
       "      <td>...</td>\n",
       "    </tr>\n",
       "    <tr>\n",
       "      <th>67909</th>\n",
       "      <td>936fd5cff1c058d39817a08f58b72cae</td>\n",
       "      <td>No finding</td>\n",
       "      <td>14</td>\n",
       "      <td>R1</td>\n",
       "      <td>NaN</td>\n",
       "      <td>NaN</td>\n",
       "      <td>NaN</td>\n",
       "      <td>NaN</td>\n",
       "    </tr>\n",
       "    <tr>\n",
       "      <th>67910</th>\n",
       "      <td>ca7e72954550eeb610fe22bf0244b7fa</td>\n",
       "      <td>No finding</td>\n",
       "      <td>14</td>\n",
       "      <td>R1</td>\n",
       "      <td>NaN</td>\n",
       "      <td>NaN</td>\n",
       "      <td>NaN</td>\n",
       "      <td>NaN</td>\n",
       "    </tr>\n",
       "    <tr>\n",
       "      <th>67911</th>\n",
       "      <td>aa17d5312a0fb4a2939436abca7f9579</td>\n",
       "      <td>No finding</td>\n",
       "      <td>14</td>\n",
       "      <td>R8</td>\n",
       "      <td>NaN</td>\n",
       "      <td>NaN</td>\n",
       "      <td>NaN</td>\n",
       "      <td>NaN</td>\n",
       "    </tr>\n",
       "    <tr>\n",
       "      <th>67912</th>\n",
       "      <td>4b56bc6d22b192f075f13231419dfcc8</td>\n",
       "      <td>Cardiomegaly</td>\n",
       "      <td>3</td>\n",
       "      <td>R8</td>\n",
       "      <td>771.0</td>\n",
       "      <td>979.0</td>\n",
       "      <td>1680.0</td>\n",
       "      <td>1311.0</td>\n",
       "    </tr>\n",
       "    <tr>\n",
       "      <th>67913</th>\n",
       "      <td>5e272e3adbdaafb07a7e84a9e62b1a4c</td>\n",
       "      <td>No finding</td>\n",
       "      <td>14</td>\n",
       "      <td>R16</td>\n",
       "      <td>NaN</td>\n",
       "      <td>NaN</td>\n",
       "      <td>NaN</td>\n",
       "      <td>NaN</td>\n",
       "    </tr>\n",
       "  </tbody>\n",
       "</table>\n",
       "<p>67914 rows × 8 columns</p>\n",
       "</div>"
      ],
      "text/plain": [
       "                               image_id          class_name  class_id rad_id  \\\n",
       "0      50a418190bc3fb1ef1633bf9678929b3          No finding        14    R11   \n",
       "1      21a10246a5ec7af151081d0cd6d65dc9          No finding        14     R7   \n",
       "2      9a5094b2563a1ef3ff50dc5c7ff71345        Cardiomegaly         3    R10   \n",
       "3      051132a778e61a86eb147c7c6f564dfe  Aortic enlargement         0    R10   \n",
       "4      063319de25ce7edb9b1c6b8881290140          No finding        14    R10   \n",
       "...                                 ...                 ...       ...    ...   \n",
       "67909  936fd5cff1c058d39817a08f58b72cae          No finding        14     R1   \n",
       "67910  ca7e72954550eeb610fe22bf0244b7fa          No finding        14     R1   \n",
       "67911  aa17d5312a0fb4a2939436abca7f9579          No finding        14     R8   \n",
       "67912  4b56bc6d22b192f075f13231419dfcc8        Cardiomegaly         3     R8   \n",
       "67913  5e272e3adbdaafb07a7e84a9e62b1a4c          No finding        14    R16   \n",
       "\n",
       "        x_min   y_min   x_max   y_max  \n",
       "0         NaN     NaN     NaN     NaN  \n",
       "1         NaN     NaN     NaN     NaN  \n",
       "2       691.0  1375.0  1653.0  1831.0  \n",
       "3      1264.0   743.0  1611.0  1019.0  \n",
       "4         NaN     NaN     NaN     NaN  \n",
       "...       ...     ...     ...     ...  \n",
       "67909     NaN     NaN     NaN     NaN  \n",
       "67910     NaN     NaN     NaN     NaN  \n",
       "67911     NaN     NaN     NaN     NaN  \n",
       "67912   771.0   979.0  1680.0  1311.0  \n",
       "67913     NaN     NaN     NaN     NaN  \n",
       "\n",
       "[67914 rows x 8 columns]"
      ]
     },
     "execution_count": 5,
     "metadata": {},
     "output_type": "execute_result"
    }
   ],
   "source": [
    "train_df = pd.read_csv(f'{DIR_INPUT}/train.csv')\n",
    "train_df"
   ]
  },
  {
   "cell_type": "code",
   "execution_count": 6,
   "id": "d65c749e",
   "metadata": {
    "execution": {
     "iopub.execute_input": "2022-11-30T01:05:46.844325Z",
     "iopub.status.busy": "2022-11-30T01:05:46.844027Z",
     "iopub.status.idle": "2022-11-30T01:05:46.884874Z",
     "shell.execute_reply": "2022-11-30T01:05:46.883795Z"
    },
    "papermill": {
     "duration": 0.055885,
     "end_time": "2022-11-30T01:05:46.886927",
     "exception": false,
     "start_time": "2022-11-30T01:05:46.831042",
     "status": "completed"
    },
    "tags": []
   },
   "outputs": [
    {
     "data": {
      "text/html": [
       "<div>\n",
       "<style scoped>\n",
       "    .dataframe tbody tr th:only-of-type {\n",
       "        vertical-align: middle;\n",
       "    }\n",
       "\n",
       "    .dataframe tbody tr th {\n",
       "        vertical-align: top;\n",
       "    }\n",
       "\n",
       "    .dataframe thead th {\n",
       "        text-align: right;\n",
       "    }\n",
       "</style>\n",
       "<table border=\"1\" class=\"dataframe\">\n",
       "  <thead>\n",
       "    <tr style=\"text-align: right;\">\n",
       "      <th></th>\n",
       "      <th>image_id</th>\n",
       "      <th>class_name</th>\n",
       "      <th>class_id</th>\n",
       "      <th>rad_id</th>\n",
       "      <th>x_min</th>\n",
       "      <th>y_min</th>\n",
       "      <th>x_max</th>\n",
       "      <th>y_max</th>\n",
       "    </tr>\n",
       "  </thead>\n",
       "  <tbody>\n",
       "    <tr>\n",
       "      <th>0</th>\n",
       "      <td>50a418190bc3fb1ef1633bf9678929b3</td>\n",
       "      <td>No finding</td>\n",
       "      <td>0</td>\n",
       "      <td>R11</td>\n",
       "      <td>0.0</td>\n",
       "      <td>0.0</td>\n",
       "      <td>1.0</td>\n",
       "      <td>1.0</td>\n",
       "    </tr>\n",
       "    <tr>\n",
       "      <th>1</th>\n",
       "      <td>21a10246a5ec7af151081d0cd6d65dc9</td>\n",
       "      <td>No finding</td>\n",
       "      <td>0</td>\n",
       "      <td>R7</td>\n",
       "      <td>0.0</td>\n",
       "      <td>0.0</td>\n",
       "      <td>1.0</td>\n",
       "      <td>1.0</td>\n",
       "    </tr>\n",
       "    <tr>\n",
       "      <th>2</th>\n",
       "      <td>9a5094b2563a1ef3ff50dc5c7ff71345</td>\n",
       "      <td>Cardiomegaly</td>\n",
       "      <td>4</td>\n",
       "      <td>R10</td>\n",
       "      <td>691.0</td>\n",
       "      <td>1375.0</td>\n",
       "      <td>1653.0</td>\n",
       "      <td>1831.0</td>\n",
       "    </tr>\n",
       "    <tr>\n",
       "      <th>3</th>\n",
       "      <td>051132a778e61a86eb147c7c6f564dfe</td>\n",
       "      <td>Aortic enlargement</td>\n",
       "      <td>1</td>\n",
       "      <td>R10</td>\n",
       "      <td>1264.0</td>\n",
       "      <td>743.0</td>\n",
       "      <td>1611.0</td>\n",
       "      <td>1019.0</td>\n",
       "    </tr>\n",
       "    <tr>\n",
       "      <th>4</th>\n",
       "      <td>063319de25ce7edb9b1c6b8881290140</td>\n",
       "      <td>No finding</td>\n",
       "      <td>0</td>\n",
       "      <td>R10</td>\n",
       "      <td>0.0</td>\n",
       "      <td>0.0</td>\n",
       "      <td>1.0</td>\n",
       "      <td>1.0</td>\n",
       "    </tr>\n",
       "    <tr>\n",
       "      <th>...</th>\n",
       "      <td>...</td>\n",
       "      <td>...</td>\n",
       "      <td>...</td>\n",
       "      <td>...</td>\n",
       "      <td>...</td>\n",
       "      <td>...</td>\n",
       "      <td>...</td>\n",
       "      <td>...</td>\n",
       "    </tr>\n",
       "    <tr>\n",
       "      <th>67909</th>\n",
       "      <td>936fd5cff1c058d39817a08f58b72cae</td>\n",
       "      <td>No finding</td>\n",
       "      <td>0</td>\n",
       "      <td>R1</td>\n",
       "      <td>0.0</td>\n",
       "      <td>0.0</td>\n",
       "      <td>1.0</td>\n",
       "      <td>1.0</td>\n",
       "    </tr>\n",
       "    <tr>\n",
       "      <th>67910</th>\n",
       "      <td>ca7e72954550eeb610fe22bf0244b7fa</td>\n",
       "      <td>No finding</td>\n",
       "      <td>0</td>\n",
       "      <td>R1</td>\n",
       "      <td>0.0</td>\n",
       "      <td>0.0</td>\n",
       "      <td>1.0</td>\n",
       "      <td>1.0</td>\n",
       "    </tr>\n",
       "    <tr>\n",
       "      <th>67911</th>\n",
       "      <td>aa17d5312a0fb4a2939436abca7f9579</td>\n",
       "      <td>No finding</td>\n",
       "      <td>0</td>\n",
       "      <td>R8</td>\n",
       "      <td>0.0</td>\n",
       "      <td>0.0</td>\n",
       "      <td>1.0</td>\n",
       "      <td>1.0</td>\n",
       "    </tr>\n",
       "    <tr>\n",
       "      <th>67912</th>\n",
       "      <td>4b56bc6d22b192f075f13231419dfcc8</td>\n",
       "      <td>Cardiomegaly</td>\n",
       "      <td>4</td>\n",
       "      <td>R8</td>\n",
       "      <td>771.0</td>\n",
       "      <td>979.0</td>\n",
       "      <td>1680.0</td>\n",
       "      <td>1311.0</td>\n",
       "    </tr>\n",
       "    <tr>\n",
       "      <th>67913</th>\n",
       "      <td>5e272e3adbdaafb07a7e84a9e62b1a4c</td>\n",
       "      <td>No finding</td>\n",
       "      <td>0</td>\n",
       "      <td>R16</td>\n",
       "      <td>0.0</td>\n",
       "      <td>0.0</td>\n",
       "      <td>1.0</td>\n",
       "      <td>1.0</td>\n",
       "    </tr>\n",
       "  </tbody>\n",
       "</table>\n",
       "<p>67914 rows × 8 columns</p>\n",
       "</div>"
      ],
      "text/plain": [
       "                               image_id          class_name  class_id rad_id  \\\n",
       "0      50a418190bc3fb1ef1633bf9678929b3          No finding         0    R11   \n",
       "1      21a10246a5ec7af151081d0cd6d65dc9          No finding         0     R7   \n",
       "2      9a5094b2563a1ef3ff50dc5c7ff71345        Cardiomegaly         4    R10   \n",
       "3      051132a778e61a86eb147c7c6f564dfe  Aortic enlargement         1    R10   \n",
       "4      063319de25ce7edb9b1c6b8881290140          No finding         0    R10   \n",
       "...                                 ...                 ...       ...    ...   \n",
       "67909  936fd5cff1c058d39817a08f58b72cae          No finding         0     R1   \n",
       "67910  ca7e72954550eeb610fe22bf0244b7fa          No finding         0     R1   \n",
       "67911  aa17d5312a0fb4a2939436abca7f9579          No finding         0     R8   \n",
       "67912  4b56bc6d22b192f075f13231419dfcc8        Cardiomegaly         4     R8   \n",
       "67913  5e272e3adbdaafb07a7e84a9e62b1a4c          No finding         0    R16   \n",
       "\n",
       "        x_min   y_min   x_max   y_max  \n",
       "0         0.0     0.0     1.0     1.0  \n",
       "1         0.0     0.0     1.0     1.0  \n",
       "2       691.0  1375.0  1653.0  1831.0  \n",
       "3      1264.0   743.0  1611.0  1019.0  \n",
       "4         0.0     0.0     1.0     1.0  \n",
       "...       ...     ...     ...     ...  \n",
       "67909     0.0     0.0     1.0     1.0  \n",
       "67910     0.0     0.0     1.0     1.0  \n",
       "67911     0.0     0.0     1.0     1.0  \n",
       "67912   771.0   979.0  1680.0  1311.0  \n",
       "67913     0.0     0.0     1.0     1.0  \n",
       "\n",
       "[67914 rows x 8 columns]"
      ]
     },
     "execution_count": 6,
     "metadata": {},
     "output_type": "execute_result"
    }
   ],
   "source": [
    "## csvデータの前処理\n",
    "\n",
    "train_df.fillna(0, inplace=True)\n",
    "train_df.loc[train_df[\"class_id\"] == 14, ['x_max', 'y_max']] = 1.0\n",
    "\n",
    "# FasterRCNN handles class_id==0 as the background.\n",
    "train_df[\"class_id\"] = train_df[\"class_id\"] + 1\n",
    "train_df.loc[train_df[\"class_id\"] == 15, [\"class_id\"]] = 0\n",
    "train_df"
   ]
  },
  {
   "cell_type": "markdown",
   "id": "6515163c",
   "metadata": {
    "papermill": {
     "duration": 0.012348,
     "end_time": "2022-11-30T01:05:46.911792",
     "exception": false,
     "start_time": "2022-11-30T01:05:46.899444",
     "status": "completed"
    },
    "tags": []
   },
   "source": [
    "class_name = 'No finding', (x_min, y_min, x_max, y_max) = (0.0, 0.0, 1.0, 1.0)はその画像に検出する物体がないことを意味する"
   ]
  },
  {
   "cell_type": "code",
   "execution_count": 7,
   "id": "ffba9df3",
   "metadata": {
    "execution": {
     "iopub.execute_input": "2022-11-30T01:05:46.939300Z",
     "iopub.status.busy": "2022-11-30T01:05:46.938983Z",
     "iopub.status.idle": "2022-11-30T01:05:46.956205Z",
     "shell.execute_reply": "2022-11-30T01:05:46.955314Z"
    },
    "papermill": {
     "duration": 0.033254,
     "end_time": "2022-11-30T01:05:46.958277",
     "exception": false,
     "start_time": "2022-11-30T01:05:46.925023",
     "status": "completed"
    },
    "tags": []
   },
   "outputs": [
    {
     "data": {
      "text/plain": [
       "15000"
      ]
     },
     "execution_count": 7,
     "metadata": {},
     "output_type": "execute_result"
    }
   ],
   "source": [
    "train_df[\"image_id\"].nunique()    # 画像の枚数（学習データ）"
   ]
  },
  {
   "cell_type": "code",
   "execution_count": 8,
   "id": "b71ee8d7",
   "metadata": {
    "execution": {
     "iopub.execute_input": "2022-11-30T01:05:46.985442Z",
     "iopub.status.busy": "2022-11-30T01:05:46.985156Z",
     "iopub.status.idle": "2022-11-30T01:05:47.006440Z",
     "shell.execute_reply": "2022-11-30T01:05:47.005379Z"
    },
    "papermill": {
     "duration": 0.03748,
     "end_time": "2022-11-30T01:05:47.008567",
     "exception": false,
     "start_time": "2022-11-30T01:05:46.971087",
     "status": "completed"
    },
    "tags": []
   },
   "outputs": [
    {
     "data": {
      "text/html": [
       "<div>\n",
       "<style scoped>\n",
       "    .dataframe tbody tr th:only-of-type {\n",
       "        vertical-align: middle;\n",
       "    }\n",
       "\n",
       "    .dataframe tbody tr th {\n",
       "        vertical-align: top;\n",
       "    }\n",
       "\n",
       "    .dataframe thead th {\n",
       "        text-align: right;\n",
       "    }\n",
       "</style>\n",
       "<table border=\"1\" class=\"dataframe\">\n",
       "  <thead>\n",
       "    <tr style=\"text-align: right;\">\n",
       "      <th></th>\n",
       "      <th>class_name</th>\n",
       "      <th>class_id</th>\n",
       "      <th>class_id_original</th>\n",
       "      <th>count</th>\n",
       "    </tr>\n",
       "  </thead>\n",
       "  <tbody>\n",
       "    <tr>\n",
       "      <th>0</th>\n",
       "      <td>No finding</td>\n",
       "      <td>0</td>\n",
       "      <td>-1</td>\n",
       "      <td>31818</td>\n",
       "    </tr>\n",
       "    <tr>\n",
       "      <th>1</th>\n",
       "      <td>Aortic enlargement</td>\n",
       "      <td>1</td>\n",
       "      <td>0</td>\n",
       "      <td>7162</td>\n",
       "    </tr>\n",
       "    <tr>\n",
       "      <th>2</th>\n",
       "      <td>Cardiomegaly</td>\n",
       "      <td>4</td>\n",
       "      <td>3</td>\n",
       "      <td>5427</td>\n",
       "    </tr>\n",
       "    <tr>\n",
       "      <th>3</th>\n",
       "      <td>Pleural thickening</td>\n",
       "      <td>12</td>\n",
       "      <td>11</td>\n",
       "      <td>4842</td>\n",
       "    </tr>\n",
       "    <tr>\n",
       "      <th>4</th>\n",
       "      <td>Pulmonary fibrosis</td>\n",
       "      <td>14</td>\n",
       "      <td>13</td>\n",
       "      <td>4655</td>\n",
       "    </tr>\n",
       "    <tr>\n",
       "      <th>5</th>\n",
       "      <td>Nodule/Mass</td>\n",
       "      <td>9</td>\n",
       "      <td>8</td>\n",
       "      <td>2580</td>\n",
       "    </tr>\n",
       "    <tr>\n",
       "      <th>6</th>\n",
       "      <td>Lung Opacity</td>\n",
       "      <td>8</td>\n",
       "      <td>7</td>\n",
       "      <td>2483</td>\n",
       "    </tr>\n",
       "    <tr>\n",
       "      <th>7</th>\n",
       "      <td>Pleural effusion</td>\n",
       "      <td>11</td>\n",
       "      <td>10</td>\n",
       "      <td>2476</td>\n",
       "    </tr>\n",
       "    <tr>\n",
       "      <th>8</th>\n",
       "      <td>Other lesion</td>\n",
       "      <td>10</td>\n",
       "      <td>9</td>\n",
       "      <td>2203</td>\n",
       "    </tr>\n",
       "    <tr>\n",
       "      <th>9</th>\n",
       "      <td>Infiltration</td>\n",
       "      <td>7</td>\n",
       "      <td>6</td>\n",
       "      <td>1247</td>\n",
       "    </tr>\n",
       "    <tr>\n",
       "      <th>10</th>\n",
       "      <td>ILD</td>\n",
       "      <td>6</td>\n",
       "      <td>5</td>\n",
       "      <td>1000</td>\n",
       "    </tr>\n",
       "    <tr>\n",
       "      <th>11</th>\n",
       "      <td>Calcification</td>\n",
       "      <td>3</td>\n",
       "      <td>2</td>\n",
       "      <td>960</td>\n",
       "    </tr>\n",
       "    <tr>\n",
       "      <th>12</th>\n",
       "      <td>Consolidation</td>\n",
       "      <td>5</td>\n",
       "      <td>4</td>\n",
       "      <td>556</td>\n",
       "    </tr>\n",
       "    <tr>\n",
       "      <th>13</th>\n",
       "      <td>Atelectasis</td>\n",
       "      <td>2</td>\n",
       "      <td>1</td>\n",
       "      <td>279</td>\n",
       "    </tr>\n",
       "    <tr>\n",
       "      <th>14</th>\n",
       "      <td>Pneumothorax</td>\n",
       "      <td>13</td>\n",
       "      <td>12</td>\n",
       "      <td>226</td>\n",
       "    </tr>\n",
       "  </tbody>\n",
       "</table>\n",
       "</div>"
      ],
      "text/plain": [
       "            class_name  class_id  class_id_original  count\n",
       "0           No finding         0                 -1  31818\n",
       "1   Aortic enlargement         1                  0   7162\n",
       "2         Cardiomegaly         4                  3   5427\n",
       "3   Pleural thickening        12                 11   4842\n",
       "4   Pulmonary fibrosis        14                 13   4655\n",
       "5          Nodule/Mass         9                  8   2580\n",
       "6         Lung Opacity         8                  7   2483\n",
       "7     Pleural effusion        11                 10   2476\n",
       "8         Other lesion        10                  9   2203\n",
       "9         Infiltration         7                  6   1247\n",
       "10                 ILD         6                  5   1000\n",
       "11       Calcification         3                  2    960\n",
       "12       Consolidation         5                  4    556\n",
       "13         Atelectasis         2                  1    279\n",
       "14        Pneumothorax        13                 12    226"
      ]
     },
     "execution_count": 8,
     "metadata": {},
     "output_type": "execute_result"
    }
   ],
   "source": [
    "c_name = train_df[\"class_name\"].value_counts().index\n",
    "c_val = train_df[\"class_name\"].value_counts().reset_index(drop=True)\n",
    "c_id = train_df[\"class_id\"].value_counts().index\n",
    "\n",
    "c_id_original = c_id-1\n",
    "\n",
    "df_id = pd.DataFrame({'class_name':c_name, 'class_id':c_id, 'class_id_original':c_id_original, 'count':c_val})\n",
    "#df_id.loc[df_id['class_id']==0,'class_id_original'] = np.nan\n",
    "df_id"
   ]
  },
  {
   "cell_type": "markdown",
   "id": "0080a2c0",
   "metadata": {
    "papermill": {
     "duration": 0.012903,
     "end_time": "2022-11-30T01:05:47.034733",
     "exception": false,
     "start_time": "2022-11-30T01:05:47.021830",
     "status": "completed"
    },
    "tags": []
   },
   "source": [
    "Aortic enlargement = 大動脈拡大, Cardiomegaly = 心臓肥大, Pleural thickening = 胸膜肥厚, Pulmonary fibrosis = 肺線維症, Nodule/Mass = 結節・腫瘤, Lung Opacity = 肺混濁, Pleural effusion = 胸水, Other lesion = その他の病変, Infiltration = 浸潤, ILD = ILD, Calcification = 石灰化, Consolidation = 硬化, Atelectasis = 無気肺, Pneumothorax = 気胸"
   ]
  },
  {
   "cell_type": "code",
   "execution_count": 9,
   "id": "5a0a5b65",
   "metadata": {
    "execution": {
     "iopub.execute_input": "2022-11-30T01:05:47.061492Z",
     "iopub.status.busy": "2022-11-30T01:05:47.061218Z",
     "iopub.status.idle": "2022-11-30T01:05:47.067661Z",
     "shell.execute_reply": "2022-11-30T01:05:47.066694Z"
    },
    "papermill": {
     "duration": 0.02213,
     "end_time": "2022-11-30T01:05:47.069582",
     "exception": false,
     "start_time": "2022-11-30T01:05:47.047452",
     "status": "completed"
    },
    "tags": []
   },
   "outputs": [],
   "source": [
    "def label_to_name(id):\n",
    "    \"\"\" モデル作成用ID（class_id）を受け取り、クラス名（class_name）を返す\n",
    "    \"\"\"\n",
    "    id = int(id)\n",
    "    id = id-1\n",
    "    if id == 0: return \"Aortic enlargement\"\n",
    "    if id == 1: return \"Atelectasis\"\n",
    "    if id == 2: return \"Calcification\"\n",
    "    if id == 3: return \"Cardiomegaly\"\n",
    "    if id == 4: return \"Consolidation\"\n",
    "    if id == 5: return \"ILD\"\n",
    "    if id == 6: return \"Infiltration\"\n",
    "    if id == 7: return \"Lung Opacity\"\n",
    "    if id == 8: return \"Nodule/Mass\"\n",
    "    if id == 9: return \"Other lesion\"\n",
    "    if id == 10: return \"Pleural effusion\"\n",
    "    if id == 11: return \"Pleural thickening\"\n",
    "    if id == 12: return \"Pneumothorax\"\n",
    "    if id == 13: return \"Pulmonary fibrosis\"\n",
    "    else: return str(id)"
   ]
  },
  {
   "cell_type": "code",
   "execution_count": 10,
   "id": "cf004e1b",
   "metadata": {
    "execution": {
     "iopub.execute_input": "2022-11-30T01:05:47.097979Z",
     "iopub.status.busy": "2022-11-30T01:05:47.097719Z",
     "iopub.status.idle": "2022-11-30T01:05:47.104570Z",
     "shell.execute_reply": "2022-11-30T01:05:47.103489Z"
    },
    "papermill": {
     "duration": 0.023595,
     "end_time": "2022-11-30T01:05:47.106638",
     "exception": false,
     "start_time": "2022-11-30T01:05:47.083043",
     "status": "completed"
    },
    "tags": []
   },
   "outputs": [
    {
     "data": {
      "text/plain": [
       "('-1', 'Aortic enlargement', 'Pulmonary fibrosis')"
      ]
     },
     "execution_count": 10,
     "metadata": {},
     "output_type": "execute_result"
    }
   ],
   "source": [
    "label_to_name(0), label_to_name(1), label_to_name(14), "
   ]
  },
  {
   "cell_type": "code",
   "execution_count": 11,
   "id": "72143ef6",
   "metadata": {
    "execution": {
     "iopub.execute_input": "2022-11-30T01:05:47.134532Z",
     "iopub.status.busy": "2022-11-30T01:05:47.133439Z",
     "iopub.status.idle": "2022-11-30T01:05:47.171600Z",
     "shell.execute_reply": "2022-11-30T01:05:47.169719Z"
    },
    "papermill": {
     "duration": 0.055347,
     "end_time": "2022-11-30T01:05:47.174644",
     "exception": false,
     "start_time": "2022-11-30T01:05:47.119297",
     "status": "completed"
    },
    "tags": []
   },
   "outputs": [
    {
     "name": "stdout",
     "output_type": "stream",
     "text": [
      "['50a418190bc3fb1ef1633bf9678929b3' '21a10246a5ec7af151081d0cd6d65dc9'\n",
      " '9a5094b2563a1ef3ff50dc5c7ff71345' '051132a778e61a86eb147c7c6f564dfe'\n",
      " '063319de25ce7edb9b1c6b8881290140']\n",
      "(15000,) (10000,) (5000,)\n",
      "(37928, 8) (29986, 8)\n"
     ]
    }
   ],
   "source": [
    "image_ids = train_df['image_id'].unique()\n",
    "print(image_ids[:5])\n",
    "valid_ids = image_ids[-10000:] # 後ろ5000枚 \n",
    "train_ids = image_ids[:-10000] # 前10000枚\n",
    "print(image_ids.shape, valid_ids.shape, train_ids.shape)\n",
    "\n",
    "valid_df = train_df[train_df['image_id'].isin(valid_ids)]   # 検証セット\n",
    "train_df = train_df[train_df['image_id'].isin(train_ids)]   # 学習セット　        !!! train_dfが上書きされる　!!!\n",
    "print(valid_df.shape, train_df.shape)"
   ]
  },
  {
   "cell_type": "code",
   "execution_count": 12,
   "id": "36ec84e4",
   "metadata": {
    "execution": {
     "iopub.execute_input": "2022-11-30T01:05:47.206464Z",
     "iopub.status.busy": "2022-11-30T01:05:47.205542Z",
     "iopub.status.idle": "2022-11-30T01:05:47.234471Z",
     "shell.execute_reply": "2022-11-30T01:05:47.233515Z"
    },
    "papermill": {
     "duration": 0.046928,
     "end_time": "2022-11-30T01:05:47.236737",
     "exception": false,
     "start_time": "2022-11-30T01:05:47.189809",
     "status": "completed"
    },
    "tags": []
   },
   "outputs": [],
   "source": [
    "## class_idをオリジナルに再修正？\n",
    "\n",
    "train_df[\"class_id\"] = train_df[\"class_id\"].apply(lambda x: x+1)\n",
    "valid_df[\"class_id\"] = valid_df[\"class_id\"].apply(lambda x: x+1)"
   ]
  },
  {
   "cell_type": "code",
   "execution_count": 13,
   "id": "16f62a6f",
   "metadata": {
    "execution": {
     "iopub.execute_input": "2022-11-30T01:05:47.263901Z",
     "iopub.status.busy": "2022-11-30T01:05:47.263057Z",
     "iopub.status.idle": "2022-11-30T01:05:47.281568Z",
     "shell.execute_reply": "2022-11-30T01:05:47.280464Z"
    },
    "papermill": {
     "duration": 0.034453,
     "end_time": "2022-11-30T01:05:47.283856",
     "exception": false,
     "start_time": "2022-11-30T01:05:47.249403",
     "status": "completed"
    },
    "tags": []
   },
   "outputs": [
    {
     "data": {
      "text/html": [
       "<div>\n",
       "<style scoped>\n",
       "    .dataframe tbody tr th:only-of-type {\n",
       "        vertical-align: middle;\n",
       "    }\n",
       "\n",
       "    .dataframe tbody tr th {\n",
       "        vertical-align: top;\n",
       "    }\n",
       "\n",
       "    .dataframe thead th {\n",
       "        text-align: right;\n",
       "    }\n",
       "</style>\n",
       "<table border=\"1\" class=\"dataframe\">\n",
       "  <thead>\n",
       "    <tr style=\"text-align: right;\">\n",
       "      <th></th>\n",
       "      <th>image_id</th>\n",
       "      <th>class_name</th>\n",
       "      <th>class_id</th>\n",
       "      <th>rad_id</th>\n",
       "      <th>x_min</th>\n",
       "      <th>y_min</th>\n",
       "      <th>x_max</th>\n",
       "      <th>y_max</th>\n",
       "    </tr>\n",
       "  </thead>\n",
       "  <tbody>\n",
       "    <tr>\n",
       "      <th>0</th>\n",
       "      <td>50a418190bc3fb1ef1633bf9678929b3</td>\n",
       "      <td>No finding</td>\n",
       "      <td>1</td>\n",
       "      <td>R11</td>\n",
       "      <td>0.0</td>\n",
       "      <td>0.0</td>\n",
       "      <td>1.0</td>\n",
       "      <td>1.0</td>\n",
       "    </tr>\n",
       "    <tr>\n",
       "      <th>1</th>\n",
       "      <td>21a10246a5ec7af151081d0cd6d65dc9</td>\n",
       "      <td>No finding</td>\n",
       "      <td>1</td>\n",
       "      <td>R7</td>\n",
       "      <td>0.0</td>\n",
       "      <td>0.0</td>\n",
       "      <td>1.0</td>\n",
       "      <td>1.0</td>\n",
       "    </tr>\n",
       "    <tr>\n",
       "      <th>2</th>\n",
       "      <td>9a5094b2563a1ef3ff50dc5c7ff71345</td>\n",
       "      <td>Cardiomegaly</td>\n",
       "      <td>5</td>\n",
       "      <td>R10</td>\n",
       "      <td>691.0</td>\n",
       "      <td>1375.0</td>\n",
       "      <td>1653.0</td>\n",
       "      <td>1831.0</td>\n",
       "    </tr>\n",
       "    <tr>\n",
       "      <th>3</th>\n",
       "      <td>051132a778e61a86eb147c7c6f564dfe</td>\n",
       "      <td>Aortic enlargement</td>\n",
       "      <td>2</td>\n",
       "      <td>R10</td>\n",
       "      <td>1264.0</td>\n",
       "      <td>743.0</td>\n",
       "      <td>1611.0</td>\n",
       "      <td>1019.0</td>\n",
       "    </tr>\n",
       "    <tr>\n",
       "      <th>4</th>\n",
       "      <td>063319de25ce7edb9b1c6b8881290140</td>\n",
       "      <td>No finding</td>\n",
       "      <td>1</td>\n",
       "      <td>R10</td>\n",
       "      <td>0.0</td>\n",
       "      <td>0.0</td>\n",
       "      <td>1.0</td>\n",
       "      <td>1.0</td>\n",
       "    </tr>\n",
       "    <tr>\n",
       "      <th>...</th>\n",
       "      <td>...</td>\n",
       "      <td>...</td>\n",
       "      <td>...</td>\n",
       "      <td>...</td>\n",
       "      <td>...</td>\n",
       "      <td>...</td>\n",
       "      <td>...</td>\n",
       "      <td>...</td>\n",
       "    </tr>\n",
       "    <tr>\n",
       "      <th>67903</th>\n",
       "      <td>b53d1dd80e99ca6bcef9d592f65d3321</td>\n",
       "      <td>Pleural effusion</td>\n",
       "      <td>12</td>\n",
       "      <td>R9</td>\n",
       "      <td>240.0</td>\n",
       "      <td>1550.0</td>\n",
       "      <td>562.0</td>\n",
       "      <td>2001.0</td>\n",
       "    </tr>\n",
       "    <tr>\n",
       "      <th>67906</th>\n",
       "      <td>26d1d5a0ef2e692c6340e74859ffdc53</td>\n",
       "      <td>Pulmonary fibrosis</td>\n",
       "      <td>15</td>\n",
       "      <td>R10</td>\n",
       "      <td>1163.0</td>\n",
       "      <td>787.0</td>\n",
       "      <td>1338.0</td>\n",
       "      <td>941.0</td>\n",
       "    </tr>\n",
       "    <tr>\n",
       "      <th>67907</th>\n",
       "      <td>22672ab82c290c20b86863291e25ef6c</td>\n",
       "      <td>ILD</td>\n",
       "      <td>7</td>\n",
       "      <td>R9</td>\n",
       "      <td>299.0</td>\n",
       "      <td>664.0</td>\n",
       "      <td>794.0</td>\n",
       "      <td>1508.0</td>\n",
       "    </tr>\n",
       "    <tr>\n",
       "      <th>67912</th>\n",
       "      <td>4b56bc6d22b192f075f13231419dfcc8</td>\n",
       "      <td>Cardiomegaly</td>\n",
       "      <td>5</td>\n",
       "      <td>R8</td>\n",
       "      <td>771.0</td>\n",
       "      <td>979.0</td>\n",
       "      <td>1680.0</td>\n",
       "      <td>1311.0</td>\n",
       "    </tr>\n",
       "    <tr>\n",
       "      <th>67913</th>\n",
       "      <td>5e272e3adbdaafb07a7e84a9e62b1a4c</td>\n",
       "      <td>No finding</td>\n",
       "      <td>1</td>\n",
       "      <td>R16</td>\n",
       "      <td>0.0</td>\n",
       "      <td>0.0</td>\n",
       "      <td>1.0</td>\n",
       "      <td>1.0</td>\n",
       "    </tr>\n",
       "  </tbody>\n",
       "</table>\n",
       "<p>29986 rows × 8 columns</p>\n",
       "</div>"
      ],
      "text/plain": [
       "                               image_id          class_name  class_id rad_id  \\\n",
       "0      50a418190bc3fb1ef1633bf9678929b3          No finding         1    R11   \n",
       "1      21a10246a5ec7af151081d0cd6d65dc9          No finding         1     R7   \n",
       "2      9a5094b2563a1ef3ff50dc5c7ff71345        Cardiomegaly         5    R10   \n",
       "3      051132a778e61a86eb147c7c6f564dfe  Aortic enlargement         2    R10   \n",
       "4      063319de25ce7edb9b1c6b8881290140          No finding         1    R10   \n",
       "...                                 ...                 ...       ...    ...   \n",
       "67903  b53d1dd80e99ca6bcef9d592f65d3321    Pleural effusion        12     R9   \n",
       "67906  26d1d5a0ef2e692c6340e74859ffdc53  Pulmonary fibrosis        15    R10   \n",
       "67907  22672ab82c290c20b86863291e25ef6c                 ILD         7     R9   \n",
       "67912  4b56bc6d22b192f075f13231419dfcc8        Cardiomegaly         5     R8   \n",
       "67913  5e272e3adbdaafb07a7e84a9e62b1a4c          No finding         1    R16   \n",
       "\n",
       "        x_min   y_min   x_max   y_max  \n",
       "0         0.0     0.0     1.0     1.0  \n",
       "1         0.0     0.0     1.0     1.0  \n",
       "2       691.0  1375.0  1653.0  1831.0  \n",
       "3      1264.0   743.0  1611.0  1019.0  \n",
       "4         0.0     0.0     1.0     1.0  \n",
       "...       ...     ...     ...     ...  \n",
       "67903   240.0  1550.0   562.0  2001.0  \n",
       "67906  1163.0   787.0  1338.0   941.0  \n",
       "67907   299.0   664.0   794.0  1508.0  \n",
       "67912   771.0   979.0  1680.0  1311.0  \n",
       "67913     0.0     0.0     1.0     1.0  \n",
       "\n",
       "[29986 rows x 8 columns]"
      ]
     },
     "execution_count": 13,
     "metadata": {},
     "output_type": "execute_result"
    }
   ],
   "source": [
    "train_df"
   ]
  },
  {
   "cell_type": "code",
   "execution_count": 14,
   "id": "a0e797c8",
   "metadata": {
    "execution": {
     "iopub.execute_input": "2022-11-30T01:05:47.315799Z",
     "iopub.status.busy": "2022-11-30T01:05:47.314131Z",
     "iopub.status.idle": "2022-11-30T01:05:47.341144Z",
     "shell.execute_reply": "2022-11-30T01:05:47.339690Z"
    },
    "papermill": {
     "duration": 0.044998,
     "end_time": "2022-11-30T01:05:47.343683",
     "exception": false,
     "start_time": "2022-11-30T01:05:47.298685",
     "status": "completed"
    },
    "tags": []
   },
   "outputs": [
    {
     "name": "stdout",
     "output_type": "stream",
     "text": [
      "(18740, 8) (12701, 9)\n"
     ]
    }
   ],
   "source": [
    "## class_name='No finding'をドロップ\n",
    "\n",
    "# BB面積を計算し、1より大きいもののみ\n",
    "train_df['area'] = (train_df['x_max'] - train_df['x_min']) * (train_df['y_max'] - train_df['y_min'])  # BB面積\n",
    "valid_df['area'] = (valid_df['x_max'] - valid_df['x_min']) * (valid_df['y_max'] - valid_df['y_min'])\n",
    "train_df = train_df[train_df['area'] > 1]\n",
    "valid_df = valid_df[valid_df['area'] > 1]\n",
    "\n",
    "# class_idが2~14のもののみ\n",
    "train_df = train_df[(train_df['class_id'] > 1) & (train_df['class_id'] < 15)]\n",
    "valid_df = valid_df[(valid_df['class_id'] > 1) & (valid_df['class_id'] < 15)]\n",
    "\n",
    "train_df = train_df.drop(['area'], axis = 1)\n",
    "\n",
    "print(train_df.shape, valid_df.shape)"
   ]
  },
  {
   "cell_type": "code",
   "execution_count": 15,
   "id": "04045ee0",
   "metadata": {
    "execution": {
     "iopub.execute_input": "2022-11-30T01:05:47.371146Z",
     "iopub.status.busy": "2022-11-30T01:05:47.370874Z",
     "iopub.status.idle": "2022-11-30T01:05:47.381527Z",
     "shell.execute_reply": "2022-11-30T01:05:47.380549Z"
    },
    "papermill": {
     "duration": 0.026295,
     "end_time": "2022-11-30T01:05:47.383476",
     "exception": false,
     "start_time": "2022-11-30T01:05:47.357181",
     "status": "completed"
    },
    "tags": []
   },
   "outputs": [
    {
     "data": {
      "text/plain": [
       "(2208, 2148)"
      ]
     },
     "execution_count": 15,
     "metadata": {},
     "output_type": "execute_result"
    }
   ],
   "source": [
    "train_df['image_id'].nunique(), valid_df['image_id'].nunique()"
   ]
  },
  {
   "cell_type": "code",
   "execution_count": 16,
   "id": "d3f9ca67",
   "metadata": {
    "execution": {
     "iopub.execute_input": "2022-11-30T01:05:47.411080Z",
     "iopub.status.busy": "2022-11-30T01:05:47.410309Z",
     "iopub.status.idle": "2022-11-30T01:05:47.428345Z",
     "shell.execute_reply": "2022-11-30T01:05:47.427234Z"
    },
    "papermill": {
     "duration": 0.033992,
     "end_time": "2022-11-30T01:05:47.430535",
     "exception": false,
     "start_time": "2022-11-30T01:05:47.396543",
     "status": "completed"
    },
    "tags": []
   },
   "outputs": [
    {
     "data": {
      "text/html": [
       "<div>\n",
       "<style scoped>\n",
       "    .dataframe tbody tr th:only-of-type {\n",
       "        vertical-align: middle;\n",
       "    }\n",
       "\n",
       "    .dataframe tbody tr th {\n",
       "        vertical-align: top;\n",
       "    }\n",
       "\n",
       "    .dataframe thead th {\n",
       "        text-align: right;\n",
       "    }\n",
       "</style>\n",
       "<table border=\"1\" class=\"dataframe\">\n",
       "  <thead>\n",
       "    <tr style=\"text-align: right;\">\n",
       "      <th></th>\n",
       "      <th>image_id</th>\n",
       "      <th>class_name</th>\n",
       "      <th>class_id</th>\n",
       "      <th>rad_id</th>\n",
       "      <th>x_min</th>\n",
       "      <th>y_min</th>\n",
       "      <th>x_max</th>\n",
       "      <th>y_max</th>\n",
       "    </tr>\n",
       "  </thead>\n",
       "  <tbody>\n",
       "    <tr>\n",
       "      <th>2</th>\n",
       "      <td>9a5094b2563a1ef3ff50dc5c7ff71345</td>\n",
       "      <td>Cardiomegaly</td>\n",
       "      <td>5</td>\n",
       "      <td>R10</td>\n",
       "      <td>691.0</td>\n",
       "      <td>1375.0</td>\n",
       "      <td>1653.0</td>\n",
       "      <td>1831.0</td>\n",
       "    </tr>\n",
       "    <tr>\n",
       "      <th>3</th>\n",
       "      <td>051132a778e61a86eb147c7c6f564dfe</td>\n",
       "      <td>Aortic enlargement</td>\n",
       "      <td>2</td>\n",
       "      <td>R10</td>\n",
       "      <td>1264.0</td>\n",
       "      <td>743.0</td>\n",
       "      <td>1611.0</td>\n",
       "      <td>1019.0</td>\n",
       "    </tr>\n",
       "    <tr>\n",
       "      <th>5</th>\n",
       "      <td>1c32170b4af4ce1a3030eb8167753b06</td>\n",
       "      <td>Pleural thickening</td>\n",
       "      <td>13</td>\n",
       "      <td>R9</td>\n",
       "      <td>627.0</td>\n",
       "      <td>357.0</td>\n",
       "      <td>947.0</td>\n",
       "      <td>433.0</td>\n",
       "    </tr>\n",
       "    <tr>\n",
       "      <th>6</th>\n",
       "      <td>0c7a38f293d5f5e4846aa4ca6db4daf1</td>\n",
       "      <td>ILD</td>\n",
       "      <td>7</td>\n",
       "      <td>R17</td>\n",
       "      <td>1347.0</td>\n",
       "      <td>245.0</td>\n",
       "      <td>2188.0</td>\n",
       "      <td>2169.0</td>\n",
       "    </tr>\n",
       "    <tr>\n",
       "      <th>7</th>\n",
       "      <td>47ed17dcb2cbeec15182ed335a8b5a9e</td>\n",
       "      <td>Nodule/Mass</td>\n",
       "      <td>10</td>\n",
       "      <td>R9</td>\n",
       "      <td>557.0</td>\n",
       "      <td>2352.0</td>\n",
       "      <td>675.0</td>\n",
       "      <td>2484.0</td>\n",
       "    </tr>\n",
       "    <tr>\n",
       "      <th>...</th>\n",
       "      <td>...</td>\n",
       "      <td>...</td>\n",
       "      <td>...</td>\n",
       "      <td>...</td>\n",
       "      <td>...</td>\n",
       "      <td>...</td>\n",
       "      <td>...</td>\n",
       "      <td>...</td>\n",
       "    </tr>\n",
       "    <tr>\n",
       "      <th>67891</th>\n",
       "      <td>09b9674023305cb9a0acb367600efffa</td>\n",
       "      <td>Lung Opacity</td>\n",
       "      <td>9</td>\n",
       "      <td>R10</td>\n",
       "      <td>968.0</td>\n",
       "      <td>1020.0</td>\n",
       "      <td>1331.0</td>\n",
       "      <td>1385.0</td>\n",
       "    </tr>\n",
       "    <tr>\n",
       "      <th>67899</th>\n",
       "      <td>3b887c0550e9722c9b86b7c22ad09e11</td>\n",
       "      <td>Other lesion</td>\n",
       "      <td>11</td>\n",
       "      <td>R10</td>\n",
       "      <td>254.0</td>\n",
       "      <td>1959.0</td>\n",
       "      <td>280.0</td>\n",
       "      <td>1990.0</td>\n",
       "    </tr>\n",
       "    <tr>\n",
       "      <th>67903</th>\n",
       "      <td>b53d1dd80e99ca6bcef9d592f65d3321</td>\n",
       "      <td>Pleural effusion</td>\n",
       "      <td>12</td>\n",
       "      <td>R9</td>\n",
       "      <td>240.0</td>\n",
       "      <td>1550.0</td>\n",
       "      <td>562.0</td>\n",
       "      <td>2001.0</td>\n",
       "    </tr>\n",
       "    <tr>\n",
       "      <th>67907</th>\n",
       "      <td>22672ab82c290c20b86863291e25ef6c</td>\n",
       "      <td>ILD</td>\n",
       "      <td>7</td>\n",
       "      <td>R9</td>\n",
       "      <td>299.0</td>\n",
       "      <td>664.0</td>\n",
       "      <td>794.0</td>\n",
       "      <td>1508.0</td>\n",
       "    </tr>\n",
       "    <tr>\n",
       "      <th>67912</th>\n",
       "      <td>4b56bc6d22b192f075f13231419dfcc8</td>\n",
       "      <td>Cardiomegaly</td>\n",
       "      <td>5</td>\n",
       "      <td>R8</td>\n",
       "      <td>771.0</td>\n",
       "      <td>979.0</td>\n",
       "      <td>1680.0</td>\n",
       "      <td>1311.0</td>\n",
       "    </tr>\n",
       "  </tbody>\n",
       "</table>\n",
       "<p>18740 rows × 8 columns</p>\n",
       "</div>"
      ],
      "text/plain": [
       "                               image_id          class_name  class_id rad_id  \\\n",
       "2      9a5094b2563a1ef3ff50dc5c7ff71345        Cardiomegaly         5    R10   \n",
       "3      051132a778e61a86eb147c7c6f564dfe  Aortic enlargement         2    R10   \n",
       "5      1c32170b4af4ce1a3030eb8167753b06  Pleural thickening        13     R9   \n",
       "6      0c7a38f293d5f5e4846aa4ca6db4daf1                 ILD         7    R17   \n",
       "7      47ed17dcb2cbeec15182ed335a8b5a9e         Nodule/Mass        10     R9   \n",
       "...                                 ...                 ...       ...    ...   \n",
       "67891  09b9674023305cb9a0acb367600efffa        Lung Opacity         9    R10   \n",
       "67899  3b887c0550e9722c9b86b7c22ad09e11        Other lesion        11    R10   \n",
       "67903  b53d1dd80e99ca6bcef9d592f65d3321    Pleural effusion        12     R9   \n",
       "67907  22672ab82c290c20b86863291e25ef6c                 ILD         7     R9   \n",
       "67912  4b56bc6d22b192f075f13231419dfcc8        Cardiomegaly         5     R8   \n",
       "\n",
       "        x_min   y_min   x_max   y_max  \n",
       "2       691.0  1375.0  1653.0  1831.0  \n",
       "3      1264.0   743.0  1611.0  1019.0  \n",
       "5       627.0   357.0   947.0   433.0  \n",
       "6      1347.0   245.0  2188.0  2169.0  \n",
       "7       557.0  2352.0   675.0  2484.0  \n",
       "...       ...     ...     ...     ...  \n",
       "67891   968.0  1020.0  1331.0  1385.0  \n",
       "67899   254.0  1959.0   280.0  1990.0  \n",
       "67903   240.0  1550.0   562.0  2001.0  \n",
       "67907   299.0   664.0   794.0  1508.0  \n",
       "67912   771.0   979.0  1680.0  1311.0  \n",
       "\n",
       "[18740 rows x 8 columns]"
      ]
     },
     "execution_count": 16,
     "metadata": {},
     "output_type": "execute_result"
    }
   ],
   "source": [
    "train_df   # class_idはオリジナルのもの"
   ]
  },
  {
   "cell_type": "code",
   "execution_count": 17,
   "id": "7f5b9aaa",
   "metadata": {
    "execution": {
     "iopub.execute_input": "2022-11-30T01:05:47.458190Z",
     "iopub.status.busy": "2022-11-30T01:05:47.457914Z",
     "iopub.status.idle": "2022-11-30T01:05:47.478332Z",
     "shell.execute_reply": "2022-11-30T01:05:47.477377Z"
    },
    "papermill": {
     "duration": 0.036308,
     "end_time": "2022-11-30T01:05:47.480252",
     "exception": false,
     "start_time": "2022-11-30T01:05:47.443944",
     "status": "completed"
    },
    "tags": []
   },
   "outputs": [
    {
     "data": {
      "text/html": [
       "<div>\n",
       "<style scoped>\n",
       "    .dataframe tbody tr th:only-of-type {\n",
       "        vertical-align: middle;\n",
       "    }\n",
       "\n",
       "    .dataframe tbody tr th {\n",
       "        vertical-align: top;\n",
       "    }\n",
       "\n",
       "    .dataframe thead th {\n",
       "        text-align: right;\n",
       "    }\n",
       "</style>\n",
       "<table border=\"1\" class=\"dataframe\">\n",
       "  <thead>\n",
       "    <tr style=\"text-align: right;\">\n",
       "      <th></th>\n",
       "      <th>image_id</th>\n",
       "      <th>class_name</th>\n",
       "      <th>class_id</th>\n",
       "      <th>rad_id</th>\n",
       "      <th>x_min</th>\n",
       "      <th>y_min</th>\n",
       "      <th>x_max</th>\n",
       "      <th>y_max</th>\n",
       "      <th>area</th>\n",
       "    </tr>\n",
       "  </thead>\n",
       "  <tbody>\n",
       "    <tr>\n",
       "      <th>6461</th>\n",
       "      <td>ad74c895feae8a322c54bbce08626812</td>\n",
       "      <td>Cardiomegaly</td>\n",
       "      <td>5</td>\n",
       "      <td>R8</td>\n",
       "      <td>933.0</td>\n",
       "      <td>1478.0</td>\n",
       "      <td>1877.0</td>\n",
       "      <td>1837.0</td>\n",
       "      <td>338896.0</td>\n",
       "    </tr>\n",
       "    <tr>\n",
       "      <th>6463</th>\n",
       "      <td>f608bb02a0b91160b07fb867bbec84ad</td>\n",
       "      <td>Pleural thickening</td>\n",
       "      <td>13</td>\n",
       "      <td>R10</td>\n",
       "      <td>545.0</td>\n",
       "      <td>285.0</td>\n",
       "      <td>863.0</td>\n",
       "      <td>431.0</td>\n",
       "      <td>46428.0</td>\n",
       "    </tr>\n",
       "    <tr>\n",
       "      <th>6468</th>\n",
       "      <td>f5647785cac236ffe0ec3287f9f6aa84</td>\n",
       "      <td>Other lesion</td>\n",
       "      <td>11</td>\n",
       "      <td>R10</td>\n",
       "      <td>859.0</td>\n",
       "      <td>792.0</td>\n",
       "      <td>1083.0</td>\n",
       "      <td>1189.0</td>\n",
       "      <td>88928.0</td>\n",
       "    </tr>\n",
       "    <tr>\n",
       "      <th>6485</th>\n",
       "      <td>662fe30af3399b56c1579e95b0c6c87e</td>\n",
       "      <td>Lung Opacity</td>\n",
       "      <td>9</td>\n",
       "      <td>R8</td>\n",
       "      <td>2075.0</td>\n",
       "      <td>1011.0</td>\n",
       "      <td>2873.0</td>\n",
       "      <td>2436.0</td>\n",
       "      <td>1137150.0</td>\n",
       "    </tr>\n",
       "    <tr>\n",
       "      <th>6487</th>\n",
       "      <td>0a0ac65c40a9ac441651e4bfbde03c4e</td>\n",
       "      <td>Pleural effusion</td>\n",
       "      <td>12</td>\n",
       "      <td>R10</td>\n",
       "      <td>1145.0</td>\n",
       "      <td>539.0</td>\n",
       "      <td>1781.0</td>\n",
       "      <td>1718.0</td>\n",
       "      <td>749844.0</td>\n",
       "    </tr>\n",
       "    <tr>\n",
       "      <th>...</th>\n",
       "      <td>...</td>\n",
       "      <td>...</td>\n",
       "      <td>...</td>\n",
       "      <td>...</td>\n",
       "      <td>...</td>\n",
       "      <td>...</td>\n",
       "      <td>...</td>\n",
       "      <td>...</td>\n",
       "      <td>...</td>\n",
       "    </tr>\n",
       "    <tr>\n",
       "      <th>67885</th>\n",
       "      <td>f4da0959856bcdd4b91e0c6949b109e3</td>\n",
       "      <td>Aortic enlargement</td>\n",
       "      <td>2</td>\n",
       "      <td>R9</td>\n",
       "      <td>1567.0</td>\n",
       "      <td>827.0</td>\n",
       "      <td>1830.0</td>\n",
       "      <td>1124.0</td>\n",
       "      <td>78111.0</td>\n",
       "    </tr>\n",
       "    <tr>\n",
       "      <th>67888</th>\n",
       "      <td>c75f825862144dbdff940d9c4ecccde8</td>\n",
       "      <td>Aortic enlargement</td>\n",
       "      <td>2</td>\n",
       "      <td>R8</td>\n",
       "      <td>1550.0</td>\n",
       "      <td>608.0</td>\n",
       "      <td>1890.0</td>\n",
       "      <td>1053.0</td>\n",
       "      <td>151300.0</td>\n",
       "    </tr>\n",
       "    <tr>\n",
       "      <th>67893</th>\n",
       "      <td>66332eb5425bcdc6854aae970cc656b9</td>\n",
       "      <td>Nodule/Mass</td>\n",
       "      <td>10</td>\n",
       "      <td>R8</td>\n",
       "      <td>2161.0</td>\n",
       "      <td>1600.0</td>\n",
       "      <td>2308.0</td>\n",
       "      <td>1758.0</td>\n",
       "      <td>23226.0</td>\n",
       "    </tr>\n",
       "    <tr>\n",
       "      <th>67897</th>\n",
       "      <td>857b9d89572e03adb17d0630b33709ea</td>\n",
       "      <td>Pleural thickening</td>\n",
       "      <td>13</td>\n",
       "      <td>R9</td>\n",
       "      <td>1314.0</td>\n",
       "      <td>494.0</td>\n",
       "      <td>1815.0</td>\n",
       "      <td>825.0</td>\n",
       "      <td>165831.0</td>\n",
       "    </tr>\n",
       "    <tr>\n",
       "      <th>67908</th>\n",
       "      <td>db169d0be36123bd55b866d6aa73983b</td>\n",
       "      <td>Other lesion</td>\n",
       "      <td>11</td>\n",
       "      <td>R8</td>\n",
       "      <td>6.0</td>\n",
       "      <td>670.0</td>\n",
       "      <td>272.0</td>\n",
       "      <td>1736.0</td>\n",
       "      <td>283556.0</td>\n",
       "    </tr>\n",
       "  </tbody>\n",
       "</table>\n",
       "<p>12701 rows × 9 columns</p>\n",
       "</div>"
      ],
      "text/plain": [
       "                               image_id          class_name  class_id rad_id  \\\n",
       "6461   ad74c895feae8a322c54bbce08626812        Cardiomegaly         5     R8   \n",
       "6463   f608bb02a0b91160b07fb867bbec84ad  Pleural thickening        13    R10   \n",
       "6468   f5647785cac236ffe0ec3287f9f6aa84        Other lesion        11    R10   \n",
       "6485   662fe30af3399b56c1579e95b0c6c87e        Lung Opacity         9     R8   \n",
       "6487   0a0ac65c40a9ac441651e4bfbde03c4e    Pleural effusion        12    R10   \n",
       "...                                 ...                 ...       ...    ...   \n",
       "67885  f4da0959856bcdd4b91e0c6949b109e3  Aortic enlargement         2     R9   \n",
       "67888  c75f825862144dbdff940d9c4ecccde8  Aortic enlargement         2     R8   \n",
       "67893  66332eb5425bcdc6854aae970cc656b9         Nodule/Mass        10     R8   \n",
       "67897  857b9d89572e03adb17d0630b33709ea  Pleural thickening        13     R9   \n",
       "67908  db169d0be36123bd55b866d6aa73983b        Other lesion        11     R8   \n",
       "\n",
       "        x_min   y_min   x_max   y_max       area  \n",
       "6461    933.0  1478.0  1877.0  1837.0   338896.0  \n",
       "6463    545.0   285.0   863.0   431.0    46428.0  \n",
       "6468    859.0   792.0  1083.0  1189.0    88928.0  \n",
       "6485   2075.0  1011.0  2873.0  2436.0  1137150.0  \n",
       "6487   1145.0   539.0  1781.0  1718.0   749844.0  \n",
       "...       ...     ...     ...     ...        ...  \n",
       "67885  1567.0   827.0  1830.0  1124.0    78111.0  \n",
       "67888  1550.0   608.0  1890.0  1053.0   151300.0  \n",
       "67893  2161.0  1600.0  2308.0  1758.0    23226.0  \n",
       "67897  1314.0   494.0  1815.0   825.0   165831.0  \n",
       "67908     6.0   670.0   272.0  1736.0   283556.0  \n",
       "\n",
       "[12701 rows x 9 columns]"
      ]
     },
     "execution_count": 17,
     "metadata": {},
     "output_type": "execute_result"
    }
   ],
   "source": [
    "valid_df"
   ]
  },
  {
   "cell_type": "markdown",
   "id": "dc379496",
   "metadata": {
    "papermill": {
     "duration": 0.013346,
     "end_time": "2022-11-30T01:05:47.507188",
     "exception": false,
     "start_time": "2022-11-30T01:05:47.493842",
     "status": "completed"
    },
    "tags": []
   },
   "source": [
    "## カスタムDataset"
   ]
  },
  {
   "cell_type": "code",
   "execution_count": 18,
   "id": "8d30d479",
   "metadata": {
    "execution": {
     "iopub.execute_input": "2022-11-30T01:05:47.535829Z",
     "iopub.status.busy": "2022-11-30T01:05:47.535548Z",
     "iopub.status.idle": "2022-11-30T01:05:47.556105Z",
     "shell.execute_reply": "2022-11-30T01:05:47.555285Z"
    },
    "papermill": {
     "duration": 0.037241,
     "end_time": "2022-11-30T01:05:47.557982",
     "exception": false,
     "start_time": "2022-11-30T01:05:47.520741",
     "status": "completed"
    },
    "tags": []
   },
   "outputs": [],
   "source": [
    "# カスタムDataset\n",
    "class VinBigDataset(Dataset): #Class to load Training Data\n",
    "    \n",
    "    def __init__(self, dataframe, image_dir, transforms=None,stat = 'Train'):\n",
    "        super().__init__()\n",
    "        \n",
    "        self.image_ids = dataframe[\"image_id\"].unique()   # 全量の画像ID\n",
    "        self.df = dataframe\n",
    "        self.image_dir = image_dir\n",
    "        self.transforms = transforms\n",
    "        self.stat = stat\n",
    "        \n",
    "        \n",
    "    def __getitem__(self, index):\n",
    "        if self.stat == 'Train':\n",
    "            \n",
    "            image_id = self.image_ids[index]    # indexに対応する画像ID(image_id)\n",
    "            #print('This image ID : {}'.format(image_id))\n",
    "            records = self.df[(self.df['image_id'] == image_id)]\n",
    "            records = records.reset_index(drop=True)\n",
    "\n",
    "            dicom = pydicom.dcmread(f\"{self.image_dir}/{image_id}.dicom\")  # DICOM形式データの読み込み\n",
    "\n",
    "            image = dicom.pixel_array\n",
    "\n",
    "            if \"PhotometricInterpretation\" in dicom:\n",
    "                if dicom.PhotometricInterpretation == \"MONOCHROME1\":\n",
    "                    image = np.amax(image) - image\n",
    "\n",
    "            intercept = dicom.RescaleIntercept if \"RescaleIntercept\" in dicom else 0.0\n",
    "            slope = dicom.RescaleSlope if \"RescaleSlope\" in dicom else 1.0\n",
    "\n",
    "            if slope != 1:\n",
    "                image = slope * image.astype(np.float64)\n",
    "                image = image.astype(np.int16)\n",
    "\n",
    "        \n",
    "            image += np.int16(intercept)        \n",
    "\n",
    "            image = np.stack([image, image, image])\n",
    "            image = image.astype('float32')\n",
    "            image = image - image.min()\n",
    "            image = image / image.max()\n",
    "            image = image * 255.0\n",
    "            image = image.transpose(1,2,0)\n",
    "\n",
    "            if records.loc[0, \"class_id\"] == 0:\n",
    "                records = records.loc[[0], :]\n",
    "\n",
    "            boxes = records[['x_min', 'y_min', 'x_max', 'y_max']].values\n",
    "            area = (boxes[:, 3] - boxes[:, 1]) * (boxes[:, 2] - boxes[:, 0])\n",
    "            area = torch.as_tensor(area, dtype=torch.float32)\n",
    "            labels = torch.tensor(records[\"class_id\"].values, dtype=torch.int64)\n",
    "\n",
    "            # suppose all instances are not crowd\n",
    "            iscrowd = torch.zeros((records.shape[0],), dtype=torch.int64)\n",
    "\n",
    "            target = {}\n",
    "            target['boxes'] = boxes\n",
    "            target['labels'] = labels\n",
    "            target['image_id'] = torch.tensor([index])\n",
    "            target['area'] = area\n",
    "            target['iscrowd'] = iscrowd\n",
    "\n",
    "            if self.transforms:\n",
    "                sample = {\n",
    "                    'image': image,\n",
    "                    'bboxes': target['boxes'],\n",
    "                    'labels': labels\n",
    "                }\n",
    "                sample = self.transforms(**sample)\n",
    "                image = sample['image']\n",
    "\n",
    "                target['boxes'] = torch.tensor(sample['bboxes'])\n",
    "\n",
    "            if target[\"boxes\"].shape[0] == 0:\n",
    "                # Albumentation cuts the target (class 14, 1x1px in the corner)\n",
    "                target[\"boxes\"] = torch.from_numpy(np.array([[0.0, 0.0, 1.0, 1.0]]))\n",
    "                target[\"area\"] = torch.tensor([1.0], dtype=torch.float32)\n",
    "                target[\"labels\"] = torch.tensor([0], dtype=torch.int64)\n",
    "            \n",
    "            #return image, target, image_ids\n",
    "            #return image, target, self.image_ids    # self.image_idsにしておかないと名前空間被るのでは？\n",
    "            return image, target, image_id     # image_idsでなくimage_idでは？\n",
    "        \n",
    "        else:\n",
    "                   \n",
    "            image_id = self.image_ids[index]\n",
    "            records = self.df[(self.df['image_id'] == image_id)]\n",
    "            records = records.reset_index(drop=True)\n",
    "\n",
    "            dicom = pydicom.dcmread(f\"{self.image_dir}/{image_id}.dicom\")\n",
    "\n",
    "            image = dicom.pixel_array\n",
    "\n",
    "            intercept = dicom.RescaleIntercept if \"RescaleIntercept\" in dicom else 0.0\n",
    "            slope = dicom.RescaleSlope if \"RescaleSlope\" in dicom else 1.0\n",
    "\n",
    "            if slope != 1:\n",
    "                image = slope * image.astype(np.float64)\n",
    "                image = image.astype(np.int16)\n",
    "\n",
    "            image += np.int16(intercept)        \n",
    "\n",
    "            image = np.stack([image, image, image])\n",
    "            image = image.astype('float32')\n",
    "            image = image - image.min()\n",
    "            image = image / image.max()\n",
    "            image = image * 255.0\n",
    "            image = image.transpose(1,2,0)\n",
    "\n",
    "            if self.transforms:\n",
    "                sample = {\n",
    "                    'image': image,\n",
    "                }\n",
    "                sample = self.transforms(**sample)\n",
    "                image = sample['image']\n",
    "\n",
    "            return image, image_id\n",
    "    \n",
    "    def __len__(self):\n",
    "        return self.image_ids.shape[0]"
   ]
  },
  {
   "cell_type": "code",
   "execution_count": 19,
   "id": "9dd7b2c6",
   "metadata": {
    "execution": {
     "iopub.execute_input": "2022-11-30T01:05:47.586347Z",
     "iopub.status.busy": "2022-11-30T01:05:47.585514Z",
     "iopub.status.idle": "2022-11-30T01:05:47.593744Z",
     "shell.execute_reply": "2022-11-30T01:05:47.592799Z"
    },
    "papermill": {
     "duration": 0.024692,
     "end_time": "2022-11-30T01:05:47.595930",
     "exception": false,
     "start_time": "2022-11-30T01:05:47.571238",
     "status": "completed"
    },
    "tags": []
   },
   "outputs": [
    {
     "data": {
      "text/plain": [
       "'9a5094b2563a1ef3ff50dc5c7ff71345'"
      ]
     },
     "execution_count": 19,
     "metadata": {},
     "output_type": "execute_result"
    }
   ],
   "source": [
    "train_df[\"image_id\"].unique()[0]"
   ]
  },
  {
   "cell_type": "code",
   "execution_count": 20,
   "id": "ff2cc3db",
   "metadata": {
    "execution": {
     "iopub.execute_input": "2022-11-30T01:05:47.624420Z",
     "iopub.status.busy": "2022-11-30T01:05:47.623538Z",
     "iopub.status.idle": "2022-11-30T01:05:49.666665Z",
     "shell.execute_reply": "2022-11-30T01:05:49.665570Z"
    },
    "papermill": {
     "duration": 2.059773,
     "end_time": "2022-11-30T01:05:49.669060",
     "exception": false,
     "start_time": "2022-11-30T01:05:47.609287",
     "status": "completed"
    },
    "tags": []
   },
   "outputs": [
    {
     "name": "stdout",
     "output_type": "stream",
     "text": [
      "<class '__main__.VinBigDataset'>\n",
      "3\n"
     ]
    },
    {
     "data": {
      "text/plain": [
       "(array([[[6.2271066e-02, 6.2271066e-02, 6.2271066e-02],\n",
       "         [6.2271066e-02, 6.2271066e-02, 6.2271066e-02],\n",
       "         [0.0000000e+00, 0.0000000e+00, 0.0000000e+00],\n",
       "         ...,\n",
       "         [0.0000000e+00, 0.0000000e+00, 0.0000000e+00],\n",
       "         [0.0000000e+00, 0.0000000e+00, 0.0000000e+00],\n",
       "         [0.0000000e+00, 0.0000000e+00, 0.0000000e+00]],\n",
       " \n",
       "        [[6.2271066e-02, 6.2271066e-02, 6.2271066e-02],\n",
       "         [0.0000000e+00, 0.0000000e+00, 0.0000000e+00],\n",
       "         [0.0000000e+00, 0.0000000e+00, 0.0000000e+00],\n",
       "         ...,\n",
       "         [0.0000000e+00, 0.0000000e+00, 0.0000000e+00],\n",
       "         [0.0000000e+00, 0.0000000e+00, 0.0000000e+00],\n",
       "         [0.0000000e+00, 0.0000000e+00, 0.0000000e+00]],\n",
       " \n",
       "        [[0.0000000e+00, 0.0000000e+00, 0.0000000e+00],\n",
       "         [0.0000000e+00, 0.0000000e+00, 0.0000000e+00],\n",
       "         [0.0000000e+00, 0.0000000e+00, 0.0000000e+00],\n",
       "         ...,\n",
       "         [0.0000000e+00, 0.0000000e+00, 0.0000000e+00],\n",
       "         [0.0000000e+00, 0.0000000e+00, 0.0000000e+00],\n",
       "         [0.0000000e+00, 0.0000000e+00, 0.0000000e+00]],\n",
       " \n",
       "        ...,\n",
       " \n",
       "        [[2.5500000e+02, 2.5500000e+02, 2.5500000e+02],\n",
       "         [0.0000000e+00, 0.0000000e+00, 0.0000000e+00],\n",
       "         [7.8523811e+01, 7.8523811e+01, 7.8523811e+01],\n",
       "         ...,\n",
       "         [2.8021979e+00, 2.8021979e+00, 2.8021979e+00],\n",
       "         [1.7435898e+00, 1.7435898e+00, 1.7435898e+00],\n",
       "         [1.2454213e-01, 1.2454213e-01, 1.2454213e-01]],\n",
       " \n",
       "        [[2.5500000e+02, 2.5500000e+02, 2.5500000e+02],\n",
       "         [0.0000000e+00, 0.0000000e+00, 0.0000000e+00],\n",
       "         [7.7340660e+01, 7.7340660e+01, 7.7340660e+01],\n",
       "         ...,\n",
       "         [3.0512822e+00, 3.0512822e+00, 3.0512822e+00],\n",
       "         [1.9304029e+00, 1.9304029e+00, 1.9304029e+00],\n",
       "         [4.3589744e-01, 4.3589744e-01, 4.3589744e-01]],\n",
       " \n",
       "        [[2.5500000e+02, 2.5500000e+02, 2.5500000e+02],\n",
       "         [0.0000000e+00, 0.0000000e+00, 0.0000000e+00],\n",
       "         [7.9333336e+01, 7.9333336e+01, 7.9333336e+01],\n",
       "         ...,\n",
       "         [3.4871795e+00, 3.4871795e+00, 3.4871795e+00],\n",
       "         [2.0549452e+00, 2.0549452e+00, 2.0549452e+00],\n",
       "         [6.8498170e-01, 6.8498170e-01, 6.8498170e-01]]], dtype=float32),\n",
       " {'boxes': array([[ 691., 1375., 1653., 1831.],\n",
       "         [1789., 1729., 1875., 1992.],\n",
       "         [1789., 1729., 1875., 1992.],\n",
       "         [ 692., 1375., 1657., 1799.],\n",
       "         [ 689., 1313., 1666., 1763.],\n",
       "         [1052.,  715., 1299.,  966.]]),\n",
       "  'labels': tensor([ 5, 12, 13,  5,  5,  2]),\n",
       "  'image_id': tensor([0]),\n",
       "  'area': tensor([438672.,  22618.,  22618., 409160., 439650.,  61997.]),\n",
       "  'iscrowd': tensor([0, 0, 0, 0, 0, 0])},\n",
       " '9a5094b2563a1ef3ff50dc5c7ff71345')"
      ]
     },
     "execution_count": 20,
     "metadata": {},
     "output_type": "execute_result"
    }
   ],
   "source": [
    "tmp_customds = VinBigDataset(dataframe=train_df, image_dir=DIR_TRAIN, transforms=None, stat='Train')\n",
    "print(type(tmp_customds))\n",
    "\n",
    "img_idx = 0   # 確認用画像インデックス\n",
    "print(len(tmp_customds[img_idx]))   # 3つの返り値\n",
    "tmp_customds[img_idx]"
   ]
  },
  {
   "cell_type": "code",
   "execution_count": 21,
   "id": "835aa43b",
   "metadata": {
    "execution": {
     "iopub.execute_input": "2022-11-30T01:05:49.699683Z",
     "iopub.status.busy": "2022-11-30T01:05:49.699362Z",
     "iopub.status.idle": "2022-11-30T01:05:49.716484Z",
     "shell.execute_reply": "2022-11-30T01:05:49.715571Z"
    },
    "papermill": {
     "duration": 0.034346,
     "end_time": "2022-11-30T01:05:49.718453",
     "exception": false,
     "start_time": "2022-11-30T01:05:49.684107",
     "status": "completed"
    },
    "tags": []
   },
   "outputs": [
    {
     "data": {
      "text/html": [
       "<div>\n",
       "<style scoped>\n",
       "    .dataframe tbody tr th:only-of-type {\n",
       "        vertical-align: middle;\n",
       "    }\n",
       "\n",
       "    .dataframe tbody tr th {\n",
       "        vertical-align: top;\n",
       "    }\n",
       "\n",
       "    .dataframe thead th {\n",
       "        text-align: right;\n",
       "    }\n",
       "</style>\n",
       "<table border=\"1\" class=\"dataframe\">\n",
       "  <thead>\n",
       "    <tr style=\"text-align: right;\">\n",
       "      <th></th>\n",
       "      <th>image_id</th>\n",
       "      <th>class_name</th>\n",
       "      <th>class_id</th>\n",
       "      <th>rad_id</th>\n",
       "      <th>x_min</th>\n",
       "      <th>y_min</th>\n",
       "      <th>x_max</th>\n",
       "      <th>y_max</th>\n",
       "    </tr>\n",
       "  </thead>\n",
       "  <tbody>\n",
       "    <tr>\n",
       "      <th>2</th>\n",
       "      <td>9a5094b2563a1ef3ff50dc5c7ff71345</td>\n",
       "      <td>Cardiomegaly</td>\n",
       "      <td>5</td>\n",
       "      <td>R10</td>\n",
       "      <td>691.0</td>\n",
       "      <td>1375.0</td>\n",
       "      <td>1653.0</td>\n",
       "      <td>1831.0</td>\n",
       "    </tr>\n",
       "    <tr>\n",
       "      <th>5517</th>\n",
       "      <td>9a5094b2563a1ef3ff50dc5c7ff71345</td>\n",
       "      <td>Pleural effusion</td>\n",
       "      <td>12</td>\n",
       "      <td>R9</td>\n",
       "      <td>1789.0</td>\n",
       "      <td>1729.0</td>\n",
       "      <td>1875.0</td>\n",
       "      <td>1992.0</td>\n",
       "    </tr>\n",
       "    <tr>\n",
       "      <th>25023</th>\n",
       "      <td>9a5094b2563a1ef3ff50dc5c7ff71345</td>\n",
       "      <td>Pleural thickening</td>\n",
       "      <td>13</td>\n",
       "      <td>R9</td>\n",
       "      <td>1789.0</td>\n",
       "      <td>1729.0</td>\n",
       "      <td>1875.0</td>\n",
       "      <td>1992.0</td>\n",
       "    </tr>\n",
       "    <tr>\n",
       "      <th>26165</th>\n",
       "      <td>9a5094b2563a1ef3ff50dc5c7ff71345</td>\n",
       "      <td>Cardiomegaly</td>\n",
       "      <td>5</td>\n",
       "      <td>R9</td>\n",
       "      <td>692.0</td>\n",
       "      <td>1375.0</td>\n",
       "      <td>1657.0</td>\n",
       "      <td>1799.0</td>\n",
       "    </tr>\n",
       "    <tr>\n",
       "      <th>42709</th>\n",
       "      <td>9a5094b2563a1ef3ff50dc5c7ff71345</td>\n",
       "      <td>Cardiomegaly</td>\n",
       "      <td>5</td>\n",
       "      <td>R8</td>\n",
       "      <td>689.0</td>\n",
       "      <td>1313.0</td>\n",
       "      <td>1666.0</td>\n",
       "      <td>1763.0</td>\n",
       "    </tr>\n",
       "    <tr>\n",
       "      <th>53473</th>\n",
       "      <td>9a5094b2563a1ef3ff50dc5c7ff71345</td>\n",
       "      <td>Aortic enlargement</td>\n",
       "      <td>2</td>\n",
       "      <td>R9</td>\n",
       "      <td>1052.0</td>\n",
       "      <td>715.0</td>\n",
       "      <td>1299.0</td>\n",
       "      <td>966.0</td>\n",
       "    </tr>\n",
       "  </tbody>\n",
       "</table>\n",
       "</div>"
      ],
      "text/plain": [
       "                               image_id          class_name  class_id rad_id  \\\n",
       "2      9a5094b2563a1ef3ff50dc5c7ff71345        Cardiomegaly         5    R10   \n",
       "5517   9a5094b2563a1ef3ff50dc5c7ff71345    Pleural effusion        12     R9   \n",
       "25023  9a5094b2563a1ef3ff50dc5c7ff71345  Pleural thickening        13     R9   \n",
       "26165  9a5094b2563a1ef3ff50dc5c7ff71345        Cardiomegaly         5     R9   \n",
       "42709  9a5094b2563a1ef3ff50dc5c7ff71345        Cardiomegaly         5     R8   \n",
       "53473  9a5094b2563a1ef3ff50dc5c7ff71345  Aortic enlargement         2     R9   \n",
       "\n",
       "        x_min   y_min   x_max   y_max  \n",
       "2       691.0  1375.0  1653.0  1831.0  \n",
       "5517   1789.0  1729.0  1875.0  1992.0  \n",
       "25023  1789.0  1729.0  1875.0  1992.0  \n",
       "26165   692.0  1375.0  1657.0  1799.0  \n",
       "42709   689.0  1313.0  1666.0  1763.0  \n",
       "53473  1052.0   715.0  1299.0   966.0  "
      ]
     },
     "execution_count": 21,
     "metadata": {},
     "output_type": "execute_result"
    }
   ],
   "source": [
    "train_df[train_df['image_id']=='9a5094b2563a1ef3ff50dc5c7ff71345']"
   ]
  },
  {
   "cell_type": "code",
   "execution_count": 22,
   "id": "03d69b5d",
   "metadata": {
    "execution": {
     "iopub.execute_input": "2022-11-30T01:05:49.747582Z",
     "iopub.status.busy": "2022-11-30T01:05:49.747322Z",
     "iopub.status.idle": "2022-11-30T01:05:51.665340Z",
     "shell.execute_reply": "2022-11-30T01:05:51.664210Z"
    },
    "papermill": {
     "duration": 1.939054,
     "end_time": "2022-11-30T01:05:51.671301",
     "exception": false,
     "start_time": "2022-11-30T01:05:49.732247",
     "status": "completed"
    },
    "tags": []
   },
   "outputs": [
    {
     "name": "stdout",
     "output_type": "stream",
     "text": [
      "<class 'numpy.ndarray'>\n"
     ]
    },
    {
     "data": {
      "text/plain": [
       "(2336, 2080, 3)"
      ]
     },
     "execution_count": 22,
     "metadata": {},
     "output_type": "execute_result"
    }
   ],
   "source": [
    "## VinBigDatasetの返り値の1番目\n",
    "\n",
    "print(type(tmp_customds[img_idx][0]))\n",
    "tmp_customds[img_idx][0].shape   # 画像のサイズ"
   ]
  },
  {
   "cell_type": "code",
   "execution_count": 23,
   "id": "4051ec77",
   "metadata": {
    "execution": {
     "iopub.execute_input": "2022-11-30T01:05:51.738966Z",
     "iopub.status.busy": "2022-11-30T01:05:51.738321Z",
     "iopub.status.idle": "2022-11-30T01:05:53.874794Z",
     "shell.execute_reply": "2022-11-30T01:05:53.873617Z"
    },
    "papermill": {
     "duration": 2.177112,
     "end_time": "2022-11-30T01:05:53.877806",
     "exception": false,
     "start_time": "2022-11-30T01:05:51.700694",
     "status": "completed"
    },
    "tags": []
   },
   "outputs": [
    {
     "data": {
      "text/plain": [
       "(0.0, 255.0)"
      ]
     },
     "execution_count": 23,
     "metadata": {},
     "output_type": "execute_result"
    }
   ],
   "source": [
    "tmp_customds[img_idx][0].flatten().min(), tmp_customds[img_idx][0].flatten().max()\n",
    "# [0,255]のスケール"
   ]
  },
  {
   "cell_type": "code",
   "execution_count": 24,
   "id": "d38af72e",
   "metadata": {
    "execution": {
     "iopub.execute_input": "2022-11-30T01:05:53.908240Z",
     "iopub.status.busy": "2022-11-30T01:05:53.907925Z",
     "iopub.status.idle": "2022-11-30T01:05:56.629473Z",
     "shell.execute_reply": "2022-11-30T01:05:56.628552Z"
    },
    "papermill": {
     "duration": 2.739244,
     "end_time": "2022-11-30T01:05:56.631695",
     "exception": false,
     "start_time": "2022-11-30T01:05:53.892451",
     "status": "completed"
    },
    "tags": []
   },
   "outputs": [
    {
     "data": {
      "text/plain": [
       "<matplotlib.image.AxesImage at 0x7fd40b551410>"
      ]
     },
     "execution_count": 24,
     "metadata": {},
     "output_type": "execute_result"
    },
    {
     "data": {
      "image/png": "[encoded data removed]",
      "text/plain": [
       "<Figure size 432x288 with 1 Axes>"
      ]
     },
     "metadata": {
      "needs_background": "light"
     },
     "output_type": "display_data"
    }
   ],
   "source": [
    "import scipy.stats\n",
    "plt.imshow(scipy.stats.zscore(tmp_customds[img_idx][0]))   # 正規化（mean=0, sd=1）への変換を実施してプロット"
   ]
  },
  {
   "cell_type": "code",
   "execution_count": 25,
   "id": "e249e2c3",
   "metadata": {
    "execution": {
     "iopub.execute_input": "2022-11-30T01:05:56.664930Z",
     "iopub.status.busy": "2022-11-30T01:05:56.664125Z",
     "iopub.status.idle": "2022-11-30T01:05:57.595184Z",
     "shell.execute_reply": "2022-11-30T01:05:57.593995Z"
    },
    "papermill": {
     "duration": 0.950432,
     "end_time": "2022-11-30T01:05:57.597988",
     "exception": false,
     "start_time": "2022-11-30T01:05:56.647556",
     "status": "completed"
    },
    "tags": []
   },
   "outputs": [
    {
     "data": {
      "text/plain": [
       "{'boxes': array([[ 691., 1375., 1653., 1831.],\n",
       "        [1789., 1729., 1875., 1992.],\n",
       "        [1789., 1729., 1875., 1992.],\n",
       "        [ 692., 1375., 1657., 1799.],\n",
       "        [ 689., 1313., 1666., 1763.],\n",
       "        [1052.,  715., 1299.,  966.]]),\n",
       " 'labels': tensor([ 5, 12, 13,  5,  5,  2]),\n",
       " 'image_id': tensor([0]),\n",
       " 'area': tensor([438672.,  22618.,  22618., 409160., 439650.,  61997.]),\n",
       " 'iscrowd': tensor([0, 0, 0, 0, 0, 0])}"
      ]
     },
     "execution_count": 25,
     "metadata": {},
     "output_type": "execute_result"
    }
   ],
   "source": [
    "## VinBigDatasetの返り値の2番目\n",
    "\n",
    "tmp_customds[img_idx][1]   # ラベル情報"
   ]
  },
  {
   "cell_type": "code",
   "execution_count": 26,
   "id": "3e435c2a",
   "metadata": {
    "execution": {
     "iopub.execute_input": "2022-11-30T01:05:57.630777Z",
     "iopub.status.busy": "2022-11-30T01:05:57.630462Z",
     "iopub.status.idle": "2022-11-30T01:05:58.572669Z",
     "shell.execute_reply": "2022-11-30T01:05:58.571094Z"
    },
    "papermill": {
     "duration": 0.962643,
     "end_time": "2022-11-30T01:05:58.576561",
     "exception": false,
     "start_time": "2022-11-30T01:05:57.613918",
     "status": "completed"
    },
    "tags": []
   },
   "outputs": [
    {
     "data": {
      "text/plain": [
       "'9a5094b2563a1ef3ff50dc5c7ff71345'"
      ]
     },
     "execution_count": 26,
     "metadata": {},
     "output_type": "execute_result"
    }
   ],
   "source": [
    "## VinBigDatasetの返り値の3番目\n",
    "\n",
    "tmp_customds[img_idx][2]    # 画像のID（image_id）"
   ]
  },
  {
   "cell_type": "markdown",
   "id": "a87d7cf6",
   "metadata": {
    "papermill": {
     "duration": 0.014943,
     "end_time": "2022-11-30T01:05:58.612798",
     "exception": false,
     "start_time": "2022-11-30T01:05:58.597855",
     "status": "completed"
    },
    "tags": []
   },
   "source": [
    "## 前処理、データ拡張"
   ]
  },
  {
   "cell_type": "code",
   "execution_count": 27,
   "id": "945d1214",
   "metadata": {
    "execution": {
     "iopub.execute_input": "2022-11-30T01:05:58.644323Z",
     "iopub.status.busy": "2022-11-30T01:05:58.644005Z",
     "iopub.status.idle": "2022-11-30T01:05:58.654306Z",
     "shell.execute_reply": "2022-11-30T01:05:58.653334Z"
    },
    "papermill": {
     "duration": 0.028558,
     "end_time": "2022-11-30T01:05:58.656266",
     "exception": false,
     "start_time": "2022-11-30T01:05:58.627708",
     "status": "completed"
    },
    "tags": []
   },
   "outputs": [],
   "source": [
    "def dilation(img): # custom image processing function\n",
    "    kernel = cv2.getStructuringElement(cv2.MORPH_ELLIPSE, tuple(np.random.randint(1, 6, 2)))\n",
    "    img = cv2.dilate(img, kernel, iterations=1)\n",
    "    return img\n",
    "\n",
    "class Dilation(ImageOnlyTransform):\n",
    "    def apply(self, img, **params):\n",
    "        return dilation(img)\n",
    "\n",
    "\n",
    "# Albumentations\n",
    "def get_train_transform():\n",
    "    return A.Compose([\n",
    "        A.Flip(0.5),\n",
    "        A.ShiftScaleRotate(scale_limit=0.1, rotate_limit=45, p=0.25),\n",
    "        A.LongestMaxSize(max_size=800, p=1.0),\n",
    "        Dilation(),\n",
    "        # FasterRCNN will normalize.\n",
    "        A.Normalize(mean=(0, 0, 0), std=(1, 1, 1), max_pixel_value=255.0, p=1.0),\n",
    "        ToTensorV2(p=1.0)\n",
    "    ], bbox_params={'format': 'pascal_voc', 'label_fields': ['labels']})\n",
    "\n",
    "def get_valid_transform():\n",
    "    return A.Compose([\n",
    "        A.Normalize(mean=(0, 0, 0), std=(1, 1, 1), max_pixel_value=255.0, p=1.0),\n",
    "        ToTensorV2(p=1.0)\n",
    "    ], bbox_params={'format': 'pascal_voc', 'label_fields': ['labels']})\n",
    "\n",
    "def get_test_transform():\n",
    "    return A.Compose([\n",
    "        A.Normalize(mean=(0, 0, 0), std=(1, 1, 1), max_pixel_value=255.0, p=1.0),\n",
    "        ToTensorV2(p=1.0)\n",
    "    ])"
   ]
  },
  {
   "cell_type": "markdown",
   "id": "4215c04f",
   "metadata": {
    "papermill": {
     "duration": 0.015093,
     "end_time": "2022-11-30T01:05:58.686845",
     "exception": false,
     "start_time": "2022-11-30T01:05:58.671752",
     "status": "completed"
    },
    "tags": []
   },
   "source": [
    "## Model"
   ]
  },
  {
   "cell_type": "markdown",
   "id": "bae25ac4",
   "metadata": {
    "papermill": {
     "duration": 0.014734,
     "end_time": "2022-11-30T01:05:58.716518",
     "exception": false,
     "start_time": "2022-11-30T01:05:58.701784",
     "status": "completed"
    },
    "tags": []
   },
   "source": [
    "[orchvision.models.detection.fasterrcnn_resnet50_fpn](https://pytorch.org/vision/main/models/generated/torchvision.models.detection.fasterrcnn_resnet50_fpn.html)"
   ]
  },
  {
   "cell_type": "code",
   "execution_count": 28,
   "id": "1587afbb",
   "metadata": {
    "_kg_hide-input": false,
    "_kg_hide-output": true,
    "execution": {
     "iopub.execute_input": "2022-11-30T01:05:58.747987Z",
     "iopub.status.busy": "2022-11-30T01:05:58.747704Z",
     "iopub.status.idle": "2022-11-30T01:06:00.508283Z",
     "shell.execute_reply": "2022-11-30T01:06:00.507331Z"
    },
    "papermill": {
     "duration": 1.778803,
     "end_time": "2022-11-30T01:06:00.510553",
     "exception": false,
     "start_time": "2022-11-30T01:05:58.731750",
     "status": "completed"
    },
    "tags": []
   },
   "outputs": [
    {
     "name": "stderr",
     "output_type": "stream",
     "text": [
      "Downloading: \"https://download.pytorch.org/models/fasterrcnn_resnet50_fpn_coco-258fb6c6.pth\" to /root/.cache/torch/hub/checkpoints/fasterrcnn_resnet50_fpn_coco-258fb6c6.pth\n"
     ]
    },
    {
     "data": {
      "application/vnd.jupyter.widget-view+json": {
       "model_id": "92dda493484e46588c9d6f62fd4ec2ca",
       "version_major": 2,
       "version_minor": 0
      },
      "text/plain": [
       "  0%|          | 0.00/160M [00:00<?, ?B/s]"
      ]
     },
     "metadata": {},
     "output_type": "display_data"
    },
    {
     "data": {
      "text/plain": [
       "FasterRCNN(\n",
       "  (transform): GeneralizedRCNNTransform(\n",
       "      Normalize(mean=[0.485, 0.456, 0.406], std=[0.229, 0.224, 0.225])\n",
       "      Resize(min_size=(800,), max_size=1333, mode='bilinear')\n",
       "  )\n",
       "  (backbone): BackboneWithFPN(\n",
       "    (body): IntermediateLayerGetter(\n",
       "      (conv1): Conv2d(3, 64, kernel_size=(7, 7), stride=(2, 2), padding=(3, 3), bias=False)\n",
       "      (bn1): FrozenBatchNorm2d(64, eps=0.0)\n",
       "      (relu): ReLU(inplace=True)\n",
       "      (maxpool): MaxPool2d(kernel_size=3, stride=2, padding=1, dilation=1, ceil_mode=False)\n",
       "      (layer1): Sequential(\n",
       "        (0): Bottleneck(\n",
       "          (conv1): Conv2d(64, 64, kernel_size=(1, 1), stride=(1, 1), bias=False)\n",
       "          (bn1): FrozenBatchNorm2d(64, eps=0.0)\n",
       "          (conv2): Conv2d(64, 64, kernel_size=(3, 3), stride=(1, 1), padding=(1, 1), bias=False)\n",
       "          (bn2): FrozenBatchNorm2d(64, eps=0.0)\n",
       "          (conv3): Conv2d(64, 256, kernel_size=(1, 1), stride=(1, 1), bias=False)\n",
       "          (bn3): FrozenBatchNorm2d(256, eps=0.0)\n",
       "          (relu): ReLU(inplace=True)\n",
       "          (downsample): Sequential(\n",
       "            (0): Conv2d(64, 256, kernel_size=(1, 1), stride=(1, 1), bias=False)\n",
       "            (1): FrozenBatchNorm2d(256, eps=0.0)\n",
       "          )\n",
       "        )\n",
       "        (1): Bottleneck(\n",
       "          (conv1): Conv2d(256, 64, kernel_size=(1, 1), stride=(1, 1), bias=False)\n",
       "          (bn1): FrozenBatchNorm2d(64, eps=0.0)\n",
       "          (conv2): Conv2d(64, 64, kernel_size=(3, 3), stride=(1, 1), padding=(1, 1), bias=False)\n",
       "          (bn2): FrozenBatchNorm2d(64, eps=0.0)\n",
       "          (conv3): Conv2d(64, 256, kernel_size=(1, 1), stride=(1, 1), bias=False)\n",
       "          (bn3): FrozenBatchNorm2d(256, eps=0.0)\n",
       "          (relu): ReLU(inplace=True)\n",
       "        )\n",
       "        (2): Bottleneck(\n",
       "          (conv1): Conv2d(256, 64, kernel_size=(1, 1), stride=(1, 1), bias=False)\n",
       "          (bn1): FrozenBatchNorm2d(64, eps=0.0)\n",
       "          (conv2): Conv2d(64, 64, kernel_size=(3, 3), stride=(1, 1), padding=(1, 1), bias=False)\n",
       "          (bn2): FrozenBatchNorm2d(64, eps=0.0)\n",
       "          (conv3): Conv2d(64, 256, kernel_size=(1, 1), stride=(1, 1), bias=False)\n",
       "          (bn3): FrozenBatchNorm2d(256, eps=0.0)\n",
       "          (relu): ReLU(inplace=True)\n",
       "        )\n",
       "      )\n",
       "      (layer2): Sequential(\n",
       "        (0): Bottleneck(\n",
       "          (conv1): Conv2d(256, 128, kernel_size=(1, 1), stride=(1, 1), bias=False)\n",
       "          (bn1): FrozenBatchNorm2d(128, eps=0.0)\n",
       "          (conv2): Conv2d(128, 128, kernel_size=(3, 3), stride=(2, 2), padding=(1, 1), bias=False)\n",
       "          (bn2): FrozenBatchNorm2d(128, eps=0.0)\n",
       "          (conv3): Conv2d(128, 512, kernel_size=(1, 1), stride=(1, 1), bias=False)\n",
       "          (bn3): FrozenBatchNorm2d(512, eps=0.0)\n",
       "          (relu): ReLU(inplace=True)\n",
       "          (downsample): Sequential(\n",
       "            (0): Conv2d(256, 512, kernel_size=(1, 1), stride=(2, 2), bias=False)\n",
       "            (1): FrozenBatchNorm2d(512, eps=0.0)\n",
       "          )\n",
       "        )\n",
       "        (1): Bottleneck(\n",
       "          (conv1): Conv2d(512, 128, kernel_size=(1, 1), stride=(1, 1), bias=False)\n",
       "          (bn1): FrozenBatchNorm2d(128, eps=0.0)\n",
       "          (conv2): Conv2d(128, 128, kernel_size=(3, 3), stride=(1, 1), padding=(1, 1), bias=False)\n",
       "          (bn2): FrozenBatchNorm2d(128, eps=0.0)\n",
       "          (conv3): Conv2d(128, 512, kernel_size=(1, 1), stride=(1, 1), bias=False)\n",
       "          (bn3): FrozenBatchNorm2d(512, eps=0.0)\n",
       "          (relu): ReLU(inplace=True)\n",
       "        )\n",
       "        (2): Bottleneck(\n",
       "          (conv1): Conv2d(512, 128, kernel_size=(1, 1), stride=(1, 1), bias=False)\n",
       "          (bn1): FrozenBatchNorm2d(128, eps=0.0)\n",
       "          (conv2): Conv2d(128, 128, kernel_size=(3, 3), stride=(1, 1), padding=(1, 1), bias=False)\n",
       "          (bn2): FrozenBatchNorm2d(128, eps=0.0)\n",
       "          (conv3): Conv2d(128, 512, kernel_size=(1, 1), stride=(1, 1), bias=False)\n",
       "          (bn3): FrozenBatchNorm2d(512, eps=0.0)\n",
       "          (relu): ReLU(inplace=True)\n",
       "        )\n",
       "        (3): Bottleneck(\n",
       "          (conv1): Conv2d(512, 128, kernel_size=(1, 1), stride=(1, 1), bias=False)\n",
       "          (bn1): FrozenBatchNorm2d(128, eps=0.0)\n",
       "          (conv2): Conv2d(128, 128, kernel_size=(3, 3), stride=(1, 1), padding=(1, 1), bias=False)\n",
       "          (bn2): FrozenBatchNorm2d(128, eps=0.0)\n",
       "          (conv3): Conv2d(128, 512, kernel_size=(1, 1), stride=(1, 1), bias=False)\n",
       "          (bn3): FrozenBatchNorm2d(512, eps=0.0)\n",
       "          (relu): ReLU(inplace=True)\n",
       "        )\n",
       "      )\n",
       "      (layer3): Sequential(\n",
       "        (0): Bottleneck(\n",
       "          (conv1): Conv2d(512, 256, kernel_size=(1, 1), stride=(1, 1), bias=False)\n",
       "          (bn1): FrozenBatchNorm2d(256, eps=0.0)\n",
       "          (conv2): Conv2d(256, 256, kernel_size=(3, 3), stride=(2, 2), padding=(1, 1), bias=False)\n",
       "          (bn2): FrozenBatchNorm2d(256, eps=0.0)\n",
       "          (conv3): Conv2d(256, 1024, kernel_size=(1, 1), stride=(1, 1), bias=False)\n",
       "          (bn3): FrozenBatchNorm2d(1024, eps=0.0)\n",
       "          (relu): ReLU(inplace=True)\n",
       "          (downsample): Sequential(\n",
       "            (0): Conv2d(512, 1024, kernel_size=(1, 1), stride=(2, 2), bias=False)\n",
       "            (1): FrozenBatchNorm2d(1024, eps=0.0)\n",
       "          )\n",
       "        )\n",
       "        (1): Bottleneck(\n",
       "          (conv1): Conv2d(1024, 256, kernel_size=(1, 1), stride=(1, 1), bias=False)\n",
       "          (bn1): FrozenBatchNorm2d(256, eps=0.0)\n",
       "          (conv2): Conv2d(256, 256, kernel_size=(3, 3), stride=(1, 1), padding=(1, 1), bias=False)\n",
       "          (bn2): FrozenBatchNorm2d(256, eps=0.0)\n",
       "          (conv3): Conv2d(256, 1024, kernel_size=(1, 1), stride=(1, 1), bias=False)\n",
       "          (bn3): FrozenBatchNorm2d(1024, eps=0.0)\n",
       "          (relu): ReLU(inplace=True)\n",
       "        )\n",
       "        (2): Bottleneck(\n",
       "          (conv1): Conv2d(1024, 256, kernel_size=(1, 1), stride=(1, 1), bias=False)\n",
       "          (bn1): FrozenBatchNorm2d(256, eps=0.0)\n",
       "          (conv2): Conv2d(256, 256, kernel_size=(3, 3), stride=(1, 1), padding=(1, 1), bias=False)\n",
       "          (bn2): FrozenBatchNorm2d(256, eps=0.0)\n",
       "          (conv3): Conv2d(256, 1024, kernel_size=(1, 1), stride=(1, 1), bias=False)\n",
       "          (bn3): FrozenBatchNorm2d(1024, eps=0.0)\n",
       "          (relu): ReLU(inplace=True)\n",
       "        )\n",
       "        (3): Bottleneck(\n",
       "          (conv1): Conv2d(1024, 256, kernel_size=(1, 1), stride=(1, 1), bias=False)\n",
       "          (bn1): FrozenBatchNorm2d(256, eps=0.0)\n",
       "          (conv2): Conv2d(256, 256, kernel_size=(3, 3), stride=(1, 1), padding=(1, 1), bias=False)\n",
       "          (bn2): FrozenBatchNorm2d(256, eps=0.0)\n",
       "          (conv3): Conv2d(256, 1024, kernel_size=(1, 1), stride=(1, 1), bias=False)\n",
       "          (bn3): FrozenBatchNorm2d(1024, eps=0.0)\n",
       "          (relu): ReLU(inplace=True)\n",
       "        )\n",
       "        (4): Bottleneck(\n",
       "          (conv1): Conv2d(1024, 256, kernel_size=(1, 1), stride=(1, 1), bias=False)\n",
       "          (bn1): FrozenBatchNorm2d(256, eps=0.0)\n",
       "          (conv2): Conv2d(256, 256, kernel_size=(3, 3), stride=(1, 1), padding=(1, 1), bias=False)\n",
       "          (bn2): FrozenBatchNorm2d(256, eps=0.0)\n",
       "          (conv3): Conv2d(256, 1024, kernel_size=(1, 1), stride=(1, 1), bias=False)\n",
       "          (bn3): FrozenBatchNorm2d(1024, eps=0.0)\n",
       "          (relu): ReLU(inplace=True)\n",
       "        )\n",
       "        (5): Bottleneck(\n",
       "          (conv1): Conv2d(1024, 256, kernel_size=(1, 1), stride=(1, 1), bias=False)\n",
       "          (bn1): FrozenBatchNorm2d(256, eps=0.0)\n",
       "          (conv2): Conv2d(256, 256, kernel_size=(3, 3), stride=(1, 1), padding=(1, 1), bias=False)\n",
       "          (bn2): FrozenBatchNorm2d(256, eps=0.0)\n",
       "          (conv3): Conv2d(256, 1024, kernel_size=(1, 1), stride=(1, 1), bias=False)\n",
       "          (bn3): FrozenBatchNorm2d(1024, eps=0.0)\n",
       "          (relu): ReLU(inplace=True)\n",
       "        )\n",
       "      )\n",
       "      (layer4): Sequential(\n",
       "        (0): Bottleneck(\n",
       "          (conv1): Conv2d(1024, 512, kernel_size=(1, 1), stride=(1, 1), bias=False)\n",
       "          (bn1): FrozenBatchNorm2d(512, eps=0.0)\n",
       "          (conv2): Conv2d(512, 512, kernel_size=(3, 3), stride=(2, 2), padding=(1, 1), bias=False)\n",
       "          (bn2): FrozenBatchNorm2d(512, eps=0.0)\n",
       "          (conv3): Conv2d(512, 2048, kernel_size=(1, 1), stride=(1, 1), bias=False)\n",
       "          (bn3): FrozenBatchNorm2d(2048, eps=0.0)\n",
       "          (relu): ReLU(inplace=True)\n",
       "          (downsample): Sequential(\n",
       "            (0): Conv2d(1024, 2048, kernel_size=(1, 1), stride=(2, 2), bias=False)\n",
       "            (1): FrozenBatchNorm2d(2048, eps=0.0)\n",
       "          )\n",
       "        )\n",
       "        (1): Bottleneck(\n",
       "          (conv1): Conv2d(2048, 512, kernel_size=(1, 1), stride=(1, 1), bias=False)\n",
       "          (bn1): FrozenBatchNorm2d(512, eps=0.0)\n",
       "          (conv2): Conv2d(512, 512, kernel_size=(3, 3), stride=(1, 1), padding=(1, 1), bias=False)\n",
       "          (bn2): FrozenBatchNorm2d(512, eps=0.0)\n",
       "          (conv3): Conv2d(512, 2048, kernel_size=(1, 1), stride=(1, 1), bias=False)\n",
       "          (bn3): FrozenBatchNorm2d(2048, eps=0.0)\n",
       "          (relu): ReLU(inplace=True)\n",
       "        )\n",
       "        (2): Bottleneck(\n",
       "          (conv1): Conv2d(2048, 512, kernel_size=(1, 1), stride=(1, 1), bias=False)\n",
       "          (bn1): FrozenBatchNorm2d(512, eps=0.0)\n",
       "          (conv2): Conv2d(512, 512, kernel_size=(3, 3), stride=(1, 1), padding=(1, 1), bias=False)\n",
       "          (bn2): FrozenBatchNorm2d(512, eps=0.0)\n",
       "          (conv3): Conv2d(512, 2048, kernel_size=(1, 1), stride=(1, 1), bias=False)\n",
       "          (bn3): FrozenBatchNorm2d(2048, eps=0.0)\n",
       "          (relu): ReLU(inplace=True)\n",
       "        )\n",
       "      )\n",
       "    )\n",
       "    (fpn): FeaturePyramidNetwork(\n",
       "      (inner_blocks): ModuleList(\n",
       "        (0): Conv2d(256, 256, kernel_size=(1, 1), stride=(1, 1))\n",
       "        (1): Conv2d(512, 256, kernel_size=(1, 1), stride=(1, 1))\n",
       "        (2): Conv2d(1024, 256, kernel_size=(1, 1), stride=(1, 1))\n",
       "        (3): Conv2d(2048, 256, kernel_size=(1, 1), stride=(1, 1))\n",
       "      )\n",
       "      (layer_blocks): ModuleList(\n",
       "        (0): Conv2d(256, 256, kernel_size=(3, 3), stride=(1, 1), padding=(1, 1))\n",
       "        (1): Conv2d(256, 256, kernel_size=(3, 3), stride=(1, 1), padding=(1, 1))\n",
       "        (2): Conv2d(256, 256, kernel_size=(3, 3), stride=(1, 1), padding=(1, 1))\n",
       "        (3): Conv2d(256, 256, kernel_size=(3, 3), stride=(1, 1), padding=(1, 1))\n",
       "      )\n",
       "      (extra_blocks): LastLevelMaxPool()\n",
       "    )\n",
       "  )\n",
       "  (rpn): RegionProposalNetwork(\n",
       "    (anchor_generator): AnchorGenerator()\n",
       "    (head): RPNHead(\n",
       "      (conv): Conv2d(256, 256, kernel_size=(3, 3), stride=(1, 1), padding=(1, 1))\n",
       "      (cls_logits): Conv2d(256, 3, kernel_size=(1, 1), stride=(1, 1))\n",
       "      (bbox_pred): Conv2d(256, 12, kernel_size=(1, 1), stride=(1, 1))\n",
       "    )\n",
       "  )\n",
       "  (roi_heads): RoIHeads(\n",
       "    (box_roi_pool): MultiScaleRoIAlign(featmap_names=['0', '1', '2', '3'], output_size=(7, 7), sampling_ratio=2)\n",
       "    (box_head): TwoMLPHead(\n",
       "      (fc6): Linear(in_features=12544, out_features=1024, bias=True)\n",
       "      (fc7): Linear(in_features=1024, out_features=1024, bias=True)\n",
       "    )\n",
       "    (box_predictor): FastRCNNPredictor(\n",
       "      (cls_score): Linear(in_features=1024, out_features=91, bias=True)\n",
       "      (bbox_pred): Linear(in_features=1024, out_features=364, bias=True)\n",
       "    )\n",
       "  )\n",
       ")"
      ]
     },
     "execution_count": 28,
     "metadata": {},
     "output_type": "execute_result"
    }
   ],
   "source": [
    "model = torchvision.models.detection.fasterrcnn_resnet50_fpn(pretrained=True)\n",
    "model"
   ]
  },
  {
   "cell_type": "code",
   "execution_count": 29,
   "id": "db93c8d9",
   "metadata": {
    "execution": {
     "iopub.execute_input": "2022-11-30T01:06:00.543790Z",
     "iopub.status.busy": "2022-11-30T01:06:00.542861Z",
     "iopub.status.idle": "2022-11-30T01:06:00.559215Z",
     "shell.execute_reply": "2022-11-30T01:06:00.558038Z"
    },
    "papermill": {
     "duration": 0.035242,
     "end_time": "2022-11-30T01:06:00.561678",
     "exception": false,
     "start_time": "2022-11-30T01:06:00.526436",
     "status": "completed"
    },
    "tags": []
   },
   "outputs": [
    {
     "name": "stdout",
     "output_type": "stream",
     "text": [
      "1024\n"
     ]
    },
    {
     "data": {
      "text/plain": [
       "FastRCNNPredictor(\n",
       "  (cls_score): Linear(in_features=1024, out_features=15, bias=True)\n",
       "  (bbox_pred): Linear(in_features=1024, out_features=60, bias=True)\n",
       ")"
      ]
     },
     "execution_count": 29,
     "metadata": {},
     "output_type": "execute_result"
    }
   ],
   "source": [
    "num_classes = 15   # 14 Classes + 1 background\n",
    "\n",
    "# get number of input features for the classifier\n",
    "in_features = model.roi_heads.box_predictor.cls_score.in_features\n",
    "print(in_features)    # 学習済みモデルのクラス数\n",
    "\n",
    "# replace the pre-trained head with a new one\n",
    "model.roi_heads.box_predictor = FastRCNNPredictor(in_features, num_classes)\n",
    "model.roi_heads.box_predictor"
   ]
  },
  {
   "cell_type": "code",
   "execution_count": 30,
   "id": "4b267e2d",
   "metadata": {
    "execution": {
     "iopub.execute_input": "2022-11-30T01:06:00.594756Z",
     "iopub.status.busy": "2022-11-30T01:06:00.593827Z",
     "iopub.status.idle": "2022-11-30T01:06:00.601268Z",
     "shell.execute_reply": "2022-11-30T01:06:00.600271Z"
    },
    "papermill": {
     "duration": 0.025987,
     "end_time": "2022-11-30T01:06:00.603172",
     "exception": false,
     "start_time": "2022-11-30T01:06:00.577185",
     "status": "completed"
    },
    "tags": []
   },
   "outputs": [
    {
     "data": {
      "text/plain": [
       "FastRCNNPredictor(\n",
       "  (cls_score): Linear(in_features=1024, out_features=15, bias=True)\n",
       "  (bbox_pred): Linear(in_features=1024, out_features=60, bias=True)\n",
       ")"
      ]
     },
     "execution_count": 30,
     "metadata": {},
     "output_type": "execute_result"
    }
   ],
   "source": [
    "FastRCNNPredictor(1024, 15)   # クラス数を変更すると、BBの数も自動で変更される（15*4=60）"
   ]
  },
  {
   "cell_type": "code",
   "execution_count": 31,
   "id": "69bab594",
   "metadata": {
    "execution": {
     "iopub.execute_input": "2022-11-30T01:06:00.635998Z",
     "iopub.status.busy": "2022-11-30T01:06:00.635360Z",
     "iopub.status.idle": "2022-11-30T01:06:00.639289Z",
     "shell.execute_reply": "2022-11-30T01:06:00.638332Z"
    },
    "papermill": {
     "duration": 0.022737,
     "end_time": "2022-11-30T01:06:00.641292",
     "exception": false,
     "start_time": "2022-11-30T01:06:00.618555",
     "status": "completed"
    },
    "tags": []
   },
   "outputs": [],
   "source": [
    "#model"
   ]
  },
  {
   "cell_type": "markdown",
   "id": "06a6909b",
   "metadata": {
    "papermill": {
     "duration": 0.015503,
     "end_time": "2022-11-30T01:06:00.672176",
     "exception": false,
     "start_time": "2022-11-30T01:06:00.656673",
     "status": "completed"
    },
    "tags": []
   },
   "source": [
    "## Dataloder"
   ]
  },
  {
   "cell_type": "code",
   "execution_count": 32,
   "id": "154b34e9",
   "metadata": {
    "execution": {
     "iopub.execute_input": "2022-11-30T01:06:00.705093Z",
     "iopub.status.busy": "2022-11-30T01:06:00.703722Z",
     "iopub.status.idle": "2022-11-30T01:06:00.783459Z",
     "shell.execute_reply": "2022-11-30T01:06:00.782469Z"
    },
    "papermill": {
     "duration": 0.098206,
     "end_time": "2022-11-30T01:06:00.785740",
     "exception": false,
     "start_time": "2022-11-30T01:06:00.687534",
     "status": "completed"
    },
    "tags": []
   },
   "outputs": [
    {
     "name": "stdout",
     "output_type": "stream",
     "text": [
      "cuda\n",
      "2208\n"
     ]
    },
    {
     "data": {
      "text/plain": [
       "(<torch.utils.data.dataloader.DataLoader at 0x7fd40aa2afd0>,\n",
       " <torch.utils.data.dataloader.DataLoader at 0x7fd40aa2f5d0>)"
      ]
     },
     "execution_count": 32,
     "metadata": {},
     "output_type": "execute_result"
    }
   ],
   "source": [
    "device = torch.device('cuda') if torch.cuda.is_available() else torch.device('cpu')\n",
    "print(device)\n",
    "\n",
    "def collate_fn(batch):\n",
    "    return tuple(zip(*batch))\n",
    "\n",
    "train_dataset = VinBigDataset(train_df, DIR_TRAIN, get_train_transform())\n",
    "valid_dataset = VinBigDataset(valid_df, DIR_TRAIN, get_valid_transform())\n",
    "\n",
    "\n",
    "# split the dataset in train and test set\n",
    "indices = torch.randperm(len(train_dataset)).tolist()   # 0~len(train_dataset)の間の整数をランダムに並べ替え\n",
    "print(len(indices))\n",
    "\n",
    "# Create train and validate data loader\n",
    "train_data_loader = DataLoader(\n",
    "    train_dataset,\n",
    "    batch_size=8,\n",
    "    #batch_size=16,\n",
    "    shuffle=True,\n",
    "    num_workers=4,\n",
    "    collate_fn=collate_fn\n",
    ")\n",
    "\n",
    "valid_data_loader = DataLoader(\n",
    "    valid_dataset,\n",
    "    batch_size=8,\n",
    "    #batch_size=16,\n",
    "    shuffle=False,\n",
    "    num_workers=4,\n",
    "    collate_fn=collate_fn\n",
    ")\n",
    "\n",
    "train_data_loader, valid_data_loader"
   ]
  },
  {
   "cell_type": "code",
   "execution_count": 33,
   "id": "337e9ef9",
   "metadata": {
    "execution": {
     "iopub.execute_input": "2022-11-30T01:06:00.818347Z",
     "iopub.status.busy": "2022-11-30T01:06:00.818083Z",
     "iopub.status.idle": "2022-11-30T01:06:20.688807Z",
     "shell.execute_reply": "2022-11-30T01:06:20.680671Z"
    },
    "papermill": {
     "duration": 19.892293,
     "end_time": "2022-11-30T01:06:20.693875",
     "exception": false,
     "start_time": "2022-11-30T01:06:00.801582",
     "status": "completed"
    },
    "tags": []
   },
   "outputs": [
    {
     "data": {
      "text/plain": [
       "3"
      ]
     },
     "execution_count": 33,
     "metadata": {},
     "output_type": "execute_result"
    }
   ],
   "source": [
    "dl_test = iter(train_data_loader)\n",
    "dl_return = next(dl_test)\n",
    "len(dl_return)  # 3つの返り値"
   ]
  },
  {
   "cell_type": "code",
   "execution_count": 34,
   "id": "8677ba83",
   "metadata": {
    "execution": {
     "iopub.execute_input": "2022-11-30T01:06:20.923228Z",
     "iopub.status.busy": "2022-11-30T01:06:20.921578Z",
     "iopub.status.idle": "2022-11-30T01:06:20.946084Z",
     "shell.execute_reply": "2022-11-30T01:06:20.944261Z"
    },
    "papermill": {
     "duration": 0.15417,
     "end_time": "2022-11-30T01:06:20.957352",
     "exception": false,
     "start_time": "2022-11-30T01:06:20.803182",
     "status": "completed"
    },
    "tags": []
   },
   "outputs": [
    {
     "name": "stdout",
     "output_type": "stream",
     "text": [
      "8\n"
     ]
    },
    {
     "data": {
      "text/plain": [
       "torch.Size([3, 800, 640])"
      ]
     },
     "execution_count": 34,
     "metadata": {},
     "output_type": "execute_result"
    }
   ],
   "source": [
    "# 1つめ\n",
    "print(len(dl_return[0]))\n",
    "dl_return[0][0].shape"
   ]
  },
  {
   "cell_type": "code",
   "execution_count": 35,
   "id": "fc0db035",
   "metadata": {
    "execution": {
     "iopub.execute_input": "2022-11-30T01:06:21.098513Z",
     "iopub.status.busy": "2022-11-30T01:06:21.097772Z",
     "iopub.status.idle": "2022-11-30T01:06:21.125609Z",
     "shell.execute_reply": "2022-11-30T01:06:21.124725Z"
    },
    "papermill": {
     "duration": 0.084424,
     "end_time": "2022-11-30T01:06:21.128934",
     "exception": false,
     "start_time": "2022-11-30T01:06:21.044510",
     "status": "completed"
    },
    "tags": []
   },
   "outputs": [
    {
     "name": "stdout",
     "output_type": "stream",
     "text": [
      "8\n"
     ]
    },
    {
     "data": {
      "text/plain": [
       "{'boxes': tensor([[229.1667, 593.8889, 248.8889, 619.7222],\n",
       "         [132.7778, 480.8333, 176.3889, 506.6667],\n",
       "         [518.8889, 413.3333, 547.5000, 450.5556],\n",
       "         [229.7222, 465.0000, 305.8333, 535.0000],\n",
       "         [508.3333, 345.8333, 528.8889, 365.5556],\n",
       "         [ 92.7778, 340.5556, 117.2222, 376.3889],\n",
       "         [583.6111, 567.7778, 608.6111, 602.2222],\n",
       "         [348.6111, 634.4444, 446.9444, 652.5000],\n",
       "         [ 74.4444, 249.4444, 108.0556, 301.1111],\n",
       "         [508.0556, 344.7222, 546.3889, 376.1111],\n",
       "         [509.1667, 345.0000, 530.8333, 366.3889],\n",
       "         [538.8889, 226.3889, 559.1667, 248.0556],\n",
       "         [538.0556, 226.6667, 562.2222, 250.8333],\n",
       "         [ 94.1667, 458.0556, 118.0556, 480.2778],\n",
       "         [160.2778, 621.3889, 223.8889, 644.1667],\n",
       "         [586.3889, 512.5000, 600.8333, 538.0556],\n",
       "         [111.1111, 407.2222, 156.9444, 441.3889],\n",
       "         [333.0556, 517.7778, 370.5556, 560.0000],\n",
       "         [ 72.5000, 248.8889, 105.5556, 295.8333],\n",
       "         [ 74.4444, 249.4444, 108.0556, 301.1111],\n",
       "         [600.0000, 503.6111, 615.0000, 519.1667]], dtype=torch.float64),\n",
       " 'labels': tensor([11, 11, 11,  2, 10, 11, 11, 13,  9, 10, 11, 10, 11, 11, 13, 11, 11, 10,\n",
       "         11, 11, 11]),\n",
       " 'image_id': tensor([1470]),\n",
       " 'area': tensor([ 6603., 14601., 13802., 69048.,  5254., 11352., 11160., 23010., 22506.,\n",
       "         15594.,  6006.,  5694.,  7569.,  6880., 18778.,  4784., 20295., 20520.,\n",
       "         20111., 22506.,  3024.]),\n",
       " 'iscrowd': tensor([0, 0, 0, 0, 0, 0, 0, 0, 0, 0, 0, 0, 0, 0, 0, 0, 0, 0, 0, 0, 0])}"
      ]
     },
     "execution_count": 35,
     "metadata": {},
     "output_type": "execute_result"
    }
   ],
   "source": [
    "# 2つめ\n",
    "print(len(dl_return[1]))\n",
    "dl_return[1][0]"
   ]
  },
  {
   "cell_type": "code",
   "execution_count": 36,
   "id": "9a35e1e0",
   "metadata": {
    "execution": {
     "iopub.execute_input": "2022-11-30T01:06:21.273839Z",
     "iopub.status.busy": "2022-11-30T01:06:21.273149Z",
     "iopub.status.idle": "2022-11-30T01:06:21.293700Z",
     "shell.execute_reply": "2022-11-30T01:06:21.292683Z"
    },
    "papermill": {
     "duration": 0.112618,
     "end_time": "2022-11-30T01:06:21.307162",
     "exception": false,
     "start_time": "2022-11-30T01:06:21.194544",
     "status": "completed"
    },
    "tags": []
   },
   "outputs": [
    {
     "name": "stdout",
     "output_type": "stream",
     "text": [
      "8\n"
     ]
    },
    {
     "data": {
      "text/plain": [
       "('e4b4d6910f4be64483f87b1325ce7fe3',\n",
       " 'd8bed8c7cbb164f7e8dcc5708ef41f7b',\n",
       " 'b065d3b4da92b8015b47224341661fd8',\n",
       " 'd617b24dad98aa3b1f2d645828095355',\n",
       " 'cad7f3b0b26e674d67eb5a735c0a9bbe',\n",
       " '6ab95c0f04cb1c61e635ba82b76df6b9',\n",
       " '4d01d09027d1d1e0513de4c8b4fc20e1',\n",
       " '2954986a6bc846398d3cc9bc2297ed84')"
      ]
     },
     "execution_count": 36,
     "metadata": {},
     "output_type": "execute_result"
    }
   ],
   "source": [
    "# 3つめ\n",
    "print(len(dl_return[2]))\n",
    "dl_return[2][:10]   # 先頭10行"
   ]
  },
  {
   "cell_type": "code",
   "execution_count": 37,
   "id": "444b2ad5",
   "metadata": {
    "execution": {
     "iopub.execute_input": "2022-11-30T01:06:21.542551Z",
     "iopub.status.busy": "2022-11-30T01:06:21.541986Z",
     "iopub.status.idle": "2022-11-30T01:07:07.904407Z",
     "shell.execute_reply": "2022-11-30T01:07:07.903278Z"
    },
    "papermill": {
     "duration": 46.498159,
     "end_time": "2022-11-30T01:07:07.908198",
     "exception": false,
     "start_time": "2022-11-30T01:06:21.410039",
     "status": "completed"
    },
    "tags": []
   },
   "outputs": [
    {
     "data": {
      "image/png": "[encoded data removed]",
      "text/plain": [
       "<Figure size 1152x576 with 1 Axes>"
      ]
     },
     "metadata": {
      "needs_background": "light"
     },
     "output_type": "display_data"
    },
    {
     "data": {
      "image/png": "[encoded data removed]",
      "text/plain": [
       "<Figure size 1152x576 with 1 Axes>"
      ]
     },
     "metadata": {
      "needs_background": "light"
     },
     "output_type": "display_data"
    },
    {
     "data": {
      "image/png": "[encoded data removed]",
      "text/plain": [
       "<Figure size 1152x576 with 1 Axes>"
      ]
     },
     "metadata": {
      "needs_background": "light"
     },
     "output_type": "display_data"
    }
   ],
   "source": [
    "# Train dataset sample\n",
    "images, targets, image_ids = next(iter(train_data_loader))\n",
    "images = list(image.to(device) for image in images)\n",
    "targets = [{k: v.to(device) for k, v in t.items()} for t in targets]\n",
    "\n",
    "for number in random.sample([1,2,3],3):\n",
    "  boxes = targets[number]['boxes'].cpu().numpy().astype(np.int32)\n",
    "  img = images[number].permute(1,2,0).cpu().numpy()\n",
    "  labels= targets[number]['labels'].cpu().numpy().astype(np.int32)\n",
    "  fig, ax = plt.subplots(1, 1, figsize=(16, 8))\n",
    "\n",
    "  for i in range(len(boxes)):\n",
    "      img = cv2.rectangle(img,(boxes[i][0]+paddingSize,boxes[i][1]+paddingSize),(boxes[i][2]+paddingSize,boxes[i][3]+paddingSize),(255,0,0),2)\n",
    "      #print(le.inverse_transform([labels[i]-1])[0])\n",
    "      #print(label_to_name(labels[i]), (int(boxes[i][0]), int(boxes[i][1])))\n",
    "      img = cv2.putText(img, label_to_name(labels[i]), (int(boxes[i][0]), int(boxes[i][1])), cv2.FONT_HERSHEY_TRIPLEX,1, (255,0,0), 2, cv2.LINE_AA)\n",
    "\n",
    "  ax.set_axis_off()\n",
    "  ax.imshow(img)"
   ]
  },
  {
   "cell_type": "markdown",
   "id": "8629b7d7",
   "metadata": {
    "papermill": {
     "duration": 0.024438,
     "end_time": "2022-11-30T01:07:07.957469",
     "exception": false,
     "start_time": "2022-11-30T01:07:07.933031",
     "status": "completed"
    },
    "tags": []
   },
   "source": [
    "## モデル学習"
   ]
  },
  {
   "cell_type": "code",
   "execution_count": 38,
   "id": "41dca778",
   "metadata": {
    "execution": {
     "iopub.execute_input": "2022-11-30T01:07:08.007220Z",
     "iopub.status.busy": "2022-11-30T01:07:08.005483Z",
     "iopub.status.idle": "2022-11-30T01:07:08.012858Z",
     "shell.execute_reply": "2022-11-30T01:07:08.011913Z"
    },
    "papermill": {
     "duration": 0.034502,
     "end_time": "2022-11-30T01:07:08.015140",
     "exception": false,
     "start_time": "2022-11-30T01:07:07.980638",
     "status": "completed"
    },
    "tags": []
   },
   "outputs": [],
   "source": [
    "class Averager:\n",
    "    def __init__(self):\n",
    "        self.current_total = 0.0\n",
    "        self.iterations = 0.0\n",
    "\n",
    "    def send(self, value):\n",
    "        self.current_total += value\n",
    "        self.iterations += 1\n",
    "\n",
    "    @property\n",
    "    def value(self):\n",
    "        if self.iterations == 0:\n",
    "            return 0\n",
    "        else:\n",
    "            return 1.0 * self.current_total / self.iterations\n",
    "\n",
    "    def reset(self):\n",
    "        self.current_total = 0.0\n",
    "        self.iterations = 0.0"
   ]
  },
  {
   "cell_type": "code",
   "execution_count": 39,
   "id": "cd159b2c",
   "metadata": {
    "execution": {
     "iopub.execute_input": "2022-11-30T01:07:08.063562Z",
     "iopub.status.busy": "2022-11-30T01:07:08.062160Z",
     "iopub.status.idle": "2022-11-30T01:07:08.128080Z",
     "shell.execute_reply": "2022-11-30T01:07:08.126393Z"
    },
    "papermill": {
     "duration": 0.092124,
     "end_time": "2022-11-30T01:07:08.130382",
     "exception": false,
     "start_time": "2022-11-30T01:07:08.038258",
     "status": "completed"
    },
    "tags": []
   },
   "outputs": [
    {
     "name": "stdout",
     "output_type": "stream",
     "text": [
      "cuda\n"
     ]
    }
   ],
   "source": [
    "print(device)\n",
    "model.to(device)\n",
    "params = [p for p in model.parameters() if p.requires_grad]\n",
    "optimizer = torch.optim.SGD(params, lr=0.005, momentum=0.9, weight_decay=0.0005)\n",
    "lr_scheduler = torch.optim.lr_scheduler.StepLR(optimizer, step_size=4, gamma=0.1)\n",
    "\n",
    "num_epochs = 1  # Low epoch to save GPU time"
   ]
  },
  {
   "cell_type": "code",
   "execution_count": 40,
   "id": "ab6b1e39",
   "metadata": {
    "execution": {
     "iopub.execute_input": "2022-11-30T01:07:08.178787Z",
     "iopub.status.busy": "2022-11-30T01:07:08.177997Z",
     "iopub.status.idle": "2022-11-30T01:28:07.845502Z",
     "shell.execute_reply": "2022-11-30T01:28:07.844320Z"
    },
    "papermill": {
     "duration": 1259.715521,
     "end_time": "2022-11-30T01:28:07.869162",
     "exception": false,
     "start_time": "2022-11-30T01:07:08.153641",
     "status": "completed"
    },
    "tags": []
   },
   "outputs": [
    {
     "name": "stdout",
     "output_type": "stream",
     "text": [
      "Iteration #50 loss: 0.9385925427016827\n",
      "Iteration #100 loss: 1.0846142834705024\n",
      "Iteration #150 loss: 0.9935802698895947\n",
      "Iteration #200 loss: 0.9098950810529052\n",
      "Iteration #250 loss: 0.7342538781649716\n",
      "Epoch #0 loss: 0.9198694992763413\n",
      "Time taken to Train the model :00:20:59.65\n"
     ]
    }
   ],
   "source": [
    "loss_hist = Averager()\n",
    "itr = 1\n",
    "lossHistoryiter = []\n",
    "lossHistoryepoch = []\n",
    "\n",
    "import time\n",
    "start = time.time()\n",
    "\n",
    "for epoch in range(num_epochs):\n",
    "    loss_hist.reset()\n",
    "    \n",
    "    for images, targets, image_ids in train_data_loader:\n",
    "        \n",
    "        images = list(image.to(device) for image in images)\n",
    "        targets = [{k: v.to(device) for k, v in t.items()} for t in targets]\n",
    "\n",
    "        loss_dict = model(images, targets)\n",
    "        \n",
    "        losses = sum(loss for loss in loss_dict.values())\n",
    "        loss_value = losses.item()\n",
    "\n",
    "        loss_hist.send(loss_value)\n",
    "        lossHistoryiter.append(loss_value)\n",
    "        optimizer.zero_grad()\n",
    "        losses.backward()\n",
    "        optimizer.step()\n",
    "\n",
    "        if itr % 50 == 0:\n",
    "            print(f\"Iteration #{itr} loss: {loss_value}\")\n",
    "\n",
    "        itr += 1\n",
    "    \n",
    "    # update the learning rate\n",
    "    if lr_scheduler is not None:\n",
    "        lr_scheduler.step()\n",
    "    lossHistoryepoch.append(loss_hist.value)\n",
    "    print(f\"Epoch #{epoch} loss: {loss_hist.value}\")   \n",
    "    \n",
    "end = time.time()\n",
    "hours, rem = divmod(end-start, 3600)\n",
    "minutes, seconds = divmod(rem, 60)\n",
    "print(\"Time taken to Train the model :{:0>2}:{:0>2}:{:05.2f}\".format(int(hours),int(minutes),seconds))"
   ]
  },
  {
   "cell_type": "code",
   "execution_count": 41,
   "id": "257d8988",
   "metadata": {
    "execution": {
     "iopub.execute_input": "2022-11-30T01:28:07.918340Z",
     "iopub.status.busy": "2022-11-30T01:28:07.917358Z",
     "iopub.status.idle": "2022-11-30T01:28:07.924860Z",
     "shell.execute_reply": "2022-11-30T01:28:07.923810Z"
    },
    "papermill": {
     "duration": 0.034532,
     "end_time": "2022-11-30T01:28:07.927024",
     "exception": false,
     "start_time": "2022-11-30T01:28:07.892492",
     "status": "completed"
    },
    "tags": []
   },
   "outputs": [
    {
     "data": {
      "text/plain": [
       "(276, 2208)"
      ]
     },
     "execution_count": 41,
     "metadata": {},
     "output_type": "execute_result"
    }
   ],
   "source": [
    "len(lossHistoryiter), len(lossHistoryiter)*8  # バッチ数=8"
   ]
  },
  {
   "cell_type": "code",
   "execution_count": 42,
   "id": "6b1447dd",
   "metadata": {
    "execution": {
     "iopub.execute_input": "2022-11-30T01:28:07.975167Z",
     "iopub.status.busy": "2022-11-30T01:28:07.974889Z",
     "iopub.status.idle": "2022-11-30T01:28:08.167986Z",
     "shell.execute_reply": "2022-11-30T01:28:08.167349Z"
    },
    "papermill": {
     "duration": 0.219507,
     "end_time": "2022-11-30T01:28:08.169811",
     "exception": false,
     "start_time": "2022-11-30T01:28:07.950304",
     "status": "completed"
    },
    "tags": []
   },
   "outputs": [
    {
     "data": {
      "image/png": "[encoded data removed]",
      "text/plain": [
       "<Figure size 432x288 with 1 Axes>"
      ]
     },
     "metadata": {
      "needs_background": "light"
     },
     "output_type": "display_data"
    }
   ],
   "source": [
    "plt.plot(lossHistoryiter)\n",
    "plt.xlabel('iteration (only 1 epoch)')\n",
    "plt.show()"
   ]
  },
  {
   "cell_type": "markdown",
   "id": "03b352ec",
   "metadata": {
    "papermill": {
     "duration": 0.023804,
     "end_time": "2022-11-30T01:28:08.217770",
     "exception": false,
     "start_time": "2022-11-30T01:28:08.193966",
     "status": "completed"
    },
    "tags": []
   },
   "source": [
    "## スコアリング"
   ]
  },
  {
   "cell_type": "code",
   "execution_count": 43,
   "id": "8dab73c5",
   "metadata": {
    "execution": {
     "iopub.execute_input": "2022-11-30T01:28:08.266810Z",
     "iopub.status.busy": "2022-11-30T01:28:08.266063Z",
     "iopub.status.idle": "2022-11-30T01:28:08.296653Z",
     "shell.execute_reply": "2022-11-30T01:28:08.295691Z"
    },
    "papermill": {
     "duration": 0.057281,
     "end_time": "2022-11-30T01:28:08.298601",
     "exception": false,
     "start_time": "2022-11-30T01:28:08.241320",
     "status": "completed"
    },
    "tags": []
   },
   "outputs": [
    {
     "data": {
      "text/html": [
       "<div>\n",
       "<style scoped>\n",
       "    .dataframe tbody tr th:only-of-type {\n",
       "        vertical-align: middle;\n",
       "    }\n",
       "\n",
       "    .dataframe tbody tr th {\n",
       "        vertical-align: top;\n",
       "    }\n",
       "\n",
       "    .dataframe thead th {\n",
       "        text-align: right;\n",
       "    }\n",
       "</style>\n",
       "<table border=\"1\" class=\"dataframe\">\n",
       "  <thead>\n",
       "    <tr style=\"text-align: right;\">\n",
       "      <th></th>\n",
       "      <th>image_id</th>\n",
       "      <th>PredictionString</th>\n",
       "    </tr>\n",
       "  </thead>\n",
       "  <tbody>\n",
       "    <tr>\n",
       "      <th>0</th>\n",
       "      <td>002a34c58c5b758217ed1f584ccbcfe9</td>\n",
       "      <td>14 1 0 0 1 1</td>\n",
       "    </tr>\n",
       "    <tr>\n",
       "      <th>1</th>\n",
       "      <td>004f33259ee4aef671c2b95d54e4be68</td>\n",
       "      <td>14 1 0 0 1 1</td>\n",
       "    </tr>\n",
       "    <tr>\n",
       "      <th>2</th>\n",
       "      <td>008bdde2af2462e86fd373a445d0f4cd</td>\n",
       "      <td>14 1 0 0 1 1</td>\n",
       "    </tr>\n",
       "    <tr>\n",
       "      <th>3</th>\n",
       "      <td>009bc039326338823ca3aa84381f17f1</td>\n",
       "      <td>14 1 0 0 1 1</td>\n",
       "    </tr>\n",
       "    <tr>\n",
       "      <th>4</th>\n",
       "      <td>00a2145de1886cb9eb88869c85d74080</td>\n",
       "      <td>14 1 0 0 1 1</td>\n",
       "    </tr>\n",
       "    <tr>\n",
       "      <th>...</th>\n",
       "      <td>...</td>\n",
       "      <td>...</td>\n",
       "    </tr>\n",
       "    <tr>\n",
       "      <th>2995</th>\n",
       "      <td>ff91fb82429a27521bbec8569b041f02</td>\n",
       "      <td>14 1 0 0 1 1</td>\n",
       "    </tr>\n",
       "    <tr>\n",
       "      <th>2996</th>\n",
       "      <td>ff9fcc4087ed5e941209aa3fa948e364</td>\n",
       "      <td>14 1 0 0 1 1</td>\n",
       "    </tr>\n",
       "    <tr>\n",
       "      <th>2997</th>\n",
       "      <td>ffaa288c8abca300974f043b57d81521</td>\n",
       "      <td>14 1 0 0 1 1</td>\n",
       "    </tr>\n",
       "    <tr>\n",
       "      <th>2998</th>\n",
       "      <td>ffc441e0c8b7153844047483a577e7c3</td>\n",
       "      <td>14 1 0 0 1 1</td>\n",
       "    </tr>\n",
       "    <tr>\n",
       "      <th>2999</th>\n",
       "      <td>ffccf1709d0081d122a1d1f9edbefdf1</td>\n",
       "      <td>14 1 0 0 1 1</td>\n",
       "    </tr>\n",
       "  </tbody>\n",
       "</table>\n",
       "<p>3000 rows × 2 columns</p>\n",
       "</div>"
      ],
      "text/plain": [
       "                              image_id PredictionString\n",
       "0     002a34c58c5b758217ed1f584ccbcfe9     14 1 0 0 1 1\n",
       "1     004f33259ee4aef671c2b95d54e4be68     14 1 0 0 1 1\n",
       "2     008bdde2af2462e86fd373a445d0f4cd     14 1 0 0 1 1\n",
       "3     009bc039326338823ca3aa84381f17f1     14 1 0 0 1 1\n",
       "4     00a2145de1886cb9eb88869c85d74080     14 1 0 0 1 1\n",
       "...                                ...              ...\n",
       "2995  ff91fb82429a27521bbec8569b041f02     14 1 0 0 1 1\n",
       "2996  ff9fcc4087ed5e941209aa3fa948e364     14 1 0 0 1 1\n",
       "2997  ffaa288c8abca300974f043b57d81521     14 1 0 0 1 1\n",
       "2998  ffc441e0c8b7153844047483a577e7c3     14 1 0 0 1 1\n",
       "2999  ffccf1709d0081d122a1d1f9edbefdf1     14 1 0 0 1 1\n",
       "\n",
       "[3000 rows x 2 columns]"
      ]
     },
     "execution_count": 43,
     "metadata": {},
     "output_type": "execute_result"
    }
   ],
   "source": [
    "DIR_TEST = f'{DIR_INPUT}/test'\n",
    "test_df = pd.read_csv(f'{DIR_INPUT}/sample_submission.csv')\n",
    "test_df"
   ]
  },
  {
   "cell_type": "code",
   "execution_count": 44,
   "id": "9bf6f627",
   "metadata": {
    "execution": {
     "iopub.execute_input": "2022-11-30T01:28:08.348547Z",
     "iopub.status.busy": "2022-11-30T01:28:08.347676Z",
     "iopub.status.idle": "2022-11-30T01:28:08.354040Z",
     "shell.execute_reply": "2022-11-30T01:28:08.353185Z"
    },
    "papermill": {
     "duration": 0.033365,
     "end_time": "2022-11-30T01:28:08.355971",
     "exception": false,
     "start_time": "2022-11-30T01:28:08.322606",
     "status": "completed"
    },
    "tags": []
   },
   "outputs": [],
   "source": [
    "labels =  targets[1]['labels'].cpu().numpy()\n",
    "model.eval()\n",
    "cpu_device = torch.device(\"cpu\")"
   ]
  },
  {
   "cell_type": "code",
   "execution_count": 45,
   "id": "7f3e18e7",
   "metadata": {
    "execution": {
     "iopub.execute_input": "2022-11-30T01:28:08.405664Z",
     "iopub.status.busy": "2022-11-30T01:28:08.404878Z",
     "iopub.status.idle": "2022-11-30T01:28:08.411328Z",
     "shell.execute_reply": "2022-11-30T01:28:08.410471Z"
    },
    "papermill": {
     "duration": 0.033635,
     "end_time": "2022-11-30T01:28:08.413344",
     "exception": false,
     "start_time": "2022-11-30T01:28:08.379709",
     "status": "completed"
    },
    "tags": []
   },
   "outputs": [],
   "source": [
    "test_dataset = VinBigDataset(test_df, DIR_TEST, get_test_transform(),\"Test\")\n",
    "\n",
    "test_data_loader = DataLoader(\n",
    "    test_dataset,\n",
    "    batch_size=8,\n",
    "    shuffle=False,\n",
    "    num_workers=1,\n",
    "    drop_last=False,\n",
    "    collate_fn=collate_fn\n",
    ")"
   ]
  },
  {
   "cell_type": "code",
   "execution_count": 46,
   "id": "8671e72a",
   "metadata": {
    "execution": {
     "iopub.execute_input": "2022-11-30T01:28:08.463008Z",
     "iopub.status.busy": "2022-11-30T01:28:08.462202Z",
     "iopub.status.idle": "2022-11-30T01:28:08.467945Z",
     "shell.execute_reply": "2022-11-30T01:28:08.467134Z"
    },
    "papermill": {
     "duration": 0.032774,
     "end_time": "2022-11-30T01:28:08.469908",
     "exception": false,
     "start_time": "2022-11-30T01:28:08.437134",
     "status": "completed"
    },
    "tags": []
   },
   "outputs": [],
   "source": [
    "def format_prediction_string(labels, boxes, scores):\n",
    "    pred_strings = []\n",
    "    for j in zip(labels, scores, boxes):\n",
    "        pred_strings.append(\"{0} {1:.4f} {2} {3} {4} {5}\".format(\n",
    "            j[0], j[1], j[2][0], j[2][1], j[2][2], j[2][3]))\n",
    "\n",
    "    return \" \".join(pred_strings)"
   ]
  },
  {
   "cell_type": "code",
   "execution_count": 47,
   "id": "d5bd2b57",
   "metadata": {
    "execution": {
     "iopub.execute_input": "2022-11-30T01:28:08.519756Z",
     "iopub.status.busy": "2022-11-30T01:28:08.518910Z",
     "iopub.status.idle": "2022-11-30T01:28:22.757114Z",
     "shell.execute_reply": "2022-11-30T01:28:22.754728Z"
    },
    "papermill": {
     "duration": 14.267528,
     "end_time": "2022-11-30T01:28:22.761316",
     "exception": false,
     "start_time": "2022-11-30T01:28:08.493788",
     "status": "completed"
    },
    "tags": []
   },
   "outputs": [],
   "source": [
    "# Test dataset sample\n",
    "images, image_ids = next(iter(test_data_loader))\n",
    "images = list(image.to(device) for image in images)"
   ]
  },
  {
   "cell_type": "code",
   "execution_count": 48,
   "id": "1835cc0d",
   "metadata": {
    "execution": {
     "iopub.execute_input": "2022-11-30T01:28:22.846713Z",
     "iopub.status.busy": "2022-11-30T01:28:22.846238Z",
     "iopub.status.idle": "2022-11-30T01:28:22.854120Z",
     "shell.execute_reply": "2022-11-30T01:28:22.853212Z"
    },
    "papermill": {
     "duration": 0.052865,
     "end_time": "2022-11-30T01:28:22.861692",
     "exception": false,
     "start_time": "2022-11-30T01:28:22.808827",
     "status": "completed"
    },
    "tags": []
   },
   "outputs": [
    {
     "data": {
      "text/plain": [
       "('002a34c58c5b758217ed1f584ccbcfe9',\n",
       " '004f33259ee4aef671c2b95d54e4be68',\n",
       " '008bdde2af2462e86fd373a445d0f4cd',\n",
       " '009bc039326338823ca3aa84381f17f1',\n",
       " '00a2145de1886cb9eb88869c85d74080',\n",
       " '00b7e6bfa4dc1fe9ddd0ce74743e38c2',\n",
       " '011295e0bcdc7636569ab73bfdcc4450',\n",
       " '013c169f9dad6f1f6485da961b9f7bf2')"
      ]
     },
     "execution_count": 48,
     "metadata": {},
     "output_type": "execute_result"
    }
   ],
   "source": [
    "image_ids"
   ]
  },
  {
   "cell_type": "code",
   "execution_count": 49,
   "id": "37ff8c17",
   "metadata": {
    "execution": {
     "iopub.execute_input": "2022-11-30T01:28:22.942427Z",
     "iopub.status.busy": "2022-11-30T01:28:22.942026Z",
     "iopub.status.idle": "2022-11-30T01:28:22.951441Z",
     "shell.execute_reply": "2022-11-30T01:28:22.950590Z"
    },
    "papermill": {
     "duration": 0.058497,
     "end_time": "2022-11-30T01:28:22.958190",
     "exception": false,
     "start_time": "2022-11-30T01:28:22.899693",
     "status": "completed"
    },
    "tags": []
   },
   "outputs": [
    {
     "name": "stdout",
     "output_type": "stream",
     "text": [
      "8\n"
     ]
    },
    {
     "data": {
      "text/plain": [
       "torch.Size([3, 2584, 2345])"
      ]
     },
     "execution_count": 49,
     "metadata": {},
     "output_type": "execute_result"
    }
   ],
   "source": [
    "print(len(images))\n",
    "\n",
    "images[0].size()"
   ]
  },
  {
   "cell_type": "code",
   "execution_count": 50,
   "id": "42fc36d5",
   "metadata": {
    "execution": {
     "iopub.execute_input": "2022-11-30T01:28:23.049244Z",
     "iopub.status.busy": "2022-11-30T01:28:23.048836Z",
     "iopub.status.idle": "2022-11-30T01:28:23.505851Z",
     "shell.execute_reply": "2022-11-30T01:28:23.504969Z"
    },
    "papermill": {
     "duration": 0.498413,
     "end_time": "2022-11-30T01:28:23.508512",
     "exception": false,
     "start_time": "2022-11-30T01:28:23.010099",
     "status": "completed"
    },
    "tags": []
   },
   "outputs": [
    {
     "data": {
      "text/plain": [
       "8"
      ]
     },
     "execution_count": 50,
     "metadata": {},
     "output_type": "execute_result"
    }
   ],
   "source": [
    "outputs = model(images)\n",
    "len(outputs)"
   ]
  },
  {
   "cell_type": "code",
   "execution_count": 51,
   "id": "81c56037",
   "metadata": {
    "execution": {
     "iopub.execute_input": "2022-11-30T01:28:23.590187Z",
     "iopub.status.busy": "2022-11-30T01:28:23.589795Z",
     "iopub.status.idle": "2022-11-30T01:28:23.625060Z",
     "shell.execute_reply": "2022-11-30T01:28:23.624162Z"
    },
    "papermill": {
     "duration": 0.081072,
     "end_time": "2022-11-30T01:28:23.628297",
     "exception": false,
     "start_time": "2022-11-30T01:28:23.547225",
     "status": "completed"
    },
    "tags": []
   },
   "outputs": [
    {
     "data": {
      "text/plain": [
       "{'boxes': tensor([[ 824.9032, 1193.4213, 1130.9979, 1544.4128],\n",
       "         [1135.6367,  659.7665, 1421.5457, 1024.0096],\n",
       "         [1290.3600,  266.4987, 1682.1411,  373.5791],\n",
       "         [1315.1072,  229.8965, 1799.8595,  422.6558],\n",
       "         [1556.5834,  298.8936, 1809.2410,  490.0540],\n",
       "         [ 633.0227,  271.0594,  976.1291,  381.2639],\n",
       "         [1392.2468,  262.1311, 1896.5110,  480.3974],\n",
       "         [ 773.6143, 1202.0470, 1787.2797, 1470.5602],\n",
       "         [ 683.1121,  234.6584,  921.9180,  416.5569],\n",
       "         [1381.7517,  243.0893, 1727.6417,  346.7809],\n",
       "         [1343.5042,  301.4359, 1658.3439,  352.4598],\n",
       "         [1629.0773,  327.5841, 1785.7990,  438.6725],\n",
       "         [1416.9841,  290.1236, 1769.5266,  397.9449],\n",
       "         [1601.7635,  329.9569, 1866.2588,  460.1956],\n",
       "         [1456.7716,  335.9900, 1791.3000,  459.6153],\n",
       "         [ 434.2823,  230.7928,  921.2554,  445.0851],\n",
       "         [1409.8334,  244.9185, 1665.5575,  424.3379],\n",
       "         [ 557.5127,  287.3538,  912.1469,  405.5650],\n",
       "         [1259.3685,  234.8086, 1618.2173,  344.2801],\n",
       "         [1338.0601, 1273.0494, 1813.2946, 1694.8920],\n",
       "         [ 697.6791,  291.8994,  966.2775,  345.3724],\n",
       "         [1424.9912,  333.6221, 1900.6903,  558.0133],\n",
       "         [ 529.4593,  271.5126,  777.7018,  466.0907],\n",
       "         [ 683.4871,  313.3207,  957.3771,  365.0751],\n",
       "         [1503.6687,  379.6568, 1848.9783,  509.8306],\n",
       "         [ 568.8983,  241.1487,  919.7532,  353.6062],\n",
       "         [1461.1562,  299.7817, 1712.1034,  357.2046],\n",
       "         [ 605.4103,  253.0425,  841.2263,  448.8193],\n",
       "         [ 650.3427,  281.7893,  905.0876,  334.2421],\n",
       "         [1375.9441,  281.5510, 1652.2673,  333.5802],\n",
       "         [1468.0854,  288.7928, 1725.3073,  501.3746],\n",
       "         [ 439.7420,  274.9698,  741.4003,  411.9277],\n",
       "         [1598.5320,  253.2166, 1832.7020,  438.2611],\n",
       "         [1638.7396,  363.9287, 1835.8354,  432.6508],\n",
       "         [ 135.6269, 1547.2046, 1495.9028, 2008.8831],\n",
       "         [1201.9808,  253.7259, 1707.2990,  476.9613],\n",
       "         [ 447.4307,  332.5766,  746.9604,  449.3646],\n",
       "         [ 411.6754,  292.8702,  941.5182,  537.0620],\n",
       "         [1568.1846,  372.5196, 1794.1575,  441.5530],\n",
       "         [1306.4779,  269.3683, 1597.6268,  321.3782],\n",
       "         [ 329.7863,  255.3176,  793.6302,  484.7409],\n",
       "         [1226.7158,  168.6270, 1743.6759,  355.8419],\n",
       "         [ 702.5098,  267.1158,  969.0292,  322.1571],\n",
       "         [1303.6930,  290.9200, 1594.3821,  341.8637],\n",
       "         [1363.9706,  326.6621, 1665.4764,  375.8441],\n",
       "         [ 619.2054,  305.1678,  874.6625,  356.0301],\n",
       "         [1324.4357,  316.9592, 1609.7891,  363.6349],\n",
       "         [ 550.0861,  324.4386,  911.2321,  459.0840],\n",
       "         [1546.9037,  358.0250, 1782.6847,  414.0987],\n",
       "         [ 680.4985,  227.1163, 1033.4742,  348.0989],\n",
       "         [1402.1075, 1241.0422, 1860.8798, 1705.8829],\n",
       "         [ 384.2452,  344.2253,  668.3749,  483.5023],\n",
       "         [1303.8608,  306.7770, 1645.2147,  423.0813],\n",
       "         [ 248.7474, 1155.0881,  849.8046, 1471.7185],\n",
       "         [ 766.4639,  298.2315, 1005.2178,  358.9392],\n",
       "         [ 750.9379,  267.8613, 1085.0283,  381.5194],\n",
       "         [1464.0266, 1166.4390, 1880.6976, 1619.4912],\n",
       "         [  71.4190, 1189.2098, 1976.8596, 2053.5737],\n",
       "         [1323.7369,  349.6073, 1733.9480,  490.3362],\n",
       "         [ 543.1428,  295.8498,  745.2819,  365.2794],\n",
       "         [ 272.4065,  868.4240,  986.9224, 1586.5057],\n",
       "         [1497.4573,  325.4642, 1778.3978,  379.0085],\n",
       "         [ 539.8932,  191.6204, 1063.2654,  394.6883],\n",
       "         [1320.5040,  236.7012, 1776.3574,  591.8127],\n",
       "         [ 192.6407,  729.7672,  941.2740, 1577.8717],\n",
       "         [1335.9210, 1073.3550, 1958.3225, 1772.0560],\n",
       "         [ 176.8231,  753.7012,  944.6035, 1555.2733],\n",
       "         [ 541.8357,  320.6017,  751.3873,  383.4745],\n",
       "         [ 537.1028,  260.3665,  815.7899,  371.3640],\n",
       "         [1385.8630, 1241.0814, 1850.9338, 1693.8763],\n",
       "         [ 768.7346,  321.2780, 1005.8748,  375.9379],\n",
       "         [1017.0057,  576.4508, 1460.3043, 1087.8552],\n",
       "         [ 543.4802,  338.9330,  786.0558,  537.8493],\n",
       "         [ 448.9657,  348.0963,  649.5887,  424.9557],\n",
       "         [1632.7145,  390.8817, 1841.6781,  448.2122],\n",
       "         [1334.9270,  246.5129, 1605.7845,  300.0126],\n",
       "         [1496.6068,  346.8947, 1765.3207,  394.5474],\n",
       "         [1372.9326, 1121.0641, 2087.5735, 1852.0278],\n",
       "         [1596.8434,  333.4884, 1819.9054,  399.6684],\n",
       "         [ 530.9269,  348.8522,  764.3727,  399.3735],\n",
       "         [ 261.9053,  395.8284,  896.2078, 1505.6527],\n",
       "         [ 791.2173, 1174.8574, 1463.0251, 1509.9542],\n",
       "         [1321.4060, 1131.2655, 1773.0785, 1628.9630],\n",
       "         [ 637.5696,  326.0023,  884.0333,  374.5612],\n",
       "         [ 592.6260,  337.3365,  841.1749,  389.3885],\n",
       "         [ 791.6085, 1073.4717, 1678.9421, 1611.4543],\n",
       "         [ 125.5300, 1535.6782, 1049.2565, 1892.6902],\n",
       "         [ 616.9559,  257.1502, 1091.9956,  479.5317],\n",
       "         [ 700.8062,  245.9034,  966.5226,  303.3885],\n",
       "         [1380.5837,  258.8184, 1642.8777,  312.8529],\n",
       "         [ 699.8887,  300.0541, 1017.1017,  421.0643],\n",
       "         [1594.0551,  415.0117, 1843.0417,  464.9476],\n",
       "         [ 328.2482,  293.5824,  954.0536, 1388.1281],\n",
       "         [ 454.3570, 1026.3898,  918.5279, 1494.3436],\n",
       "         [ 276.0298,  239.1986, 1044.7377, 1098.1556],\n",
       "         [1431.5383,  340.0827, 1685.8770,  380.8979],\n",
       "         [ 482.6217,  249.7029,  987.4248,  667.7699],\n",
       "         [1359.4020, 1129.9662, 2087.7268, 1835.4851],\n",
       "         [ 262.8417,  868.2062,  989.0355, 1596.9734],\n",
       "         [1400.0558, 1146.4738, 1734.9899, 1699.8574]], device='cuda:0',\n",
       "        grad_fn=<StackBackward0>),\n",
       " 'labels': tensor([ 2,  2, 13, 13, 13, 13, 13,  5, 13, 13, 13, 13, 13, 13, 13, 13, 13, 13,\n",
       "         13,  2, 13, 13, 13, 13, 13, 13, 13, 13, 13, 13, 13, 13, 13, 13,  5, 13,\n",
       "         13, 13, 13, 13, 13, 13, 13, 13, 13, 13, 13, 13, 13, 13,  9, 13, 13,  9,\n",
       "         13, 13, 10,  5, 13, 13,  9, 13, 13, 13,  7,  9,  8, 13, 13, 11, 13,  2,\n",
       "         13, 13, 13, 13, 13, 11, 13, 13,  9,  2,  9, 13, 13,  5,  5, 13, 13, 13,\n",
       "         13, 13,  8,  9,  7, 13, 13,  8, 11, 10], device='cuda:0'),\n",
       " 'scores': tensor([0.5069, 0.4408, 0.3944, 0.3497, 0.3445, 0.3093, 0.3029, 0.2907, 0.2365,\n",
       "         0.2319, 0.2253, 0.2210, 0.2181, 0.2179, 0.2140, 0.2136, 0.2092, 0.2047,\n",
       "         0.2043, 0.1930, 0.1901, 0.1897, 0.1883, 0.1730, 0.1716, 0.1708, 0.1635,\n",
       "         0.1583, 0.1554, 0.1539, 0.1527, 0.1451, 0.1425, 0.1360, 0.1338, 0.1273,\n",
       "         0.1251, 0.1250, 0.1238, 0.1207, 0.1192, 0.1176, 0.1170, 0.1164, 0.1140,\n",
       "         0.1104, 0.1071, 0.1064, 0.1056, 0.1052, 0.1034, 0.1002, 0.0990, 0.0964,\n",
       "         0.0943, 0.0942, 0.0903, 0.0891, 0.0855, 0.0847, 0.0841, 0.0824, 0.0812,\n",
       "         0.0792, 0.0790, 0.0780, 0.0775, 0.0763, 0.0763, 0.0748, 0.0747, 0.0723,\n",
       "         0.0704, 0.0700, 0.0680, 0.0678, 0.0671, 0.0656, 0.0642, 0.0638, 0.0636,\n",
       "         0.0630, 0.0627, 0.0621, 0.0618, 0.0604, 0.0599, 0.0595, 0.0593, 0.0591,\n",
       "         0.0587, 0.0581, 0.0572, 0.0563, 0.0557, 0.0553, 0.0552, 0.0545, 0.0540,\n",
       "         0.0527], device='cuda:0', grad_fn=<IndexBackward0>)}"
      ]
     },
     "execution_count": 51,
     "metadata": {},
     "output_type": "execute_result"
    }
   ],
   "source": [
    "outputs[0]"
   ]
  },
  {
   "cell_type": "code",
   "execution_count": null,
   "id": "e7a5f796",
   "metadata": {
    "papermill": {
     "duration": 0.040423,
     "end_time": "2022-11-30T01:28:23.709419",
     "exception": false,
     "start_time": "2022-11-30T01:28:23.668996",
     "status": "completed"
    },
    "tags": []
   },
   "outputs": [],
   "source": []
  }
 ],
 "metadata": {
  "kernelspec": {
   "display_name": "Python 3 (ipykernel)",
   "language": "python",
   "name": "python3"
  },
  "language_info": {
   "codemirror_mode": {
    "name": "ipython",
    "version": 3
   },
   "file_extension": ".py",
   "mimetype": "text/x-python",
   "name": "python",
   "nbconvert_exporter": "python",
   "pygments_lexer": "ipython3",
   "version": "3.8.13"
  },
  "papermill": {
   "default_parameters": {},
   "duration": 1376.421537,
   "end_time": "2022-11-30T01:28:26.608101",
   "environment_variables": {},
   "exception": null,
   "input_path": "__notebook__.ipynb",
   "output_path": "__notebook__.ipynb",
   "parameters": {},
   "start_time": "2022-11-30T01:05:30.186564",
   "version": "2.3.4"
  },
  "widgets": {
   "application/vnd.jupyter.widget-state+json": {
    "state": {
     "0c8f7c15fa304c678b87c4115a7fd033": {
      "model_module": "@jupyter-widgets/base",
      "model_module_version": "1.2.0",
      "model_name": "LayoutModel",
      "state": {
       "_model_module": "@jupyter-widgets/base",
       "_model_module_version": "1.2.0",
       "_model_name": "LayoutModel",
       "_view_count": null,
       "_view_module": "@jupyter-widgets/base",
       "_view_module_version": "1.2.0",
       "_view_name": "LayoutView",
       "align_content": null,
       "align_items": null,
       "align_self": null,
       "border": null,
       "bottom": null,
       "display": null,
       "flex": null,
       "flex_flow": null,
       "grid_area": null,
       "grid_auto_columns": null,
       "grid_auto_flow": null,
       "grid_auto_rows": null,
       "grid_column": null,
       "grid_gap": null,
       "grid_row": null,
       "grid_template_areas": null,
       "grid_template_columns": null,
       "grid_template_rows": null,
       "height": null,
       "justify_content": null,
       "justify_items": null,
       "left": null,
       "margin": null,
       "max_height": null,
       "max_width": null,
       "min_height": null,
       "min_width": null,
       "object_fit": null,
       "object_position": null,
       "order": null,
       "overflow": null,
       "overflow_x": null,
       "overflow_y": null,
       "padding": null,
       "right": null,
       "top": null,
       "visibility": null,
       "width": null
      }
     },
     "3cae350e4e48429e8484c391b21cde39": {
      "model_module": "@jupyter-widgets/controls",
      "model_module_version": "1.5.0",
      "model_name": "HTMLModel",
      "state": {
       "_dom_classes": [],
       "_model_module": "@jupyter-widgets/controls",
       "_model_module_version": "1.5.0",
       "_model_name": "HTMLModel",
       "_view_count": null,
       "_view_module": "@jupyter-widgets/controls",
       "_view_module_version": "1.5.0",
       "_view_name": "HTMLView",
       "description": "",
       "description_tooltip": null,
       "layout": "IPY_MODEL_0c8f7c15fa304c678b87c4115a7fd033",
       "placeholder": "​",
       "style": "IPY_MODEL_850d6b4a028a474eb3635841c2a1cc49",
       "value": " 160M/160M [00:00&lt;00:00, 255MB/s]"
      }
     },
     "4017a464bcfe47f1a741ad0e5fb45ea2": {
      "model_module": "@jupyter-widgets/base",
      "model_module_version": "1.2.0",
      "model_name": "LayoutModel",
      "state": {
       "_model_module": "@jupyter-widgets/base",
       "_model_module_version": "1.2.0",
       "_model_name": "LayoutModel",
       "_view_count": null,
       "_view_module": "@jupyter-widgets/base",
       "_view_module_version": "1.2.0",
       "_view_name": "LayoutView",
       "align_content": null,
       "align_items": null,
       "align_self": null,
       "border": null,
       "bottom": null,
       "display": null,
       "flex": null,
       "flex_flow": null,
       "grid_area": null,
       "grid_auto_columns": null,
       "grid_auto_flow": null,
       "grid_auto_rows": null,
       "grid_column": null,
       "grid_gap": null,
       "grid_row": null,
       "grid_template_areas": null,
       "grid_template_columns": null,
       "grid_template_rows": null,
       "height": null,
       "justify_content": null,
       "justify_items": null,
       "left": null,
       "margin": null,
       "max_height": null,
       "max_width": null,
       "min_height": null,
       "min_width": null,
       "object_fit": null,
       "object_position": null,
       "order": null,
       "overflow": null,
       "overflow_x": null,
       "overflow_y": null,
       "padding": null,
       "right": null,
       "top": null,
       "visibility": null,
       "width": null
      }
     },
     "55f7dc9b587b4922a2d38275021d7c76": {
      "model_module": "@jupyter-widgets/controls",
      "model_module_version": "1.5.0",
      "model_name": "ProgressStyleModel",
      "state": {
       "_model_module": "@jupyter-widgets/controls",
       "_model_module_version": "1.5.0",
       "_model_name": "ProgressStyleModel",
       "_view_count": null,
       "_view_module": "@jupyter-widgets/base",
       "_view_module_version": "1.2.0",
       "_view_name": "StyleView",
       "bar_color": null,
       "description_width": ""
      }
     },
     "850d6b4a028a474eb3635841c2a1cc49": {
      "model_module": "@jupyter-widgets/controls",
      "model_module_version": "1.5.0",
      "model_name": "DescriptionStyleModel",
      "state": {
       "_model_module": "@jupyter-widgets/controls",
       "_model_module_version": "1.5.0",
       "_model_name": "DescriptionStyleModel",
       "_view_count": null,
       "_view_module": "@jupyter-widgets/base",
       "_view_module_version": "1.2.0",
       "_view_name": "StyleView",
       "description_width": ""
      }
     },
     "92dda493484e46588c9d6f62fd4ec2ca": {
      "model_module": "@jupyter-widgets/controls",
      "model_module_version": "1.5.0",
      "model_name": "HBoxModel",
      "state": {
       "_dom_classes": [],
       "_model_module": "@jupyter-widgets/controls",
       "_model_module_version": "1.5.0",
       "_model_name": "HBoxModel",
       "_view_count": null,
       "_view_module": "@jupyter-widgets/controls",
       "_view_module_version": "1.5.0",
       "_view_name": "HBoxView",
       "box_style": "",
       "children": [
        "IPY_MODEL_b33777b4f96548689487344b2953e139",
        "IPY_MODEL_d4a6f4dcbd0649e5b6d948adb9448593",
        "IPY_MODEL_3cae350e4e48429e8484c391b21cde39"
       ],
       "layout": "IPY_MODEL_4017a464bcfe47f1a741ad0e5fb45ea2"
      }
     },
     "a9a9d52eea654dadab4875920dec3771": {
      "model_module": "@jupyter-widgets/base",
      "model_module_version": "1.2.0",
      "model_name": "LayoutModel",
      "state": {
       "_model_module": "@jupyter-widgets/base",
       "_model_module_version": "1.2.0",
       "_model_name": "LayoutModel",
       "_view_count": null,
       "_view_module": "@jupyter-widgets/base",
       "_view_module_version": "1.2.0",
       "_view_name": "LayoutView",
       "align_content": null,
       "align_items": null,
       "align_self": null,
       "border": null,
       "bottom": null,
       "display": null,
       "flex": null,
       "flex_flow": null,
       "grid_area": null,
       "grid_auto_columns": null,
       "grid_auto_flow": null,
       "grid_auto_rows": null,
       "grid_column": null,
       "grid_gap": null,
       "grid_row": null,
       "grid_template_areas": null,
       "grid_template_columns": null,
       "grid_template_rows": null,
       "height": null,
       "justify_content": null,
       "justify_items": null,
       "left": null,
       "margin": null,
       "max_height": null,
       "max_width": null,
       "min_height": null,
       "min_width": null,
       "object_fit": null,
       "object_position": null,
       "order": null,
       "overflow": null,
       "overflow_x": null,
       "overflow_y": null,
       "padding": null,
       "right": null,
       "top": null,
       "visibility": null,
       "width": null
      }
     },
     "b33777b4f96548689487344b2953e139": {
      "model_module": "@jupyter-widgets/controls",
      "model_module_version": "1.5.0",
      "model_name": "HTMLModel",
      "state": {
       "_dom_classes": [],
       "_model_module": "@jupyter-widgets/controls",
       "_model_module_version": "1.5.0",
       "_model_name": "HTMLModel",
       "_view_count": null,
       "_view_module": "@jupyter-widgets/controls",
       "_view_module_version": "1.5.0",
       "_view_name": "HTMLView",
       "description": "",
       "description_tooltip": null,
       "layout": "IPY_MODEL_b7caf8ea2eee456dab7787c24dc0cbfb",
       "placeholder": "​",
       "style": "IPY_MODEL_fb6cec254f21480796c4ae68a507fd3e",
       "value": "100%"
      }
     },
     "b7caf8ea2eee456dab7787c24dc0cbfb": {
      "model_module": "@jupyter-widgets/base",
      "model_module_version": "1.2.0",
      "model_name": "LayoutModel",
      "state": {
       "_model_module": "@jupyter-widgets/base",
       "_model_module_version": "1.2.0",
       "_model_name": "LayoutModel",
       "_view_count": null,
       "_view_module": "@jupyter-widgets/base",
       "_view_module_version": "1.2.0",
       "_view_name": "LayoutView",
       "align_content": null,
       "align_items": null,
       "align_self": null,
       "border": null,
       "bottom": null,
       "display": null,
       "flex": null,
       "flex_flow": null,
       "grid_area": null,
       "grid_auto_columns": null,
       "grid_auto_flow": null,
       "grid_auto_rows": null,
       "grid_column": null,
       "grid_gap": null,
       "grid_row": null,
       "grid_template_areas": null,
       "grid_template_columns": null,
       "grid_template_rows": null,
       "height": null,
       "justify_content": null,
       "justify_items": null,
       "left": null,
       "margin": null,
       "max_height": null,
       "max_width": null,
       "min_height": null,
       "min_width": null,
       "object_fit": null,
       "object_position": null,
       "order": null,
       "overflow": null,
       "overflow_x": null,
       "overflow_y": null,
       "padding": null,
       "right": null,
       "top": null,
       "visibility": null,
       "width": null
      }
     },
     "d4a6f4dcbd0649e5b6d948adb9448593": {
      "model_module": "@jupyter-widgets/controls",
      "model_module_version": "1.5.0",
      "model_name": "FloatProgressModel",
      "state": {
       "_dom_classes": [],
       "_model_module": "@jupyter-widgets/controls",
       "_model_module_version": "1.5.0",
       "_model_name": "FloatProgressModel",
       "_view_count": null,
       "_view_module": "@jupyter-widgets/controls",
       "_view_module_version": "1.5.0",
       "_view_name": "ProgressView",
       "bar_style": "success",
       "description": "",
       "description_tooltip": null,
       "layout": "IPY_MODEL_a9a9d52eea654dadab4875920dec3771",
       "max": 167502836,
       "min": 0,
       "orientation": "horizontal",
       "style": "IPY_MODEL_55f7dc9b587b4922a2d38275021d7c76",
       "value": 167502836
      }
     },
     "fb6cec254f21480796c4ae68a507fd3e": {
      "model_module": "@jupyter-widgets/controls",
      "model_module_version": "1.5.0",
      "model_name": "DescriptionStyleModel",
      "state": {
       "_model_module": "@jupyter-widgets/controls",
       "_model_module_version": "1.5.0",
       "_model_name": "DescriptionStyleModel",
       "_view_count": null,
       "_view_module": "@jupyter-widgets/base",
       "_view_module_version": "1.2.0",
       "_view_name": "StyleView",
       "description_width": ""
      }
     }
    },
    "version_major": 2,
    "version_minor": 0
   }
  }
 },
 "nbformat": 4,
 "nbformat_minor": 5
}
