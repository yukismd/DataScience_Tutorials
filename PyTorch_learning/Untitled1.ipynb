{
 "cells": [
  {
   "cell_type": "code",
   "execution_count": null,
   "id": "b8cf16ed",
   "metadata": {},
   "outputs": [],
   "source": []
  },
  {
   "cell_type": "code",
   "execution_count": 9,
   "id": "7bbff0df",
   "metadata": {},
   "outputs": [],
   "source": [
    "import torch.nn as nn\n",
    "\n",
    "from torchinfo import summary"
   ]
  },
  {
   "cell_type": "code",
   "execution_count": 10,
   "id": "e14dd801",
   "metadata": {},
   "outputs": [],
   "source": [
    "class BostonModel(nn.Module):\n",
    "    def __init__(self):\n",
    "        super().__init__()\n",
    "        self.linear1 = nn.Linear(in_features = 13, out_features = 16)\n",
    "        self.linear2 = nn.Linear(in_features = 16, out_features = 32)\n",
    "        self.linear3 = nn.Linear(in_features = 32, out_features = 1)\n",
    "    \n",
    "    def forward(self, inputs):\n",
    "        x = nn.ReLU()(self.linear1(inputs))\n",
    "        x = nn.ReLU()(self.linear2(x))\n",
    "        logits = self.linear3(x)\n",
    "        return logits"
   ]
  },
  {
   "cell_type": "code",
   "execution_count": 11,
   "id": "7c1ea0b9",
   "metadata": {},
   "outputs": [
    {
     "data": {
      "text/plain": [
       "BostonModel(\n",
       "  (linear1): Linear(in_features=13, out_features=16, bias=True)\n",
       "  (linear2): Linear(in_features=16, out_features=32, bias=True)\n",
       "  (linear3): Linear(in_features=32, out_features=1, bias=True)\n",
       ")"
      ]
     },
     "execution_count": 11,
     "metadata": {},
     "output_type": "execute_result"
    }
   ],
   "source": [
    "model = BostonModel()\n",
    "model"
   ]
  },
  {
   "cell_type": "code",
   "execution_count": 12,
   "id": "6f428d3a",
   "metadata": {},
   "outputs": [
    {
     "data": {
      "text/plain": [
       "Linear(in_features=13, out_features=16, bias=True)"
      ]
     },
     "execution_count": 12,
     "metadata": {},
     "output_type": "execute_result"
    }
   ],
   "source": [
    "model.linear1"
   ]
  },
  {
   "cell_type": "code",
   "execution_count": 15,
   "id": "c6605bfc",
   "metadata": {},
   "outputs": [
    {
     "data": {
      "text/plain": [
       "=================================================================\n",
       "Layer (type:depth-idx)                   Param #\n",
       "=================================================================\n",
       "BostonModel                              --\n",
       "├─Linear: 1-1                            224\n",
       "├─Linear: 1-2                            544\n",
       "├─Linear: 1-3                            33\n",
       "=================================================================\n",
       "Total params: 801\n",
       "Trainable params: 801\n",
       "Non-trainable params: 0\n",
       "================================================================="
      ]
     },
     "execution_count": 15,
     "metadata": {},
     "output_type": "execute_result"
    }
   ],
   "source": [
    "summary(model)"
   ]
  },
  {
   "cell_type": "code",
   "execution_count": 16,
   "id": "b84d3a3d",
   "metadata": {},
   "outputs": [
    {
     "data": {
      "text/plain": [
       "==========================================================================================\n",
       "Layer (type:depth-idx)                   Output Shape              Param #\n",
       "==========================================================================================\n",
       "BostonModel                              [5, 1]                    --\n",
       "├─Linear: 1-1                            [5, 16]                   224\n",
       "├─Linear: 1-2                            [5, 32]                   544\n",
       "├─Linear: 1-3                            [5, 1]                    33\n",
       "==========================================================================================\n",
       "Total params: 801\n",
       "Trainable params: 801\n",
       "Non-trainable params: 0\n",
       "Total mult-adds (M): 0.00\n",
       "==========================================================================================\n",
       "Input size (MB): 0.00\n",
       "Forward/backward pass size (MB): 0.00\n",
       "Params size (MB): 0.00\n",
       "Estimated Total Size (MB): 0.01\n",
       "=========================================================================================="
      ]
     },
     "execution_count": 16,
     "metadata": {},
     "output_type": "execute_result"
    }
   ],
   "source": [
    "summary(model, (5,13))"
   ]
  },
  {
   "cell_type": "code",
   "execution_count": 20,
   "id": "d84f5fa7",
   "metadata": {},
   "outputs": [
    {
     "data": {
      "text/plain": [
       "224"
      ]
     },
     "execution_count": 20,
     "metadata": {},
     "output_type": "execute_result"
    }
   ],
   "source": [
    "13 * 16 + 16"
   ]
  },
  {
   "cell_type": "code",
   "execution_count": null,
   "id": "39431165",
   "metadata": {},
   "outputs": [],
   "source": []
  },
  {
   "cell_type": "code",
   "execution_count": 21,
   "id": "693e555d",
   "metadata": {},
   "outputs": [],
   "source": [
    "class NeuralNetwork(nn.Module):\n",
    "    def __init__(self):\n",
    "        super(NeuralNetwork, self).__init__()\n",
    "        self.flatten = nn.Flatten()\n",
    "        self.linear_relu_stack = nn.Sequential(\n",
    "            nn.Linear(28*28, 512),\n",
    "            nn.ReLU(),\n",
    "            nn.Linear(512, 512),\n",
    "            nn.ReLU(),\n",
    "            nn.Linear(512, 10),\n",
    "            nn.ReLU()\n",
    "        )\n",
    "\n",
    "    def forward(self, x):\n",
    "        x = self.flatten(x)\n",
    "        logits = self.linear_relu_stack(x)\n",
    "        return logits\n"
   ]
  },
  {
   "cell_type": "code",
   "execution_count": 22,
   "id": "d9d529e4",
   "metadata": {},
   "outputs": [
    {
     "data": {
      "text/plain": [
       "NeuralNetwork(\n",
       "  (flatten): Flatten(start_dim=1, end_dim=-1)\n",
       "  (linear_relu_stack): Sequential(\n",
       "    (0): Linear(in_features=784, out_features=512, bias=True)\n",
       "    (1): ReLU()\n",
       "    (2): Linear(in_features=512, out_features=512, bias=True)\n",
       "    (3): ReLU()\n",
       "    (4): Linear(in_features=512, out_features=10, bias=True)\n",
       "    (5): ReLU()\n",
       "  )\n",
       ")"
      ]
     },
     "execution_count": 22,
     "metadata": {},
     "output_type": "execute_result"
    }
   ],
   "source": [
    "model = NeuralNetwork()\n",
    "model"
   ]
  },
  {
   "cell_type": "code",
   "execution_count": 23,
   "id": "8b67ade6",
   "metadata": {},
   "outputs": [
    {
     "data": {
      "text/plain": [
       "=================================================================\n",
       "Layer (type:depth-idx)                   Param #\n",
       "=================================================================\n",
       "NeuralNetwork                            --\n",
       "├─Flatten: 1-1                           --\n",
       "├─Sequential: 1-2                        --\n",
       "│    └─Linear: 2-1                       401,920\n",
       "│    └─ReLU: 2-2                         --\n",
       "│    └─Linear: 2-3                       262,656\n",
       "│    └─ReLU: 2-4                         --\n",
       "│    └─Linear: 2-5                       5,130\n",
       "│    └─ReLU: 2-6                         --\n",
       "=================================================================\n",
       "Total params: 669,706\n",
       "Trainable params: 669,706\n",
       "Non-trainable params: 0\n",
       "================================================================="
      ]
     },
     "execution_count": 23,
     "metadata": {},
     "output_type": "execute_result"
    }
   ],
   "source": [
    "summary(model)"
   ]
  },
  {
   "cell_type": "code",
   "execution_count": 27,
   "id": "1eedb3ce",
   "metadata": {},
   "outputs": [
    {
     "data": {
      "text/plain": [
       "==========================================================================================\n",
       "Layer (type:depth-idx)                   Output Shape              Param #\n",
       "==========================================================================================\n",
       "NeuralNetwork                            [5, 10]                   --\n",
       "├─Flatten: 1-1                           [5, 784]                  --\n",
       "├─Sequential: 1-2                        [5, 10]                   --\n",
       "│    └─Linear: 2-1                       [5, 512]                  401,920\n",
       "│    └─ReLU: 2-2                         [5, 512]                  --\n",
       "│    └─Linear: 2-3                       [5, 512]                  262,656\n",
       "│    └─ReLU: 2-4                         [5, 512]                  --\n",
       "│    └─Linear: 2-5                       [5, 10]                   5,130\n",
       "│    └─ReLU: 2-6                         [5, 10]                   --\n",
       "==========================================================================================\n",
       "Total params: 669,706\n",
       "Trainable params: 669,706\n",
       "Non-trainable params: 0\n",
       "Total mult-adds (M): 3.35\n",
       "==========================================================================================\n",
       "Input size (MB): 0.02\n",
       "Forward/backward pass size (MB): 0.04\n",
       "Params size (MB): 2.68\n",
       "Estimated Total Size (MB): 2.74\n",
       "=========================================================================================="
      ]
     },
     "execution_count": 27,
     "metadata": {},
     "output_type": "execute_result"
    }
   ],
   "source": [
    "summary(model, (5, 28, 28))"
   ]
  },
  {
   "cell_type": "code",
   "execution_count": 26,
   "id": "68c2006e",
   "metadata": {},
   "outputs": [
    {
     "data": {
      "text/plain": [
       "784"
      ]
     },
     "execution_count": 26,
     "metadata": {},
     "output_type": "execute_result"
    }
   ],
   "source": [
    "28**2"
   ]
  },
  {
   "cell_type": "code",
   "execution_count": 42,
   "id": "833656e1",
   "metadata": {},
   "outputs": [],
   "source": [
    "from torchvision.models import resnet50, ResNet50_Weights"
   ]
  },
  {
   "cell_type": "code",
   "execution_count": 32,
   "id": "79a0fcd1",
   "metadata": {
    "scrolled": true
   },
   "outputs": [
    {
     "data": {
      "text/plain": [
       "ResNet(\n",
       "  (conv1): Conv2d(3, 64, kernel_size=(7, 7), stride=(2, 2), padding=(3, 3), bias=False)\n",
       "  (bn1): BatchNorm2d(64, eps=1e-05, momentum=0.1, affine=True, track_running_stats=True)\n",
       "  (relu): ReLU(inplace=True)\n",
       "  (maxpool): MaxPool2d(kernel_size=3, stride=2, padding=1, dilation=1, ceil_mode=False)\n",
       "  (layer1): Sequential(\n",
       "    (0): Bottleneck(\n",
       "      (conv1): Conv2d(64, 64, kernel_size=(1, 1), stride=(1, 1), bias=False)\n",
       "      (bn1): BatchNorm2d(64, eps=1e-05, momentum=0.1, affine=True, track_running_stats=True)\n",
       "      (conv2): Conv2d(64, 64, kernel_size=(3, 3), stride=(1, 1), padding=(1, 1), bias=False)\n",
       "      (bn2): BatchNorm2d(64, eps=1e-05, momentum=0.1, affine=True, track_running_stats=True)\n",
       "      (conv3): Conv2d(64, 256, kernel_size=(1, 1), stride=(1, 1), bias=False)\n",
       "      (bn3): BatchNorm2d(256, eps=1e-05, momentum=0.1, affine=True, track_running_stats=True)\n",
       "      (relu): ReLU(inplace=True)\n",
       "      (downsample): Sequential(\n",
       "        (0): Conv2d(64, 256, kernel_size=(1, 1), stride=(1, 1), bias=False)\n",
       "        (1): BatchNorm2d(256, eps=1e-05, momentum=0.1, affine=True, track_running_stats=True)\n",
       "      )\n",
       "    )\n",
       "    (1): Bottleneck(\n",
       "      (conv1): Conv2d(256, 64, kernel_size=(1, 1), stride=(1, 1), bias=False)\n",
       "      (bn1): BatchNorm2d(64, eps=1e-05, momentum=0.1, affine=True, track_running_stats=True)\n",
       "      (conv2): Conv2d(64, 64, kernel_size=(3, 3), stride=(1, 1), padding=(1, 1), bias=False)\n",
       "      (bn2): BatchNorm2d(64, eps=1e-05, momentum=0.1, affine=True, track_running_stats=True)\n",
       "      (conv3): Conv2d(64, 256, kernel_size=(1, 1), stride=(1, 1), bias=False)\n",
       "      (bn3): BatchNorm2d(256, eps=1e-05, momentum=0.1, affine=True, track_running_stats=True)\n",
       "      (relu): ReLU(inplace=True)\n",
       "    )\n",
       "    (2): Bottleneck(\n",
       "      (conv1): Conv2d(256, 64, kernel_size=(1, 1), stride=(1, 1), bias=False)\n",
       "      (bn1): BatchNorm2d(64, eps=1e-05, momentum=0.1, affine=True, track_running_stats=True)\n",
       "      (conv2): Conv2d(64, 64, kernel_size=(3, 3), stride=(1, 1), padding=(1, 1), bias=False)\n",
       "      (bn2): BatchNorm2d(64, eps=1e-05, momentum=0.1, affine=True, track_running_stats=True)\n",
       "      (conv3): Conv2d(64, 256, kernel_size=(1, 1), stride=(1, 1), bias=False)\n",
       "      (bn3): BatchNorm2d(256, eps=1e-05, momentum=0.1, affine=True, track_running_stats=True)\n",
       "      (relu): ReLU(inplace=True)\n",
       "    )\n",
       "  )\n",
       "  (layer2): Sequential(\n",
       "    (0): Bottleneck(\n",
       "      (conv1): Conv2d(256, 128, kernel_size=(1, 1), stride=(1, 1), bias=False)\n",
       "      (bn1): BatchNorm2d(128, eps=1e-05, momentum=0.1, affine=True, track_running_stats=True)\n",
       "      (conv2): Conv2d(128, 128, kernel_size=(3, 3), stride=(2, 2), padding=(1, 1), bias=False)\n",
       "      (bn2): BatchNorm2d(128, eps=1e-05, momentum=0.1, affine=True, track_running_stats=True)\n",
       "      (conv3): Conv2d(128, 512, kernel_size=(1, 1), stride=(1, 1), bias=False)\n",
       "      (bn3): BatchNorm2d(512, eps=1e-05, momentum=0.1, affine=True, track_running_stats=True)\n",
       "      (relu): ReLU(inplace=True)\n",
       "      (downsample): Sequential(\n",
       "        (0): Conv2d(256, 512, kernel_size=(1, 1), stride=(2, 2), bias=False)\n",
       "        (1): BatchNorm2d(512, eps=1e-05, momentum=0.1, affine=True, track_running_stats=True)\n",
       "      )\n",
       "    )\n",
       "    (1): Bottleneck(\n",
       "      (conv1): Conv2d(512, 128, kernel_size=(1, 1), stride=(1, 1), bias=False)\n",
       "      (bn1): BatchNorm2d(128, eps=1e-05, momentum=0.1, affine=True, track_running_stats=True)\n",
       "      (conv2): Conv2d(128, 128, kernel_size=(3, 3), stride=(1, 1), padding=(1, 1), bias=False)\n",
       "      (bn2): BatchNorm2d(128, eps=1e-05, momentum=0.1, affine=True, track_running_stats=True)\n",
       "      (conv3): Conv2d(128, 512, kernel_size=(1, 1), stride=(1, 1), bias=False)\n",
       "      (bn3): BatchNorm2d(512, eps=1e-05, momentum=0.1, affine=True, track_running_stats=True)\n",
       "      (relu): ReLU(inplace=True)\n",
       "    )\n",
       "    (2): Bottleneck(\n",
       "      (conv1): Conv2d(512, 128, kernel_size=(1, 1), stride=(1, 1), bias=False)\n",
       "      (bn1): BatchNorm2d(128, eps=1e-05, momentum=0.1, affine=True, track_running_stats=True)\n",
       "      (conv2): Conv2d(128, 128, kernel_size=(3, 3), stride=(1, 1), padding=(1, 1), bias=False)\n",
       "      (bn2): BatchNorm2d(128, eps=1e-05, momentum=0.1, affine=True, track_running_stats=True)\n",
       "      (conv3): Conv2d(128, 512, kernel_size=(1, 1), stride=(1, 1), bias=False)\n",
       "      (bn3): BatchNorm2d(512, eps=1e-05, momentum=0.1, affine=True, track_running_stats=True)\n",
       "      (relu): ReLU(inplace=True)\n",
       "    )\n",
       "    (3): Bottleneck(\n",
       "      (conv1): Conv2d(512, 128, kernel_size=(1, 1), stride=(1, 1), bias=False)\n",
       "      (bn1): BatchNorm2d(128, eps=1e-05, momentum=0.1, affine=True, track_running_stats=True)\n",
       "      (conv2): Conv2d(128, 128, kernel_size=(3, 3), stride=(1, 1), padding=(1, 1), bias=False)\n",
       "      (bn2): BatchNorm2d(128, eps=1e-05, momentum=0.1, affine=True, track_running_stats=True)\n",
       "      (conv3): Conv2d(128, 512, kernel_size=(1, 1), stride=(1, 1), bias=False)\n",
       "      (bn3): BatchNorm2d(512, eps=1e-05, momentum=0.1, affine=True, track_running_stats=True)\n",
       "      (relu): ReLU(inplace=True)\n",
       "    )\n",
       "  )\n",
       "  (layer3): Sequential(\n",
       "    (0): Bottleneck(\n",
       "      (conv1): Conv2d(512, 256, kernel_size=(1, 1), stride=(1, 1), bias=False)\n",
       "      (bn1): BatchNorm2d(256, eps=1e-05, momentum=0.1, affine=True, track_running_stats=True)\n",
       "      (conv2): Conv2d(256, 256, kernel_size=(3, 3), stride=(2, 2), padding=(1, 1), bias=False)\n",
       "      (bn2): BatchNorm2d(256, eps=1e-05, momentum=0.1, affine=True, track_running_stats=True)\n",
       "      (conv3): Conv2d(256, 1024, kernel_size=(1, 1), stride=(1, 1), bias=False)\n",
       "      (bn3): BatchNorm2d(1024, eps=1e-05, momentum=0.1, affine=True, track_running_stats=True)\n",
       "      (relu): ReLU(inplace=True)\n",
       "      (downsample): Sequential(\n",
       "        (0): Conv2d(512, 1024, kernel_size=(1, 1), stride=(2, 2), bias=False)\n",
       "        (1): BatchNorm2d(1024, eps=1e-05, momentum=0.1, affine=True, track_running_stats=True)\n",
       "      )\n",
       "    )\n",
       "    (1): Bottleneck(\n",
       "      (conv1): Conv2d(1024, 256, kernel_size=(1, 1), stride=(1, 1), bias=False)\n",
       "      (bn1): BatchNorm2d(256, eps=1e-05, momentum=0.1, affine=True, track_running_stats=True)\n",
       "      (conv2): Conv2d(256, 256, kernel_size=(3, 3), stride=(1, 1), padding=(1, 1), bias=False)\n",
       "      (bn2): BatchNorm2d(256, eps=1e-05, momentum=0.1, affine=True, track_running_stats=True)\n",
       "      (conv3): Conv2d(256, 1024, kernel_size=(1, 1), stride=(1, 1), bias=False)\n",
       "      (bn3): BatchNorm2d(1024, eps=1e-05, momentum=0.1, affine=True, track_running_stats=True)\n",
       "      (relu): ReLU(inplace=True)\n",
       "    )\n",
       "    (2): Bottleneck(\n",
       "      (conv1): Conv2d(1024, 256, kernel_size=(1, 1), stride=(1, 1), bias=False)\n",
       "      (bn1): BatchNorm2d(256, eps=1e-05, momentum=0.1, affine=True, track_running_stats=True)\n",
       "      (conv2): Conv2d(256, 256, kernel_size=(3, 3), stride=(1, 1), padding=(1, 1), bias=False)\n",
       "      (bn2): BatchNorm2d(256, eps=1e-05, momentum=0.1, affine=True, track_running_stats=True)\n",
       "      (conv3): Conv2d(256, 1024, kernel_size=(1, 1), stride=(1, 1), bias=False)\n",
       "      (bn3): BatchNorm2d(1024, eps=1e-05, momentum=0.1, affine=True, track_running_stats=True)\n",
       "      (relu): ReLU(inplace=True)\n",
       "    )\n",
       "    (3): Bottleneck(\n",
       "      (conv1): Conv2d(1024, 256, kernel_size=(1, 1), stride=(1, 1), bias=False)\n",
       "      (bn1): BatchNorm2d(256, eps=1e-05, momentum=0.1, affine=True, track_running_stats=True)\n",
       "      (conv2): Conv2d(256, 256, kernel_size=(3, 3), stride=(1, 1), padding=(1, 1), bias=False)\n",
       "      (bn2): BatchNorm2d(256, eps=1e-05, momentum=0.1, affine=True, track_running_stats=True)\n",
       "      (conv3): Conv2d(256, 1024, kernel_size=(1, 1), stride=(1, 1), bias=False)\n",
       "      (bn3): BatchNorm2d(1024, eps=1e-05, momentum=0.1, affine=True, track_running_stats=True)\n",
       "      (relu): ReLU(inplace=True)\n",
       "    )\n",
       "    (4): Bottleneck(\n",
       "      (conv1): Conv2d(1024, 256, kernel_size=(1, 1), stride=(1, 1), bias=False)\n",
       "      (bn1): BatchNorm2d(256, eps=1e-05, momentum=0.1, affine=True, track_running_stats=True)\n",
       "      (conv2): Conv2d(256, 256, kernel_size=(3, 3), stride=(1, 1), padding=(1, 1), bias=False)\n",
       "      (bn2): BatchNorm2d(256, eps=1e-05, momentum=0.1, affine=True, track_running_stats=True)\n",
       "      (conv3): Conv2d(256, 1024, kernel_size=(1, 1), stride=(1, 1), bias=False)\n",
       "      (bn3): BatchNorm2d(1024, eps=1e-05, momentum=0.1, affine=True, track_running_stats=True)\n",
       "      (relu): ReLU(inplace=True)\n",
       "    )\n",
       "    (5): Bottleneck(\n",
       "      (conv1): Conv2d(1024, 256, kernel_size=(1, 1), stride=(1, 1), bias=False)\n",
       "      (bn1): BatchNorm2d(256, eps=1e-05, momentum=0.1, affine=True, track_running_stats=True)\n",
       "      (conv2): Conv2d(256, 256, kernel_size=(3, 3), stride=(1, 1), padding=(1, 1), bias=False)\n",
       "      (bn2): BatchNorm2d(256, eps=1e-05, momentum=0.1, affine=True, track_running_stats=True)\n",
       "      (conv3): Conv2d(256, 1024, kernel_size=(1, 1), stride=(1, 1), bias=False)\n",
       "      (bn3): BatchNorm2d(1024, eps=1e-05, momentum=0.1, affine=True, track_running_stats=True)\n",
       "      (relu): ReLU(inplace=True)\n",
       "    )\n",
       "  )\n",
       "  (layer4): Sequential(\n",
       "    (0): Bottleneck(\n",
       "      (conv1): Conv2d(1024, 512, kernel_size=(1, 1), stride=(1, 1), bias=False)\n",
       "      (bn1): BatchNorm2d(512, eps=1e-05, momentum=0.1, affine=True, track_running_stats=True)\n",
       "      (conv2): Conv2d(512, 512, kernel_size=(3, 3), stride=(2, 2), padding=(1, 1), bias=False)\n",
       "      (bn2): BatchNorm2d(512, eps=1e-05, momentum=0.1, affine=True, track_running_stats=True)\n",
       "      (conv3): Conv2d(512, 2048, kernel_size=(1, 1), stride=(1, 1), bias=False)\n",
       "      (bn3): BatchNorm2d(2048, eps=1e-05, momentum=0.1, affine=True, track_running_stats=True)\n",
       "      (relu): ReLU(inplace=True)\n",
       "      (downsample): Sequential(\n",
       "        (0): Conv2d(1024, 2048, kernel_size=(1, 1), stride=(2, 2), bias=False)\n",
       "        (1): BatchNorm2d(2048, eps=1e-05, momentum=0.1, affine=True, track_running_stats=True)\n",
       "      )\n",
       "    )\n",
       "    (1): Bottleneck(\n",
       "      (conv1): Conv2d(2048, 512, kernel_size=(1, 1), stride=(1, 1), bias=False)\n",
       "      (bn1): BatchNorm2d(512, eps=1e-05, momentum=0.1, affine=True, track_running_stats=True)\n",
       "      (conv2): Conv2d(512, 512, kernel_size=(3, 3), stride=(1, 1), padding=(1, 1), bias=False)\n",
       "      (bn2): BatchNorm2d(512, eps=1e-05, momentum=0.1, affine=True, track_running_stats=True)\n",
       "      (conv3): Conv2d(512, 2048, kernel_size=(1, 1), stride=(1, 1), bias=False)\n",
       "      (bn3): BatchNorm2d(2048, eps=1e-05, momentum=0.1, affine=True, track_running_stats=True)\n",
       "      (relu): ReLU(inplace=True)\n",
       "    )\n",
       "    (2): Bottleneck(\n",
       "      (conv1): Conv2d(2048, 512, kernel_size=(1, 1), stride=(1, 1), bias=False)\n",
       "      (bn1): BatchNorm2d(512, eps=1e-05, momentum=0.1, affine=True, track_running_stats=True)\n",
       "      (conv2): Conv2d(512, 512, kernel_size=(3, 3), stride=(1, 1), padding=(1, 1), bias=False)\n",
       "      (bn2): BatchNorm2d(512, eps=1e-05, momentum=0.1, affine=True, track_running_stats=True)\n",
       "      (conv3): Conv2d(512, 2048, kernel_size=(1, 1), stride=(1, 1), bias=False)\n",
       "      (bn3): BatchNorm2d(2048, eps=1e-05, momentum=0.1, affine=True, track_running_stats=True)\n",
       "      (relu): ReLU(inplace=True)\n",
       "    )\n",
       "  )\n",
       "  (avgpool): AdaptiveAvgPool2d(output_size=(1, 1))\n",
       "  (fc): Linear(in_features=2048, out_features=1000, bias=True)\n",
       ")"
      ]
     },
     "execution_count": 32,
     "metadata": {},
     "output_type": "execute_result"
    }
   ],
   "source": [
    "m1 = resnet50()\n",
    "m1"
   ]
  },
  {
   "cell_type": "code",
   "execution_count": 58,
   "id": "092dc2ed",
   "metadata": {},
   "outputs": [
    {
     "data": {
      "text/plain": [
       "==========================================================================================\n",
       "Layer (type:depth-idx)                   Output Shape              Param #\n",
       "==========================================================================================\n",
       "ResNet                                   [5, 1000]                 --\n",
       "├─Conv2d: 1-1                            [5, 64, 9, 9]             9,408\n",
       "├─BatchNorm2d: 1-2                       [5, 64, 9, 9]             128\n",
       "├─ReLU: 1-3                              [5, 64, 9, 9]             --\n",
       "├─MaxPool2d: 1-4                         [5, 64, 5, 5]             --\n",
       "├─Sequential: 1-5                        [5, 256, 5, 5]            --\n",
       "│    └─Bottleneck: 2-1                   [5, 256, 5, 5]            --\n",
       "│    │    └─Conv2d: 3-1                  [5, 64, 5, 5]             4,096\n",
       "│    │    └─BatchNorm2d: 3-2             [5, 64, 5, 5]             128\n",
       "│    │    └─ReLU: 3-3                    [5, 64, 5, 5]             --\n",
       "│    │    └─Conv2d: 3-4                  [5, 64, 5, 5]             36,864\n",
       "│    │    └─BatchNorm2d: 3-5             [5, 64, 5, 5]             128\n",
       "│    │    └─ReLU: 3-6                    [5, 64, 5, 5]             --\n",
       "│    │    └─Conv2d: 3-7                  [5, 256, 5, 5]            16,384\n",
       "│    │    └─BatchNorm2d: 3-8             [5, 256, 5, 5]            512\n",
       "│    │    └─Sequential: 3-9              [5, 256, 5, 5]            16,896\n",
       "│    │    └─ReLU: 3-10                   [5, 256, 5, 5]            --\n",
       "│    └─Bottleneck: 2-2                   [5, 256, 5, 5]            --\n",
       "│    │    └─Conv2d: 3-11                 [5, 64, 5, 5]             16,384\n",
       "│    │    └─BatchNorm2d: 3-12            [5, 64, 5, 5]             128\n",
       "│    │    └─ReLU: 3-13                   [5, 64, 5, 5]             --\n",
       "│    │    └─Conv2d: 3-14                 [5, 64, 5, 5]             36,864\n",
       "│    │    └─BatchNorm2d: 3-15            [5, 64, 5, 5]             128\n",
       "│    │    └─ReLU: 3-16                   [5, 64, 5, 5]             --\n",
       "│    │    └─Conv2d: 3-17                 [5, 256, 5, 5]            16,384\n",
       "│    │    └─BatchNorm2d: 3-18            [5, 256, 5, 5]            512\n",
       "│    │    └─ReLU: 3-19                   [5, 256, 5, 5]            --\n",
       "│    └─Bottleneck: 2-3                   [5, 256, 5, 5]            --\n",
       "│    │    └─Conv2d: 3-20                 [5, 64, 5, 5]             16,384\n",
       "│    │    └─BatchNorm2d: 3-21            [5, 64, 5, 5]             128\n",
       "│    │    └─ReLU: 3-22                   [5, 64, 5, 5]             --\n",
       "│    │    └─Conv2d: 3-23                 [5, 64, 5, 5]             36,864\n",
       "│    │    └─BatchNorm2d: 3-24            [5, 64, 5, 5]             128\n",
       "│    │    └─ReLU: 3-25                   [5, 64, 5, 5]             --\n",
       "│    │    └─Conv2d: 3-26                 [5, 256, 5, 5]            16,384\n",
       "│    │    └─BatchNorm2d: 3-27            [5, 256, 5, 5]            512\n",
       "│    │    └─ReLU: 3-28                   [5, 256, 5, 5]            --\n",
       "├─Sequential: 1-6                        [5, 512, 3, 3]            --\n",
       "│    └─Bottleneck: 2-4                   [5, 512, 3, 3]            --\n",
       "│    │    └─Conv2d: 3-29                 [5, 128, 5, 5]            32,768\n",
       "│    │    └─BatchNorm2d: 3-30            [5, 128, 5, 5]            256\n",
       "│    │    └─ReLU: 3-31                   [5, 128, 5, 5]            --\n",
       "│    │    └─Conv2d: 3-32                 [5, 128, 3, 3]            147,456\n",
       "│    │    └─BatchNorm2d: 3-33            [5, 128, 3, 3]            256\n",
       "│    │    └─ReLU: 3-34                   [5, 128, 3, 3]            --\n",
       "│    │    └─Conv2d: 3-35                 [5, 512, 3, 3]            65,536\n",
       "│    │    └─BatchNorm2d: 3-36            [5, 512, 3, 3]            1,024\n",
       "│    │    └─Sequential: 3-37             [5, 512, 3, 3]            132,096\n",
       "│    │    └─ReLU: 3-38                   [5, 512, 3, 3]            --\n",
       "│    └─Bottleneck: 2-5                   [5, 512, 3, 3]            --\n",
       "│    │    └─Conv2d: 3-39                 [5, 128, 3, 3]            65,536\n",
       "│    │    └─BatchNorm2d: 3-40            [5, 128, 3, 3]            256\n",
       "│    │    └─ReLU: 3-41                   [5, 128, 3, 3]            --\n",
       "│    │    └─Conv2d: 3-42                 [5, 128, 3, 3]            147,456\n",
       "│    │    └─BatchNorm2d: 3-43            [5, 128, 3, 3]            256\n",
       "│    │    └─ReLU: 3-44                   [5, 128, 3, 3]            --\n",
       "│    │    └─Conv2d: 3-45                 [5, 512, 3, 3]            65,536\n",
       "│    │    └─BatchNorm2d: 3-46            [5, 512, 3, 3]            1,024\n",
       "│    │    └─ReLU: 3-47                   [5, 512, 3, 3]            --\n",
       "│    └─Bottleneck: 2-6                   [5, 512, 3, 3]            --\n",
       "│    │    └─Conv2d: 3-48                 [5, 128, 3, 3]            65,536\n",
       "│    │    └─BatchNorm2d: 3-49            [5, 128, 3, 3]            256\n",
       "│    │    └─ReLU: 3-50                   [5, 128, 3, 3]            --\n",
       "│    │    └─Conv2d: 3-51                 [5, 128, 3, 3]            147,456\n",
       "│    │    └─BatchNorm2d: 3-52            [5, 128, 3, 3]            256\n",
       "│    │    └─ReLU: 3-53                   [5, 128, 3, 3]            --\n",
       "│    │    └─Conv2d: 3-54                 [5, 512, 3, 3]            65,536\n",
       "│    │    └─BatchNorm2d: 3-55            [5, 512, 3, 3]            1,024\n",
       "│    │    └─ReLU: 3-56                   [5, 512, 3, 3]            --\n",
       "│    └─Bottleneck: 2-7                   [5, 512, 3, 3]            --\n",
       "│    │    └─Conv2d: 3-57                 [5, 128, 3, 3]            65,536\n",
       "│    │    └─BatchNorm2d: 3-58            [5, 128, 3, 3]            256\n",
       "│    │    └─ReLU: 3-59                   [5, 128, 3, 3]            --\n",
       "│    │    └─Conv2d: 3-60                 [5, 128, 3, 3]            147,456\n",
       "│    │    └─BatchNorm2d: 3-61            [5, 128, 3, 3]            256\n",
       "│    │    └─ReLU: 3-62                   [5, 128, 3, 3]            --\n",
       "│    │    └─Conv2d: 3-63                 [5, 512, 3, 3]            65,536\n",
       "│    │    └─BatchNorm2d: 3-64            [5, 512, 3, 3]            1,024\n",
       "│    │    └─ReLU: 3-65                   [5, 512, 3, 3]            --\n",
       "├─Sequential: 1-7                        [5, 1024, 2, 2]           --\n",
       "│    └─Bottleneck: 2-8                   [5, 1024, 2, 2]           --\n",
       "│    │    └─Conv2d: 3-66                 [5, 256, 3, 3]            131,072\n",
       "│    │    └─BatchNorm2d: 3-67            [5, 256, 3, 3]            512\n",
       "│    │    └─ReLU: 3-68                   [5, 256, 3, 3]            --\n",
       "│    │    └─Conv2d: 3-69                 [5, 256, 2, 2]            589,824\n",
       "│    │    └─BatchNorm2d: 3-70            [5, 256, 2, 2]            512\n",
       "│    │    └─ReLU: 3-71                   [5, 256, 2, 2]            --\n",
       "│    │    └─Conv2d: 3-72                 [5, 1024, 2, 2]           262,144\n",
       "│    │    └─BatchNorm2d: 3-73            [5, 1024, 2, 2]           2,048\n",
       "│    │    └─Sequential: 3-74             [5, 1024, 2, 2]           526,336\n",
       "│    │    └─ReLU: 3-75                   [5, 1024, 2, 2]           --\n",
       "│    └─Bottleneck: 2-9                   [5, 1024, 2, 2]           --\n",
       "│    │    └─Conv2d: 3-76                 [5, 256, 2, 2]            262,144\n",
       "│    │    └─BatchNorm2d: 3-77            [5, 256, 2, 2]            512\n",
       "│    │    └─ReLU: 3-78                   [5, 256, 2, 2]            --\n",
       "│    │    └─Conv2d: 3-79                 [5, 256, 2, 2]            589,824\n",
       "│    │    └─BatchNorm2d: 3-80            [5, 256, 2, 2]            512\n",
       "│    │    └─ReLU: 3-81                   [5, 256, 2, 2]            --\n",
       "│    │    └─Conv2d: 3-82                 [5, 1024, 2, 2]           262,144\n",
       "│    │    └─BatchNorm2d: 3-83            [5, 1024, 2, 2]           2,048\n",
       "│    │    └─ReLU: 3-84                   [5, 1024, 2, 2]           --\n",
       "│    └─Bottleneck: 2-10                  [5, 1024, 2, 2]           --\n",
       "│    │    └─Conv2d: 3-85                 [5, 256, 2, 2]            262,144\n",
       "│    │    └─BatchNorm2d: 3-86            [5, 256, 2, 2]            512\n",
       "│    │    └─ReLU: 3-87                   [5, 256, 2, 2]            --\n",
       "│    │    └─Conv2d: 3-88                 [5, 256, 2, 2]            589,824\n",
       "│    │    └─BatchNorm2d: 3-89            [5, 256, 2, 2]            512\n",
       "│    │    └─ReLU: 3-90                   [5, 256, 2, 2]            --\n",
       "│    │    └─Conv2d: 3-91                 [5, 1024, 2, 2]           262,144\n",
       "│    │    └─BatchNorm2d: 3-92            [5, 1024, 2, 2]           2,048\n",
       "│    │    └─ReLU: 3-93                   [5, 1024, 2, 2]           --\n",
       "│    └─Bottleneck: 2-11                  [5, 1024, 2, 2]           --\n",
       "│    │    └─Conv2d: 3-94                 [5, 256, 2, 2]            262,144\n",
       "│    │    └─BatchNorm2d: 3-95            [5, 256, 2, 2]            512\n",
       "│    │    └─ReLU: 3-96                   [5, 256, 2, 2]            --\n",
       "│    │    └─Conv2d: 3-97                 [5, 256, 2, 2]            589,824\n",
       "│    │    └─BatchNorm2d: 3-98            [5, 256, 2, 2]            512\n",
       "│    │    └─ReLU: 3-99                   [5, 256, 2, 2]            --\n",
       "│    │    └─Conv2d: 3-100                [5, 1024, 2, 2]           262,144\n",
       "│    │    └─BatchNorm2d: 3-101           [5, 1024, 2, 2]           2,048\n",
       "│    │    └─ReLU: 3-102                  [5, 1024, 2, 2]           --\n",
       "│    └─Bottleneck: 2-12                  [5, 1024, 2, 2]           --\n",
       "│    │    └─Conv2d: 3-103                [5, 256, 2, 2]            262,144\n",
       "│    │    └─BatchNorm2d: 3-104           [5, 256, 2, 2]            512\n",
       "│    │    └─ReLU: 3-105                  [5, 256, 2, 2]            --\n",
       "│    │    └─Conv2d: 3-106                [5, 256, 2, 2]            589,824\n",
       "│    │    └─BatchNorm2d: 3-107           [5, 256, 2, 2]            512\n",
       "│    │    └─ReLU: 3-108                  [5, 256, 2, 2]            --\n",
       "│    │    └─Conv2d: 3-109                [5, 1024, 2, 2]           262,144\n",
       "│    │    └─BatchNorm2d: 3-110           [5, 1024, 2, 2]           2,048\n",
       "│    │    └─ReLU: 3-111                  [5, 1024, 2, 2]           --\n",
       "│    └─Bottleneck: 2-13                  [5, 1024, 2, 2]           --\n",
       "│    │    └─Conv2d: 3-112                [5, 256, 2, 2]            262,144\n",
       "│    │    └─BatchNorm2d: 3-113           [5, 256, 2, 2]            512\n",
       "│    │    └─ReLU: 3-114                  [5, 256, 2, 2]            --\n",
       "│    │    └─Conv2d: 3-115                [5, 256, 2, 2]            589,824\n",
       "│    │    └─BatchNorm2d: 3-116           [5, 256, 2, 2]            512\n",
       "│    │    └─ReLU: 3-117                  [5, 256, 2, 2]            --\n",
       "│    │    └─Conv2d: 3-118                [5, 1024, 2, 2]           262,144\n",
       "│    │    └─BatchNorm2d: 3-119           [5, 1024, 2, 2]           2,048\n",
       "│    │    └─ReLU: 3-120                  [5, 1024, 2, 2]           --\n",
       "├─Sequential: 1-8                        [5, 2048, 1, 1]           --\n",
       "│    └─Bottleneck: 2-14                  [5, 2048, 1, 1]           --\n",
       "│    │    └─Conv2d: 3-121                [5, 512, 2, 2]            524,288\n",
       "│    │    └─BatchNorm2d: 3-122           [5, 512, 2, 2]            1,024\n",
       "│    │    └─ReLU: 3-123                  [5, 512, 2, 2]            --\n",
       "│    │    └─Conv2d: 3-124                [5, 512, 1, 1]            2,359,296\n",
       "│    │    └─BatchNorm2d: 3-125           [5, 512, 1, 1]            1,024\n",
       "│    │    └─ReLU: 3-126                  [5, 512, 1, 1]            --\n",
       "│    │    └─Conv2d: 3-127                [5, 2048, 1, 1]           1,048,576\n",
       "│    │    └─BatchNorm2d: 3-128           [5, 2048, 1, 1]           4,096\n",
       "│    │    └─Sequential: 3-129            [5, 2048, 1, 1]           2,101,248\n",
       "│    │    └─ReLU: 3-130                  [5, 2048, 1, 1]           --\n",
       "│    └─Bottleneck: 2-15                  [5, 2048, 1, 1]           --\n",
       "│    │    └─Conv2d: 3-131                [5, 512, 1, 1]            1,048,576\n",
       "│    │    └─BatchNorm2d: 3-132           [5, 512, 1, 1]            1,024\n",
       "│    │    └─ReLU: 3-133                  [5, 512, 1, 1]            --\n",
       "│    │    └─Conv2d: 3-134                [5, 512, 1, 1]            2,359,296\n",
       "│    │    └─BatchNorm2d: 3-135           [5, 512, 1, 1]            1,024\n",
       "│    │    └─ReLU: 3-136                  [5, 512, 1, 1]            --\n",
       "│    │    └─Conv2d: 3-137                [5, 2048, 1, 1]           1,048,576\n",
       "│    │    └─BatchNorm2d: 3-138           [5, 2048, 1, 1]           4,096\n",
       "│    │    └─ReLU: 3-139                  [5, 2048, 1, 1]           --\n",
       "│    └─Bottleneck: 2-16                  [5, 2048, 1, 1]           --\n",
       "│    │    └─Conv2d: 3-140                [5, 512, 1, 1]            1,048,576\n",
       "│    │    └─BatchNorm2d: 3-141           [5, 512, 1, 1]            1,024\n",
       "│    │    └─ReLU: 3-142                  [5, 512, 1, 1]            --\n",
       "│    │    └─Conv2d: 3-143                [5, 512, 1, 1]            2,359,296\n",
       "│    │    └─BatchNorm2d: 3-144           [5, 512, 1, 1]            1,024\n",
       "│    │    └─ReLU: 3-145                  [5, 512, 1, 1]            --\n",
       "│    │    └─Conv2d: 3-146                [5, 2048, 1, 1]           1,048,576\n",
       "│    │    └─BatchNorm2d: 3-147           [5, 2048, 1, 1]           4,096\n",
       "│    │    └─ReLU: 3-148                  [5, 2048, 1, 1]           --\n",
       "├─AdaptiveAvgPool2d: 1-9                 [5, 2048, 1, 1]           --\n",
       "├─Linear: 1-10                           [5, 1000]                 2,049,000\n",
       "==========================================================================================\n",
       "Total params: 25,557,032\n",
       "Trainable params: 25,557,032\n",
       "Non-trainable params: 0\n",
       "Total mult-adds (M): 325.53\n",
       "==========================================================================================\n",
       "Input size (MB): 0.02\n",
       "Forward/backward pass size (MB): 10.42\n",
       "Params size (MB): 102.23\n",
       "Estimated Total Size (MB): 112.67\n",
       "=========================================================================================="
      ]
     },
     "execution_count": 58,
     "metadata": {},
     "output_type": "execute_result"
    }
   ],
   "source": [
    "summary(m1, (5,3,18,18))"
   ]
  },
  {
   "cell_type": "code",
   "execution_count": 45,
   "id": "351c8624",
   "metadata": {},
   "outputs": [
    {
     "data": {
      "text/plain": [
       "ImageClassification(\n",
       "    crop_size=[224]\n",
       "    resize_size=[232]\n",
       "    mean=[0.485, 0.456, 0.406]\n",
       "    std=[0.229, 0.224, 0.225]\n",
       "    interpolation=InterpolationMode.BILINEAR\n",
       ")"
      ]
     },
     "execution_count": 45,
     "metadata": {},
     "output_type": "execute_result"
    }
   ],
   "source": [
    "ResNet50_Weights.DEFAULT.transforms()"
   ]
  },
  {
   "cell_type": "code",
   "execution_count": 46,
   "id": "a3d9dcc4",
   "metadata": {},
   "outputs": [
    {
     "data": {
      "text/plain": [
       "torchvision.transforms._presets.ImageClassification"
      ]
     },
     "execution_count": 46,
     "metadata": {},
     "output_type": "execute_result"
    }
   ],
   "source": [
    "type(ResNet50_Weights.DEFAULT.transforms())"
   ]
  },
  {
   "cell_type": "code",
   "execution_count": null,
   "id": "f3af1415",
   "metadata": {},
   "outputs": [],
   "source": []
  },
  {
   "cell_type": "code",
   "execution_count": 59,
   "id": "50e6111b",
   "metadata": {},
   "outputs": [],
   "source": [
    "from torchvision.models import resnet18"
   ]
  },
  {
   "cell_type": "code",
   "execution_count": 60,
   "id": "54554ad0",
   "metadata": {
    "scrolled": true
   },
   "outputs": [
    {
     "data": {
      "text/plain": [
       "ResNet(\n",
       "  (conv1): Conv2d(3, 64, kernel_size=(7, 7), stride=(2, 2), padding=(3, 3), bias=False)\n",
       "  (bn1): BatchNorm2d(64, eps=1e-05, momentum=0.1, affine=True, track_running_stats=True)\n",
       "  (relu): ReLU(inplace=True)\n",
       "  (maxpool): MaxPool2d(kernel_size=3, stride=2, padding=1, dilation=1, ceil_mode=False)\n",
       "  (layer1): Sequential(\n",
       "    (0): BasicBlock(\n",
       "      (conv1): Conv2d(64, 64, kernel_size=(3, 3), stride=(1, 1), padding=(1, 1), bias=False)\n",
       "      (bn1): BatchNorm2d(64, eps=1e-05, momentum=0.1, affine=True, track_running_stats=True)\n",
       "      (relu): ReLU(inplace=True)\n",
       "      (conv2): Conv2d(64, 64, kernel_size=(3, 3), stride=(1, 1), padding=(1, 1), bias=False)\n",
       "      (bn2): BatchNorm2d(64, eps=1e-05, momentum=0.1, affine=True, track_running_stats=True)\n",
       "    )\n",
       "    (1): BasicBlock(\n",
       "      (conv1): Conv2d(64, 64, kernel_size=(3, 3), stride=(1, 1), padding=(1, 1), bias=False)\n",
       "      (bn1): BatchNorm2d(64, eps=1e-05, momentum=0.1, affine=True, track_running_stats=True)\n",
       "      (relu): ReLU(inplace=True)\n",
       "      (conv2): Conv2d(64, 64, kernel_size=(3, 3), stride=(1, 1), padding=(1, 1), bias=False)\n",
       "      (bn2): BatchNorm2d(64, eps=1e-05, momentum=0.1, affine=True, track_running_stats=True)\n",
       "    )\n",
       "  )\n",
       "  (layer2): Sequential(\n",
       "    (0): BasicBlock(\n",
       "      (conv1): Conv2d(64, 128, kernel_size=(3, 3), stride=(2, 2), padding=(1, 1), bias=False)\n",
       "      (bn1): BatchNorm2d(128, eps=1e-05, momentum=0.1, affine=True, track_running_stats=True)\n",
       "      (relu): ReLU(inplace=True)\n",
       "      (conv2): Conv2d(128, 128, kernel_size=(3, 3), stride=(1, 1), padding=(1, 1), bias=False)\n",
       "      (bn2): BatchNorm2d(128, eps=1e-05, momentum=0.1, affine=True, track_running_stats=True)\n",
       "      (downsample): Sequential(\n",
       "        (0): Conv2d(64, 128, kernel_size=(1, 1), stride=(2, 2), bias=False)\n",
       "        (1): BatchNorm2d(128, eps=1e-05, momentum=0.1, affine=True, track_running_stats=True)\n",
       "      )\n",
       "    )\n",
       "    (1): BasicBlock(\n",
       "      (conv1): Conv2d(128, 128, kernel_size=(3, 3), stride=(1, 1), padding=(1, 1), bias=False)\n",
       "      (bn1): BatchNorm2d(128, eps=1e-05, momentum=0.1, affine=True, track_running_stats=True)\n",
       "      (relu): ReLU(inplace=True)\n",
       "      (conv2): Conv2d(128, 128, kernel_size=(3, 3), stride=(1, 1), padding=(1, 1), bias=False)\n",
       "      (bn2): BatchNorm2d(128, eps=1e-05, momentum=0.1, affine=True, track_running_stats=True)\n",
       "    )\n",
       "  )\n",
       "  (layer3): Sequential(\n",
       "    (0): BasicBlock(\n",
       "      (conv1): Conv2d(128, 256, kernel_size=(3, 3), stride=(2, 2), padding=(1, 1), bias=False)\n",
       "      (bn1): BatchNorm2d(256, eps=1e-05, momentum=0.1, affine=True, track_running_stats=True)\n",
       "      (relu): ReLU(inplace=True)\n",
       "      (conv2): Conv2d(256, 256, kernel_size=(3, 3), stride=(1, 1), padding=(1, 1), bias=False)\n",
       "      (bn2): BatchNorm2d(256, eps=1e-05, momentum=0.1, affine=True, track_running_stats=True)\n",
       "      (downsample): Sequential(\n",
       "        (0): Conv2d(128, 256, kernel_size=(1, 1), stride=(2, 2), bias=False)\n",
       "        (1): BatchNorm2d(256, eps=1e-05, momentum=0.1, affine=True, track_running_stats=True)\n",
       "      )\n",
       "    )\n",
       "    (1): BasicBlock(\n",
       "      (conv1): Conv2d(256, 256, kernel_size=(3, 3), stride=(1, 1), padding=(1, 1), bias=False)\n",
       "      (bn1): BatchNorm2d(256, eps=1e-05, momentum=0.1, affine=True, track_running_stats=True)\n",
       "      (relu): ReLU(inplace=True)\n",
       "      (conv2): Conv2d(256, 256, kernel_size=(3, 3), stride=(1, 1), padding=(1, 1), bias=False)\n",
       "      (bn2): BatchNorm2d(256, eps=1e-05, momentum=0.1, affine=True, track_running_stats=True)\n",
       "    )\n",
       "  )\n",
       "  (layer4): Sequential(\n",
       "    (0): BasicBlock(\n",
       "      (conv1): Conv2d(256, 512, kernel_size=(3, 3), stride=(2, 2), padding=(1, 1), bias=False)\n",
       "      (bn1): BatchNorm2d(512, eps=1e-05, momentum=0.1, affine=True, track_running_stats=True)\n",
       "      (relu): ReLU(inplace=True)\n",
       "      (conv2): Conv2d(512, 512, kernel_size=(3, 3), stride=(1, 1), padding=(1, 1), bias=False)\n",
       "      (bn2): BatchNorm2d(512, eps=1e-05, momentum=0.1, affine=True, track_running_stats=True)\n",
       "      (downsample): Sequential(\n",
       "        (0): Conv2d(256, 512, kernel_size=(1, 1), stride=(2, 2), bias=False)\n",
       "        (1): BatchNorm2d(512, eps=1e-05, momentum=0.1, affine=True, track_running_stats=True)\n",
       "      )\n",
       "    )\n",
       "    (1): BasicBlock(\n",
       "      (conv1): Conv2d(512, 512, kernel_size=(3, 3), stride=(1, 1), padding=(1, 1), bias=False)\n",
       "      (bn1): BatchNorm2d(512, eps=1e-05, momentum=0.1, affine=True, track_running_stats=True)\n",
       "      (relu): ReLU(inplace=True)\n",
       "      (conv2): Conv2d(512, 512, kernel_size=(3, 3), stride=(1, 1), padding=(1, 1), bias=False)\n",
       "      (bn2): BatchNorm2d(512, eps=1e-05, momentum=0.1, affine=True, track_running_stats=True)\n",
       "    )\n",
       "  )\n",
       "  (avgpool): AdaptiveAvgPool2d(output_size=(1, 1))\n",
       "  (fc): Linear(in_features=512, out_features=1000, bias=True)\n",
       ")"
      ]
     },
     "execution_count": 60,
     "metadata": {},
     "output_type": "execute_result"
    }
   ],
   "source": [
    "m2 = resnet18()\n",
    "m2"
   ]
  },
  {
   "cell_type": "code",
   "execution_count": 63,
   "id": "6360f166",
   "metadata": {
    "scrolled": true
   },
   "outputs": [
    {
     "data": {
      "text/plain": [
       "==========================================================================================\n",
       "Layer (type:depth-idx)                   Output Shape              Param #\n",
       "==========================================================================================\n",
       "ResNet                                   [5, 1000]                 --\n",
       "├─Conv2d: 1-1                            [5, 64, 14, 14]           9,408\n",
       "├─BatchNorm2d: 1-2                       [5, 64, 14, 14]           128\n",
       "├─ReLU: 1-3                              [5, 64, 14, 14]           --\n",
       "├─MaxPool2d: 1-4                         [5, 64, 7, 7]             --\n",
       "├─Sequential: 1-5                        [5, 64, 7, 7]             --\n",
       "│    └─BasicBlock: 2-1                   [5, 64, 7, 7]             --\n",
       "│    │    └─Conv2d: 3-1                  [5, 64, 7, 7]             36,864\n",
       "│    │    └─BatchNorm2d: 3-2             [5, 64, 7, 7]             128\n",
       "│    │    └─ReLU: 3-3                    [5, 64, 7, 7]             --\n",
       "│    │    └─Conv2d: 3-4                  [5, 64, 7, 7]             36,864\n",
       "│    │    └─BatchNorm2d: 3-5             [5, 64, 7, 7]             128\n",
       "│    │    └─ReLU: 3-6                    [5, 64, 7, 7]             --\n",
       "│    └─BasicBlock: 2-2                   [5, 64, 7, 7]             --\n",
       "│    │    └─Conv2d: 3-7                  [5, 64, 7, 7]             36,864\n",
       "│    │    └─BatchNorm2d: 3-8             [5, 64, 7, 7]             128\n",
       "│    │    └─ReLU: 3-9                    [5, 64, 7, 7]             --\n",
       "│    │    └─Conv2d: 3-10                 [5, 64, 7, 7]             36,864\n",
       "│    │    └─BatchNorm2d: 3-11            [5, 64, 7, 7]             128\n",
       "│    │    └─ReLU: 3-12                   [5, 64, 7, 7]             --\n",
       "├─Sequential: 1-6                        [5, 128, 4, 4]            --\n",
       "│    └─BasicBlock: 2-3                   [5, 128, 4, 4]            --\n",
       "│    │    └─Conv2d: 3-13                 [5, 128, 4, 4]            73,728\n",
       "│    │    └─BatchNorm2d: 3-14            [5, 128, 4, 4]            256\n",
       "│    │    └─ReLU: 3-15                   [5, 128, 4, 4]            --\n",
       "│    │    └─Conv2d: 3-16                 [5, 128, 4, 4]            147,456\n",
       "│    │    └─BatchNorm2d: 3-17            [5, 128, 4, 4]            256\n",
       "│    │    └─Sequential: 3-18             [5, 128, 4, 4]            8,448\n",
       "│    │    └─ReLU: 3-19                   [5, 128, 4, 4]            --\n",
       "│    └─BasicBlock: 2-4                   [5, 128, 4, 4]            --\n",
       "│    │    └─Conv2d: 3-20                 [5, 128, 4, 4]            147,456\n",
       "│    │    └─BatchNorm2d: 3-21            [5, 128, 4, 4]            256\n",
       "│    │    └─ReLU: 3-22                   [5, 128, 4, 4]            --\n",
       "│    │    └─Conv2d: 3-23                 [5, 128, 4, 4]            147,456\n",
       "│    │    └─BatchNorm2d: 3-24            [5, 128, 4, 4]            256\n",
       "│    │    └─ReLU: 3-25                   [5, 128, 4, 4]            --\n",
       "├─Sequential: 1-7                        [5, 256, 2, 2]            --\n",
       "│    └─BasicBlock: 2-5                   [5, 256, 2, 2]            --\n",
       "│    │    └─Conv2d: 3-26                 [5, 256, 2, 2]            294,912\n",
       "│    │    └─BatchNorm2d: 3-27            [5, 256, 2, 2]            512\n",
       "│    │    └─ReLU: 3-28                   [5, 256, 2, 2]            --\n",
       "│    │    └─Conv2d: 3-29                 [5, 256, 2, 2]            589,824\n",
       "│    │    └─BatchNorm2d: 3-30            [5, 256, 2, 2]            512\n",
       "│    │    └─Sequential: 3-31             [5, 256, 2, 2]            33,280\n",
       "│    │    └─ReLU: 3-32                   [5, 256, 2, 2]            --\n",
       "│    └─BasicBlock: 2-6                   [5, 256, 2, 2]            --\n",
       "│    │    └─Conv2d: 3-33                 [5, 256, 2, 2]            589,824\n",
       "│    │    └─BatchNorm2d: 3-34            [5, 256, 2, 2]            512\n",
       "│    │    └─ReLU: 3-35                   [5, 256, 2, 2]            --\n",
       "│    │    └─Conv2d: 3-36                 [5, 256, 2, 2]            589,824\n",
       "│    │    └─BatchNorm2d: 3-37            [5, 256, 2, 2]            512\n",
       "│    │    └─ReLU: 3-38                   [5, 256, 2, 2]            --\n",
       "├─Sequential: 1-8                        [5, 512, 1, 1]            --\n",
       "│    └─BasicBlock: 2-7                   [5, 512, 1, 1]            --\n",
       "│    │    └─Conv2d: 3-39                 [5, 512, 1, 1]            1,179,648\n",
       "│    │    └─BatchNorm2d: 3-40            [5, 512, 1, 1]            1,024\n",
       "│    │    └─ReLU: 3-41                   [5, 512, 1, 1]            --\n",
       "│    │    └─Conv2d: 3-42                 [5, 512, 1, 1]            2,359,296\n",
       "│    │    └─BatchNorm2d: 3-43            [5, 512, 1, 1]            1,024\n",
       "│    │    └─Sequential: 3-44             [5, 512, 1, 1]            132,096\n",
       "│    │    └─ReLU: 3-45                   [5, 512, 1, 1]            --\n",
       "│    └─BasicBlock: 2-8                   [5, 512, 1, 1]            --\n",
       "│    │    └─Conv2d: 3-46                 [5, 512, 1, 1]            2,359,296\n",
       "│    │    └─BatchNorm2d: 3-47            [5, 512, 1, 1]            1,024\n",
       "│    │    └─ReLU: 3-48                   [5, 512, 1, 1]            --\n",
       "│    │    └─Conv2d: 3-49                 [5, 512, 1, 1]            2,359,296\n",
       "│    │    └─BatchNorm2d: 3-50            [5, 512, 1, 1]            1,024\n",
       "│    │    └─ReLU: 3-51                   [5, 512, 1, 1]            --\n",
       "├─AdaptiveAvgPool2d: 1-9                 [5, 512, 1, 1]            --\n",
       "├─Linear: 1-10                           [5, 1000]                 513,000\n",
       "==========================================================================================\n",
       "Total params: 11,689,512\n",
       "Trainable params: 11,689,512\n",
       "Non-trainable params: 0\n",
       "Total mult-adds (M): 173.79\n",
       "==========================================================================================\n",
       "Input size (MB): 0.05\n",
       "Forward/backward pass size (MB): 3.48\n",
       "Params size (MB): 46.76\n",
       "Estimated Total Size (MB): 50.29\n",
       "=========================================================================================="
      ]
     },
     "execution_count": 63,
     "metadata": {},
     "output_type": "execute_result"
    }
   ],
   "source": [
    "summary(m2, (5,3,28,28))"
   ]
  },
  {
   "cell_type": "code",
   "execution_count": null,
   "id": "91988bfb",
   "metadata": {},
   "outputs": [],
   "source": []
  },
  {
   "cell_type": "code",
   "execution_count": null,
   "id": "f9be3305",
   "metadata": {},
   "outputs": [],
   "source": []
  },
  {
   "cell_type": "code",
   "execution_count": null,
   "id": "8b50107a",
   "metadata": {},
   "outputs": [],
   "source": []
  }
 ],
 "metadata": {
  "kernelspec": {
   "display_name": "Python 3 (ipykernel)",
   "language": "python",
   "name": "python3"
  },
  "language_info": {
   "codemirror_mode": {
    "name": "ipython",
    "version": 3
   },
   "file_extension": ".py",
   "mimetype": "text/x-python",
   "name": "python",
   "nbconvert_exporter": "python",
   "pygments_lexer": "ipython3",
   "version": "3.8.13"
  }
 },
 "nbformat": 4,
 "nbformat_minor": 5
}
