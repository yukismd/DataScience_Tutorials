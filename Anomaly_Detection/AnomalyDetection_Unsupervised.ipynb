{
 "cells": [
  {
   "cell_type": "markdown",
   "id": "4c9a2d59",
   "metadata": {},
   "source": [
    "# 教師なし学習による異常検知\n",
    "#### アプローチ\n",
    "- Isolation Forest\n",
    "- k-Means\n",
    "- PCA(SVD)"
   ]
  },
  {
   "cell_type": "code",
   "execution_count": 10,
   "id": "01c4b17c",
   "metadata": {},
   "outputs": [],
   "source": [
    "import numpy as np\n",
    "from scipy.stats import multivariate_normal\n",
    "import pandas as pd\n",
    "import matplotlib.pyplot as plt\n",
    "from sklearn.preprocessing import StandardScaler"
   ]
  },
  {
   "cell_type": "markdown",
   "id": "def834cd",
   "metadata": {},
   "source": [
    "## サンプルデータの作成"
   ]
  },
  {
   "cell_type": "code",
   "execution_count": 70,
   "id": "b235df52",
   "metadata": {
    "scrolled": false
   },
   "outputs": [
    {
     "name": "stdout",
     "output_type": "stream",
     "text": [
      "(315, 2)\n"
     ]
    },
    {
     "name": "stderr",
     "output_type": "stream",
     "text": [
      "<ipython-input-70-0e6287581ff6>:3: RuntimeWarning: covariance is not positive-semidefinite.\n",
      "  data1 = np.random.multivariate_normal(mean = np.array([0, 0]),\n",
      "<ipython-input-70-0e6287581ff6>:8: RuntimeWarning: covariance is not positive-semidefinite.\n",
      "  data2 = np.random.multivariate_normal(mean = np.array([10, 0]),\n"
     ]
    }
   ],
   "source": [
    "np.random.seed(123)\n",
    "\n",
    "data1 = np.random.multivariate_normal(mean = np.array([0, 0]), \n",
    "                                                                      cov = np.array([[9, 10], \n",
    "                                                                                                  [10, 8]]), \n",
    "                                                                      size=200)\n",
    "\n",
    "data2 = np.random.multivariate_normal(mean = np.array([10, 0]), \n",
    "                                                                      cov = np.array([[6, 7], \n",
    "                                                                                                  [7, 6]]), \n",
    "                                                                      size=50)\n",
    "\n",
    "data3 = np.random.multivariate_normal(mean = np.array([-10, 3]), \n",
    "                                                                      cov = np.array([[5, 0], \n",
    "                                                                                                  [0, 5]]), \n",
    "                                                                      size=30)\n",
    "\n",
    "data4 = np.random.multivariate_normal(mean = np.array([0, -15]), \n",
    "                                                                      cov = np.array([[3, 0], \n",
    "                                                                                                  [0, 3]]), \n",
    "                                                                      size=10)\n",
    "\n",
    "data5 = np.random.multivariate_normal(mean = np.array([-6, 12]), \n",
    "                                                                      cov = np.array([[3, 0], \n",
    "                                                                                                  [0, 3]]), \n",
    "                                                                      size=20)\n",
    "\n",
    "data6 = np.random.multivariate_normal(mean = np.array([15, 15]), \n",
    "                                                                      cov = np.array([[2, 0], \n",
    "                                                                                                  [0, 2]]), \n",
    "                                                                      size=5)\n",
    "\n",
    "data = np.r_[data1, data2, data3, data4, data5, data6]\n",
    "print(data.shape)\n",
    "\n",
    "ss = StandardScaler()\n",
    "data = ss.fit_transform(data)    # 正規化の実施"
   ]
  },
  {
   "cell_type": "code",
   "execution_count": 71,
   "id": "2eabe10d",
   "metadata": {},
   "outputs": [
    {
     "data": {
      "text/plain": [
       "(-4.137262982976512, 4.250408655598053)"
      ]
     },
     "execution_count": 71,
     "metadata": {},
     "output_type": "execute_result"
    },
    {
     "data": {
      "image/png": "[encoded data removed]",
      "text/plain": [
       "<Figure size 432x432 with 1 Axes>"
      ]
     },
     "metadata": {
      "needs_background": "light"
     },
     "output_type": "display_data"
    }
   ],
   "source": [
    "plt.figure(figsize=(6,6))\n",
    "plt.scatter(data[:,0], data[:,1])\n",
    "plt.xlim([data[:,0].min()-1, data[:,0].max()+1])\n",
    "plt.ylim([data[:,1].min()-1, data[:,1].max()+1])"
   ]
  },
  {
   "cell_type": "code",
   "execution_count": 72,
   "id": "09467a2e",
   "metadata": {},
   "outputs": [
    {
     "data": {
      "text/html": [
       "<div>\n",
       "<style scoped>\n",
       "    .dataframe tbody tr th:only-of-type {\n",
       "        vertical-align: middle;\n",
       "    }\n",
       "\n",
       "    .dataframe tbody tr th {\n",
       "        vertical-align: top;\n",
       "    }\n",
       "\n",
       "    .dataframe thead th {\n",
       "        text-align: right;\n",
       "    }\n",
       "</style>\n",
       "<table border=\"1\" class=\"dataframe\">\n",
       "  <thead>\n",
       "    <tr style=\"text-align: right;\">\n",
       "      <th></th>\n",
       "      <th>X1</th>\n",
       "      <th>X2</th>\n",
       "    </tr>\n",
       "  </thead>\n",
       "  <tbody>\n",
       "    <tr>\n",
       "      <th>0</th>\n",
       "      <td>0.585422</td>\n",
       "      <td>0.273520</td>\n",
       "    </tr>\n",
       "    <tr>\n",
       "      <th>1</th>\n",
       "      <td>-0.433492</td>\n",
       "      <td>-0.077969</td>\n",
       "    </tr>\n",
       "    <tr>\n",
       "      <th>2</th>\n",
       "      <td>0.421756</td>\n",
       "      <td>-0.127737</td>\n",
       "    </tr>\n",
       "    <tr>\n",
       "      <th>3</th>\n",
       "      <td>1.059368</td>\n",
       "      <td>1.282753</td>\n",
       "    </tr>\n",
       "    <tr>\n",
       "      <th>4</th>\n",
       "      <td>-0.835750</td>\n",
       "      <td>-0.748162</td>\n",
       "    </tr>\n",
       "  </tbody>\n",
       "</table>\n",
       "</div>"
      ],
      "text/plain": [
       "         X1        X2\n",
       "0  0.585422  0.273520\n",
       "1 -0.433492 -0.077969\n",
       "2  0.421756 -0.127737\n",
       "3  1.059368  1.282753\n",
       "4 -0.835750 -0.748162"
      ]
     },
     "metadata": {},
     "output_type": "display_data"
    },
    {
     "data": {
      "text/html": [
       "<div>\n",
       "<style scoped>\n",
       "    .dataframe tbody tr th:only-of-type {\n",
       "        vertical-align: middle;\n",
       "    }\n",
       "\n",
       "    .dataframe tbody tr th {\n",
       "        vertical-align: top;\n",
       "    }\n",
       "\n",
       "    .dataframe thead th {\n",
       "        text-align: right;\n",
       "    }\n",
       "</style>\n",
       "<table border=\"1\" class=\"dataframe\">\n",
       "  <thead>\n",
       "    <tr style=\"text-align: right;\">\n",
       "      <th></th>\n",
       "      <th>X1</th>\n",
       "      <th>X2</th>\n",
       "    </tr>\n",
       "  </thead>\n",
       "  <tbody>\n",
       "    <tr>\n",
       "      <th>count</th>\n",
       "      <td>3.150000e+02</td>\n",
       "      <td>3.150000e+02</td>\n",
       "    </tr>\n",
       "    <tr>\n",
       "      <th>mean</th>\n",
       "      <td>-2.114711e-17</td>\n",
       "      <td>5.498247e-17</td>\n",
       "    </tr>\n",
       "    <tr>\n",
       "      <th>std</th>\n",
       "      <td>1.001591e+00</td>\n",
       "      <td>1.001591e+00</td>\n",
       "    </tr>\n",
       "    <tr>\n",
       "      <th>min</th>\n",
       "      <td>-2.678331e+00</td>\n",
       "      <td>-3.137263e+00</td>\n",
       "    </tr>\n",
       "    <tr>\n",
       "      <th>25%</th>\n",
       "      <td>-6.750226e-01</td>\n",
       "      <td>-4.787722e-01</td>\n",
       "    </tr>\n",
       "    <tr>\n",
       "      <th>50%</th>\n",
       "      <td>-5.817005e-02</td>\n",
       "      <td>-5.458348e-02</td>\n",
       "    </tr>\n",
       "    <tr>\n",
       "      <th>75%</th>\n",
       "      <td>4.869684e-01</td>\n",
       "      <td>4.626528e-01</td>\n",
       "    </tr>\n",
       "    <tr>\n",
       "      <th>max</th>\n",
       "      <td>2.717615e+00</td>\n",
       "      <td>3.250409e+00</td>\n",
       "    </tr>\n",
       "  </tbody>\n",
       "</table>\n",
       "</div>"
      ],
      "text/plain": [
       "                 X1            X2\n",
       "count  3.150000e+02  3.150000e+02\n",
       "mean  -2.114711e-17  5.498247e-17\n",
       "std    1.001591e+00  1.001591e+00\n",
       "min   -2.678331e+00 -3.137263e+00\n",
       "25%   -6.750226e-01 -4.787722e-01\n",
       "50%   -5.817005e-02 -5.458348e-02\n",
       "75%    4.869684e-01  4.626528e-01\n",
       "max    2.717615e+00  3.250409e+00"
      ]
     },
     "metadata": {},
     "output_type": "display_data"
    }
   ],
   "source": [
    "df = pd.DataFrame(data, columns=['X1','X2'])\n",
    "display(df.head())\n",
    "display(df.describe())"
   ]
  },
  {
   "cell_type": "code",
   "execution_count": 73,
   "id": "1841cc4a",
   "metadata": {},
   "outputs": [],
   "source": [
    "df.to_csv('../data/anomaly_detection_sample.csv', index=False)"
   ]
  },
  {
   "cell_type": "markdown",
   "id": "bc18aee5",
   "metadata": {},
   "source": [
    "## 教師なし学習による、異常度のスコアリング"
   ]
  },
  {
   "cell_type": "markdown",
   "id": "10fb91ef",
   "metadata": {},
   "source": [
    "### Isolation Forest\n",
    "https://scikit-learn.org/stable/modules/generated/sklearn.ensemble.IsolationForest.html"
   ]
  },
  {
   "cell_type": "code",
   "execution_count": 74,
   "id": "33a7ade5",
   "metadata": {},
   "outputs": [],
   "source": [
    "from sklearn.ensemble import IsolationForest"
   ]
  },
  {
   "cell_type": "code",
   "execution_count": 75,
   "id": "2745b4dd",
   "metadata": {},
   "outputs": [],
   "source": [
    "isof = IsolationForest(random_state=123).fit(data)\n",
    "isof_score = isof.score_samples(data)       # スコアリング結果そのものが指標"
   ]
  },
  {
   "cell_type": "code",
   "execution_count": 76,
   "id": "fae24979",
   "metadata": {},
   "outputs": [],
   "source": [
    "df['IF_Score'] = isof_score"
   ]
  },
  {
   "cell_type": "code",
   "execution_count": 77,
   "id": "4cfdeec4",
   "metadata": {},
   "outputs": [
    {
     "data": {
      "text/plain": [
       "(-4.137262982976512, 4.250408655598053)"
      ]
     },
     "execution_count": 77,
     "metadata": {},
     "output_type": "execute_result"
    },
    {
     "data": {
      "image/png": "[encoded data removed]",
      "text/plain": [
       "<Figure size 504x432 with 2 Axes>"
      ]
     },
     "metadata": {
      "needs_background": "light"
     },
     "output_type": "display_data"
    }
   ],
   "source": [
    "plt.figure(figsize=(7,6))\n",
    "plt.scatter(df['X1'], df['X2'], c=df['IF_Score'], cmap='jet')\n",
    "plt.colorbar()\n",
    "plt.xlim([df['X1'].min()-1, df['X1'].max()+1])\n",
    "plt.ylim([df['X2'].min()-1, df['X2'].max()+1])"
   ]
  },
  {
   "cell_type": "markdown",
   "id": "b3488829",
   "metadata": {},
   "source": [
    "※ 値が小さい（青色）方が異常"
   ]
  },
  {
   "cell_type": "markdown",
   "id": "38b760a7",
   "metadata": {},
   "source": [
    "### k-Means\n",
    "https://scikit-learn.org/stable/modules/generated/sklearn.cluster.KMeans.html"
   ]
  },
  {
   "cell_type": "markdown",
   "id": "af4e5f8b",
   "metadata": {},
   "source": [
    "クラスター分析後、所属数の少ないクラスターを異常と考える"
   ]
  },
  {
   "cell_type": "code",
   "execution_count": 78,
   "id": "afe7cf4e",
   "metadata": {},
   "outputs": [],
   "source": [
    "from sklearn.cluster import KMeans\n",
    "from sklearn.metrics import davies_bouldin_score"
   ]
  },
  {
   "cell_type": "markdown",
   "id": "8bf0e589",
   "metadata": {},
   "source": [
    "Davies-Bouldin Indexでクラスター数を決定： https://scikit-learn.org/stable/modules/clustering.html#davies-bouldin-index"
   ]
  },
  {
   "cell_type": "code",
   "execution_count": 87,
   "id": "ff42b6c4",
   "metadata": {},
   "outputs": [
    {
     "data": {
      "text/plain": [
       "{3: 0.895522867171346,\n",
       " 4: 0.8430176813713877,\n",
       " 5: 0.731614538407182,\n",
       " 6: 0.6195106589863854,\n",
       " 7: 0.5726912371986776,\n",
       " 8: 0.5734289204126476,\n",
       " 9: 0.5542146322972458,\n",
       " 10: 0.600697305253566,\n",
       " 11: 0.6130678421729296,\n",
       " 12: 0.6827508789981018,\n",
       " 13: 0.6999687755186558,\n",
       " 14: 0.7361364208065265}"
      ]
     },
     "execution_count": 87,
     "metadata": {},
     "output_type": "execute_result"
    }
   ],
   "source": [
    "n_clst_res = {}\n",
    "for n_clst in range(3, 15):\n",
    "    kmeans = KMeans(n_clusters=n_clst, random_state=123).fit(data)\n",
    "    labels = kmeans.labels_\n",
    "    n_clst_res[n_clst] = davies_bouldin_score(data, labels)\n",
    "\n",
    "n_clst_res    # 小さい方が良い"
   ]
  },
  {
   "cell_type": "code",
   "execution_count": 88,
   "id": "0fdea3cd",
   "metadata": {},
   "outputs": [],
   "source": [
    "# Davies-Bouldin Indexが示すクラスター数で決定\n",
    "kmeans = KMeans(n_clusters=9, random_state=1234).fit(data)\n",
    "kmeans_clst = kmeans.labels_"
   ]
  },
  {
   "cell_type": "code",
   "execution_count": 89,
   "id": "dae9f22d",
   "metadata": {},
   "outputs": [
    {
     "name": "stdout",
     "output_type": "stream",
     "text": [
      "7     5\n",
      "5    10\n",
      "1    20\n",
      "4    20\n",
      "2    30\n",
      "8    30\n",
      "3    52\n",
      "6    59\n",
      "0    89\n",
      "dtype: int64\n"
     ]
    },
    {
     "data": {
      "text/plain": [
       "<AxesSubplot:>"
      ]
     },
     "execution_count": 89,
     "metadata": {},
     "output_type": "execute_result"
    },
    {
     "data": {
      "image/png": "[encoded data removed]",
      "text/plain": [
       "<Figure size 432x288 with 1 Axes>"
      ]
     },
     "metadata": {
      "needs_background": "light"
     },
     "output_type": "display_data"
    }
   ],
   "source": [
    "print(pd.Series(kmeans_clst).value_counts(ascending=True))\n",
    "pd.Series(kmeans_clst).hist()"
   ]
  },
  {
   "cell_type": "code",
   "execution_count": 90,
   "id": "2a0098c5",
   "metadata": {},
   "outputs": [],
   "source": [
    "# クラスター所属数が小さい順にスコアを付与（所属数が少ないクラスターの値は小さい）\n",
    "df['KM_Score'] = pd.Series(kmeans_clst).map({7:0, 5:1, 1:2, 4:3, 2:4, 8:5, 3:6, 6:7 ,0:8})"
   ]
  },
  {
   "cell_type": "code",
   "execution_count": 91,
   "id": "27b11dee",
   "metadata": {},
   "outputs": [
    {
     "data": {
      "text/plain": [
       "0      7\n",
       "1      8\n",
       "2      8\n",
       "3      7\n",
       "4      6\n",
       "      ..\n",
       "310    0\n",
       "311    0\n",
       "312    0\n",
       "313    0\n",
       "314    0\n",
       "Name: KM_Score, Length: 315, dtype: int64"
      ]
     },
     "execution_count": 91,
     "metadata": {},
     "output_type": "execute_result"
    }
   ],
   "source": [
    "df['KM_Score']"
   ]
  },
  {
   "cell_type": "code",
   "execution_count": 92,
   "id": "73a5bd61",
   "metadata": {},
   "outputs": [
    {
     "data": {
      "text/plain": [
       "(-4.137262982976512, 4.250408655598053)"
      ]
     },
     "execution_count": 92,
     "metadata": {},
     "output_type": "execute_result"
    },
    {
     "data": {
      "image/png": "[encoded data removed]",
      "text/plain": [
       "<Figure size 504x432 with 2 Axes>"
      ]
     },
     "metadata": {
      "needs_background": "light"
     },
     "output_type": "display_data"
    }
   ],
   "source": [
    "plt.figure(figsize=(7,6))\n",
    "plt.scatter(df['X1'], df['X2'], c=df['KM_Score'], cmap='jet')\n",
    "plt.colorbar()\n",
    "plt.xlim([df['X1'].min()-1, df['X1'].max()+1])\n",
    "plt.ylim([df['X2'].min()-1, df['X2'].max()+1])"
   ]
  },
  {
   "cell_type": "markdown",
   "id": "3146ce43",
   "metadata": {},
   "source": [
    "※ 値が小さい（青色）方が異常。小さいクラスター"
   ]
  },
  {
   "cell_type": "markdown",
   "id": "708a5ca4",
   "metadata": {},
   "source": [
    "### PCA\n",
    "https://scikit-learn.org/stable/modules/generated/sklearn.decomposition.PCA.html"
   ]
  },
  {
   "cell_type": "markdown",
   "id": "4f5c7305",
   "metadata": {},
   "source": [
    "次元削除した主成分軸（正常部分空間）からの距離　（次元削除したことにより、情報ロスが大きいオブザベーション）  \n",
    "  \n",
    "参考: [入門 機械学習による異常検知 - Rによる実践ガイド](https://www.coronasha.co.jp/np/isbn/9784339024913/)"
   ]
  },
  {
   "cell_type": "markdown",
   "id": "723f881a",
   "metadata": {},
   "source": [
    "sklearn PCAとTruncatedSVDの比較は[ここ](../PCA/PCA.ipynb)"
   ]
  },
  {
   "cell_type": "code",
   "execution_count": 94,
   "id": "19b89e93",
   "metadata": {},
   "outputs": [],
   "source": [
    "from sklearn.decomposition import PCA"
   ]
  },
  {
   "cell_type": "code",
   "execution_count": 101,
   "id": "9d332c2d",
   "metadata": {},
   "outputs": [
    {
     "data": {
      "text/plain": [
       "PCA(n_components=1)"
      ]
     },
     "execution_count": 101,
     "metadata": {},
     "output_type": "execute_result"
    }
   ],
   "source": [
    "pca = PCA(n_components=1)     # 1次元に圧縮\n",
    "pca.fit(data)"
   ]
  },
  {
   "cell_type": "code",
   "execution_count": 103,
   "id": "66300a97",
   "metadata": {},
   "outputs": [
    {
     "name": "stdout",
     "output_type": "stream",
     "text": [
      "(315, 1)\n"
     ]
    },
    {
     "data": {
      "text/plain": [
       "array([[ 0.60736347],\n",
       "       [-0.36165738],\n",
       "       [ 0.20790232],\n",
       "       [ 1.65612973],\n",
       "       [-1.11999469]])"
      ]
     },
     "execution_count": 103,
     "metadata": {},
     "output_type": "execute_result"
    }
   ],
   "source": [
    "# 主成分（正常部分空間）\n",
    "normal_space = pca.transform(data)\n",
    "print(normal_space.shape)\n",
    "normal_space[:5,:]     # 先頭5行"
   ]
  },
  {
   "cell_type": "code",
   "execution_count": 116,
   "id": "604d194b",
   "metadata": {
    "scrolled": true
   },
   "outputs": [
    {
     "data": {
      "text/plain": [
       "(315,)"
      ]
     },
     "execution_count": 116,
     "metadata": {},
     "output_type": "execute_result"
    }
   ],
   "source": [
    "pca_score = np.sum(data**2, axis=1) - np.sum(normal_space**2, axis=1)    # ベクトル間の距離（元データ - 正常部分空間上データ）\n",
    "pca_score = -1 * pca_score    # 値が小さいと異常となるように符号を入れ替える\n",
    "pca_score.shape"
   ]
  },
  {
   "cell_type": "code",
   "execution_count": 117,
   "id": "37a81b9e",
   "metadata": {},
   "outputs": [],
   "source": [
    "df['PCA_Score'] = pca_score"
   ]
  },
  {
   "cell_type": "code",
   "execution_count": 118,
   "id": "d1b8e264",
   "metadata": {},
   "outputs": [
    {
     "data": {
      "text/plain": [
       "(-4.137262982976512, 4.250408655598053)"
      ]
     },
     "execution_count": 118,
     "metadata": {},
     "output_type": "execute_result"
    },
    {
     "data": {
      "image/png": "[encoded data removed]",
      "text/plain": [
       "<Figure size 504x432 with 2 Axes>"
      ]
     },
     "metadata": {
      "needs_background": "light"
     },
     "output_type": "display_data"
    }
   ],
   "source": [
    "plt.figure(figsize=(7,6))\n",
    "plt.scatter(df['X1'], df['X2'], c=df['PCA_Score'], cmap='jet')\n",
    "plt.colorbar()\n",
    "plt.xlim([df['X1'].min()-1, df['X1'].max()+1])\n",
    "plt.ylim([df['X2'].min()-1, df['X2'].max()+1])"
   ]
  },
  {
   "cell_type": "markdown",
   "id": "f54629b2",
   "metadata": {},
   "source": [
    "※ 値が小さい（青色）方が異常。正常部分空間（第一主成分）から遠い"
   ]
  },
  {
   "cell_type": "code",
   "execution_count": null,
   "id": "60f22f31",
   "metadata": {},
   "outputs": [],
   "source": []
  }
 ],
 "metadata": {
  "kernelspec": {
   "display_name": "Python 3",
   "language": "python",
   "name": "python3"
  },
  "language_info": {
   "codemirror_mode": {
    "name": "ipython",
    "version": 3
   },
   "file_extension": ".py",
   "mimetype": "text/x-python",
   "name": "python",
   "nbconvert_exporter": "python",
   "pygments_lexer": "ipython3",
   "version": "3.8.3"
  }
 },
 "nbformat": 4,
 "nbformat_minor": 5
}
