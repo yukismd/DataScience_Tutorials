{
 "cells": [
  {
   "cell_type": "markdown",
   "id": "ae55441f",
   "metadata": {},
   "source": [
    "## [Analyzing structured data](https://python.langchain.com/docs/use_cases/tabular)\n"
   ]
  },
  {
   "cell_type": "code",
   "execution_count": 1,
   "id": "7216abe4",
   "metadata": {},
   "outputs": [
    {
     "data": {
      "text/plain": [
       "'0.0.227'"
      ]
     },
     "execution_count": 1,
     "metadata": {},
     "output_type": "execute_result"
    }
   ],
   "source": [
    "import langchain\n",
    "langchain.__version__"
   ]
  },
  {
   "cell_type": "code",
   "execution_count": 2,
   "id": "ea4d70c7",
   "metadata": {},
   "outputs": [],
   "source": [
    "import os\n",
    "\n",
    "oai_key = open('../_secret/yuki-openaikey-20230613.txt', 'r').read()\n",
    "os.environ[\"OPENAI_API_KEY\"] = oai_key\n",
    "#os.environ[\"OPENAI_API_KEY\"]"
   ]
  },
  {
   "cell_type": "code",
   "execution_count": 5,
   "id": "9376d2be",
   "metadata": {},
   "outputs": [
    {
     "name": "stdout",
     "output_type": "stream",
     "text": [
      "(40, 5)\n"
     ]
    },
    {
     "data": {
      "text/html": [
       "<div>\n",
       "<style scoped>\n",
       "    .dataframe tbody tr th:only-of-type {\n",
       "        vertical-align: middle;\n",
       "    }\n",
       "\n",
       "    .dataframe tbody tr th {\n",
       "        vertical-align: top;\n",
       "    }\n",
       "\n",
       "    .dataframe thead th {\n",
       "        text-align: right;\n",
       "    }\n",
       "</style>\n",
       "<table border=\"1\" class=\"dataframe\">\n",
       "  <thead>\n",
       "    <tr style=\"text-align: right;\">\n",
       "      <th></th>\n",
       "      <th>Name</th>\n",
       "      <th>Age</th>\n",
       "      <th>Sex</th>\n",
       "      <th>Height_inch</th>\n",
       "      <th>Weight_pound</th>\n",
       "    </tr>\n",
       "  </thead>\n",
       "  <tbody>\n",
       "    <tr>\n",
       "      <th>0</th>\n",
       "      <td>KATIE</td>\n",
       "      <td>12</td>\n",
       "      <td>F</td>\n",
       "      <td>59</td>\n",
       "      <td>95</td>\n",
       "    </tr>\n",
       "    <tr>\n",
       "      <th>1</th>\n",
       "      <td>LOUISE</td>\n",
       "      <td>12</td>\n",
       "      <td>F</td>\n",
       "      <td>61</td>\n",
       "      <td>123</td>\n",
       "    </tr>\n",
       "    <tr>\n",
       "      <th>2</th>\n",
       "      <td>JANE</td>\n",
       "      <td>12</td>\n",
       "      <td>F</td>\n",
       "      <td>55</td>\n",
       "      <td>74</td>\n",
       "    </tr>\n",
       "    <tr>\n",
       "      <th>3</th>\n",
       "      <td>JACLYN</td>\n",
       "      <td>12</td>\n",
       "      <td>F</td>\n",
       "      <td>66</td>\n",
       "      <td>145</td>\n",
       "    </tr>\n",
       "    <tr>\n",
       "      <th>4</th>\n",
       "      <td>LILLIE</td>\n",
       "      <td>12</td>\n",
       "      <td>F</td>\n",
       "      <td>52</td>\n",
       "      <td>64</td>\n",
       "    </tr>\n",
       "    <tr>\n",
       "      <th>5</th>\n",
       "      <td>TIM</td>\n",
       "      <td>12</td>\n",
       "      <td>M</td>\n",
       "      <td>60</td>\n",
       "      <td>84</td>\n",
       "    </tr>\n",
       "    <tr>\n",
       "      <th>6</th>\n",
       "      <td>JAMES</td>\n",
       "      <td>12</td>\n",
       "      <td>M</td>\n",
       "      <td>61</td>\n",
       "      <td>128</td>\n",
       "    </tr>\n",
       "    <tr>\n",
       "      <th>7</th>\n",
       "      <td>ROBERT</td>\n",
       "      <td>12</td>\n",
       "      <td>M</td>\n",
       "      <td>51</td>\n",
       "      <td>79</td>\n",
       "    </tr>\n",
       "    <tr>\n",
       "      <th>8</th>\n",
       "      <td>BARBARA</td>\n",
       "      <td>13</td>\n",
       "      <td>F</td>\n",
       "      <td>60</td>\n",
       "      <td>112</td>\n",
       "    </tr>\n",
       "    <tr>\n",
       "      <th>9</th>\n",
       "      <td>ALICE</td>\n",
       "      <td>13</td>\n",
       "      <td>F</td>\n",
       "      <td>61</td>\n",
       "      <td>107</td>\n",
       "    </tr>\n",
       "  </tbody>\n",
       "</table>\n",
       "</div>"
      ],
      "text/plain": [
       "      Name  Age Sex  Height_inch  Weight_pound\n",
       "0    KATIE   12   F           59            95\n",
       "1   LOUISE   12   F           61           123\n",
       "2     JANE   12   F           55            74\n",
       "3   JACLYN   12   F           66           145\n",
       "4   LILLIE   12   F           52            64\n",
       "5      TIM   12   M           60            84\n",
       "6    JAMES   12   M           61           128\n",
       "7   ROBERT   12   M           51            79\n",
       "8  BARBARA   13   F           60           112\n",
       "9    ALICE   13   F           61           107"
      ]
     },
     "execution_count": 5,
     "metadata": {},
     "output_type": "execute_result"
    }
   ],
   "source": [
    "import pandas as pd\n",
    "\n",
    "df = pd.read_csv('../../data/BigClass.csv')\n",
    "print(df.shape)\n",
    "df.head(10)"
   ]
  },
  {
   "cell_type": "code",
   "execution_count": null,
   "id": "1b284060",
   "metadata": {},
   "outputs": [],
   "source": []
  },
  {
   "cell_type": "markdown",
   "id": "9d742b68",
   "metadata": {},
   "source": [
    "### [CSV Agent](https://python.langchain.com/docs/modules/agents/toolkits/csv.html)"
   ]
  },
  {
   "cell_type": "code",
   "execution_count": 18,
   "id": "d7c04a83",
   "metadata": {},
   "outputs": [],
   "source": [
    "from langchain.agents import create_csv_agent\n",
    "from langchain.llms import OpenAI\n",
    "from langchain.chat_models import ChatOpenAI\n",
    "from langchain.agents.agent_types import AgentType"
   ]
  },
  {
   "cell_type": "code",
   "execution_count": 19,
   "id": "86fd4869",
   "metadata": {},
   "outputs": [],
   "source": [
    "?create_csv_agent"
   ]
  },
  {
   "cell_type": "code",
   "execution_count": 20,
   "id": "46cee09e",
   "metadata": {
    "scrolled": false
   },
   "outputs": [],
   "source": [
    "agent = create_csv_agent(\n",
    "    llm=OpenAI(temperature=0),\n",
    "    path='../../data/BigClass.csv',\n",
    "    verbose=True,\n",
    "    agent_type=AgentType.ZERO_SHOT_REACT_DESCRIPTION,\n",
    ")"
   ]
  },
  {
   "cell_type": "code",
   "execution_count": 21,
   "id": "1f97280b",
   "metadata": {},
   "outputs": [
    {
     "data": {
      "text/plain": [
       "langchain.agents.agent.AgentExecutor"
      ]
     },
     "execution_count": 21,
     "metadata": {},
     "output_type": "execute_result"
    }
   ],
   "source": [
    "type(agent)"
   ]
  },
  {
   "cell_type": "code",
   "execution_count": 22,
   "id": "4ed17580",
   "metadata": {},
   "outputs": [
    {
     "name": "stdout",
     "output_type": "stream",
     "text": [
      "\n",
      "\n",
      "\u001b[1m> Entering new  chain...\u001b[0m\n",
      "\u001b[32;1m\u001b[1;3mThought: I need to count the rows\n",
      "Action: python_repl_ast\n",
      "Action Input: len(df)\u001b[0m\n",
      "Observation: \u001b[36;1m\u001b[1;3m40\u001b[0m\n",
      "Thought:\u001b[32;1m\u001b[1;3m I now know the final answer\n",
      "Final Answer: There are 40 rows.\u001b[0m\n",
      "\n",
      "\u001b[1m> Finished chain.\u001b[0m\n"
     ]
    },
    {
     "data": {
      "text/plain": [
       "'There are 40 rows.'"
      ]
     },
     "execution_count": 22,
     "metadata": {},
     "output_type": "execute_result"
    }
   ],
   "source": [
    "agent.run(\"how many rows are there?\")"
   ]
  },
  {
   "cell_type": "code",
   "execution_count": 23,
   "id": "035d4d15",
   "metadata": {},
   "outputs": [
    {
     "name": "stdout",
     "output_type": "stream",
     "text": [
      "\n",
      "\n",
      "\u001b[1m> Entering new  chain...\u001b[0m\n",
      "\u001b[32;1m\u001b[1;3mThought: データフレームの行数と列数を確認する\n",
      "Action: python_repl_ast\n",
      "Action Input: df.shape\u001b[0m\n",
      "Observation: \u001b[36;1m\u001b[1;3m(40, 5)\u001b[0m\n",
      "Thought:\u001b[32;1m\u001b[1;3m 確認できた\n",
      "Final Answer: データフレームの行数は40、列数は5です。\u001b[0m\n",
      "\n",
      "\u001b[1m> Finished chain.\u001b[0m\n"
     ]
    },
    {
     "data": {
      "text/plain": [
       "'データフレームの行数は40、列数は5です。'"
      ]
     },
     "execution_count": 23,
     "metadata": {},
     "output_type": "execute_result"
    }
   ],
   "source": [
    "agent.run(\"行数と列数は？\")"
   ]
  },
  {
   "cell_type": "code",
   "execution_count": 24,
   "id": "a15e96da",
   "metadata": {},
   "outputs": [
    {
     "name": "stdout",
     "output_type": "stream",
     "text": [
      "\n",
      "\n",
      "\u001b[1m> Entering new  chain...\u001b[0m\n",
      "\u001b[32;1m\u001b[1;3mThought: データフレームを見てみる\n",
      "Action: python_repl_ast\n",
      "Action Input: df.dtypes\u001b[0m\n",
      "Observation: \u001b[36;1m\u001b[1;3mName            object\n",
      "Age              int64\n",
      "Sex             object\n",
      "Height_inch      int64\n",
      "Weight_pound     int64\n",
      "dtype: object\u001b[0m\n",
      "Thought:\u001b[32;1m\u001b[1;3m 答えを作る\n",
      "Final Answer: カラム名はName, Age, Sex, Height_inch, Weight_poundで、それぞれのデータ型はobject, int64, object, int64, int64です。\u001b[0m\n",
      "\n",
      "\u001b[1m> Finished chain.\u001b[0m\n"
     ]
    },
    {
     "data": {
      "text/plain": [
       "'カラム名はName, Age, Sex, Height_inch, Weight_poundで、それぞれのデータ型はobject, int64, object, int64, int64です。'"
      ]
     },
     "execution_count": 24,
     "metadata": {},
     "output_type": "execute_result"
    }
   ],
   "source": [
    "agent.run(\"カラム名とそれぞれのデータ型は？\")"
   ]
  },
  {
   "cell_type": "code",
   "execution_count": 25,
   "id": "d39e4066",
   "metadata": {},
   "outputs": [
    {
     "name": "stdout",
     "output_type": "stream",
     "text": [
      "\n",
      "\n",
      "\u001b[1m> Entering new  chain...\u001b[0m\n",
      "\u001b[32;1m\u001b[1;3mThought: Height_inchをcmに変換する必要がある\n",
      "Action: python_repl_ast\n",
      "Action Input: df['Height_cm'] = df['Height_inch'] * 2.54\u001b[0m\n",
      "Observation: \u001b[36;1m\u001b[1;3m\u001b[0m\n",
      "Thought:\u001b[32;1m\u001b[1;3m Height_cmカラムが追加された\n",
      "Final Answer: df['Height_cm']にHeight_inchをcmに変換した値が格納されました。\u001b[0m\n",
      "\n",
      "\u001b[1m> Finished chain.\u001b[0m\n"
     ]
    },
    {
     "data": {
      "text/plain": [
       "\"df['Height_cm']にHeight_inchをcmに変換した値が格納されました。\""
      ]
     },
     "execution_count": 25,
     "metadata": {},
     "output_type": "execute_result"
    }
   ],
   "source": [
    "agent.run(\"Height_inchはインチで表示されてます。センチメートル（cm）へ変換した値をHeight_cmカラムに格納してください。\")"
   ]
  },
  {
   "cell_type": "code",
   "execution_count": 26,
   "id": "23a4741e",
   "metadata": {},
   "outputs": [
    {
     "name": "stdout",
     "output_type": "stream",
     "text": [
      "\n",
      "\n",
      "\u001b[1m> Entering new  chain...\u001b[0m\n",
      "\u001b[32;1m\u001b[1;3mThought: Weight_poundをkgに変換する必要がある\n",
      "Action: python_repl_ast\n",
      "Action Input: df['Weight_kg'] = df['Weight_pound'] * 0.453592\u001b[0m\n",
      "Observation: \u001b[36;1m\u001b[1;3m\u001b[0m\n",
      "Thought:\u001b[32;1m\u001b[1;3m Weight_kgカラムが追加された\n",
      "Final Answer: df['Weight_kg']にWeight_poundをkgに変換した値が格納されました。\u001b[0m\n",
      "\n",
      "\u001b[1m> Finished chain.\u001b[0m\n"
     ]
    },
    {
     "data": {
      "text/plain": [
       "\"df['Weight_kg']にWeight_poundをkgに変換した値が格納されました。\""
      ]
     },
     "execution_count": 26,
     "metadata": {},
     "output_type": "execute_result"
    }
   ],
   "source": [
    "agent.run(\"Weight_poundはポンドで表示されてます。キログラム（kg）へ変換した値をWeight_kgカラムに格納してください。\")"
   ]
  },
  {
   "cell_type": "code",
   "execution_count": 27,
   "id": "7ec47e2d",
   "metadata": {},
   "outputs": [
    {
     "name": "stdout",
     "output_type": "stream",
     "text": [
      "\n",
      "\n",
      "\u001b[1m> Entering new  chain...\u001b[0m\n",
      "\u001b[32;1m\u001b[1;3mThought: データフレームを表示する\n",
      "Action: python_repl_ast\n",
      "Action Input: print(df.head())\u001b[0m\n",
      "Observation: \u001b[36;1m\u001b[1;3m     Name  Age Sex  Height_inch  Weight_pound  Height_cm  Weight_kg\n",
      "0   KATIE   12   F           59            95     149.86  43.091240\n",
      "1  LOUISE   12   F           61           123     154.94  55.791816\n",
      "2    JANE   12   F           55            74     139.70  33.565808\n",
      "3  JACLYN   12   F           66           145     167.64  65.770840\n",
      "4  LILLIE   12   F           52            64     132.08  29.029888\n",
      "\u001b[0m\n",
      "Thought:\u001b[32;1m\u001b[1;3m 答えが得られた\n",
      "Final Answer: 上記のデータが表示されました。\u001b[0m\n",
      "\n",
      "\u001b[1m> Finished chain.\u001b[0m\n"
     ]
    },
    {
     "data": {
      "text/plain": [
       "'上記のデータが表示されました。'"
      ]
     },
     "execution_count": 27,
     "metadata": {},
     "output_type": "execute_result"
    }
   ],
   "source": [
    "agent.run(\"データを表示してください\")"
   ]
  },
  {
   "cell_type": "code",
   "execution_count": 28,
   "id": "7ab9d76b",
   "metadata": {},
   "outputs": [
    {
     "name": "stdout",
     "output_type": "stream",
     "text": [
      "\n",
      "\n",
      "\u001b[1m> Entering new  chain...\u001b[0m\n",
      "\u001b[32;1m\u001b[1;3mThought: BMIを計算するにはHeight_inchとWeight_poundを変換する必要がある\n",
      "Action: python_repl_ast\n",
      "Action Input: df['Height_cm'] = df['Height_inch'] * 2.54\u001b[0m\n",
      "Observation: \u001b[36;1m\u001b[1;3m\u001b[0m\n",
      "Thought:\u001b[32;1m\u001b[1;3m Weight_poundをWeight_kgに変換する\n",
      "Action: python_repl_ast\n",
      "Action Input: df['Weight_kg'] = df['Weight_pound'] * 0.453592\u001b[0m\n",
      "Observation: \u001b[36;1m\u001b[1;3m\u001b[0m\n",
      "Thought:\u001b[32;1m\u001b[1;3m BMIを計算する\n",
      "Action: python_repl_ast\n",
      "Action Input: df['BMI'] = df['Weight_kg'] / (df['Height_cm']/100)**2\u001b[0m\n",
      "Observation: \u001b[36;1m\u001b[1;3m\u001b[0m\n",
      "Thought:\u001b[32;1m\u001b[1;3m I now know the final answer\n",
      "Final Answer: BMIカラムを作成しました\u001b[0m\n",
      "\n",
      "\u001b[1m> Finished chain.\u001b[0m\n"
     ]
    },
    {
     "data": {
      "text/plain": [
       "'BMIカラムを作成しました'"
      ]
     },
     "execution_count": 28,
     "metadata": {},
     "output_type": "execute_result"
    }
   ],
   "source": [
    "agent.run(\"Height_cmとWeight_kgからBMIを計算しBMIカラムを作成してください\")"
   ]
  },
  {
   "cell_type": "code",
   "execution_count": 29,
   "id": "90e28ee6",
   "metadata": {},
   "outputs": [
    {
     "name": "stdout",
     "output_type": "stream",
     "text": [
      "\n",
      "\n",
      "\u001b[1m> Entering new  chain...\u001b[0m\n",
      "\u001b[32;1m\u001b[1;3mThought: I need to save the dataframe as a csv file\n",
      "Action: python_repl_ast\n",
      "Action Input: df.to_csv('BigClass_v2.csv')\u001b[0m\n",
      "Observation: \u001b[36;1m\u001b[1;3m\u001b[0m\n",
      "Thought:\u001b[32;1m\u001b[1;3m I now know the final answer\n",
      "Final Answer: The dataframe has been saved as a csv file called BigClass_v2.csv.\u001b[0m\n",
      "\n",
      "\u001b[1m> Finished chain.\u001b[0m\n"
     ]
    },
    {
     "data": {
      "text/plain": [
       "'The dataframe has been saved as a csv file called BigClass_v2.csv.'"
      ]
     },
     "execution_count": 29,
     "metadata": {},
     "output_type": "execute_result"
    }
   ],
   "source": [
    "agent.run(\"データをBigClass_v2.csvとして保存してください\")"
   ]
  },
  {
   "cell_type": "code",
   "execution_count": 31,
   "id": "391fe88a",
   "metadata": {},
   "outputs": [
    {
     "name": "stdout",
     "output_type": "stream",
     "text": [
      "BigClass_v2.csv                        UseCases_AnalyzingStructuredData.ipynb\r\n",
      "LangChain_Quickstart.ipynb\r\n"
     ]
    }
   ],
   "source": [
    "!ls"
   ]
  },
  {
   "cell_type": "code",
   "execution_count": 34,
   "id": "9f559407",
   "metadata": {},
   "outputs": [
    {
     "data": {
      "text/html": [
       "<div>\n",
       "<style scoped>\n",
       "    .dataframe tbody tr th:only-of-type {\n",
       "        vertical-align: middle;\n",
       "    }\n",
       "\n",
       "    .dataframe tbody tr th {\n",
       "        vertical-align: top;\n",
       "    }\n",
       "\n",
       "    .dataframe thead th {\n",
       "        text-align: right;\n",
       "    }\n",
       "</style>\n",
       "<table border=\"1\" class=\"dataframe\">\n",
       "  <thead>\n",
       "    <tr style=\"text-align: right;\">\n",
       "      <th></th>\n",
       "      <th>Unnamed: 0</th>\n",
       "      <th>Name</th>\n",
       "      <th>Age</th>\n",
       "      <th>Sex</th>\n",
       "      <th>Height_inch</th>\n",
       "      <th>Weight_pound</th>\n",
       "      <th>Height_cm</th>\n",
       "      <th>Weight_kg</th>\n",
       "      <th>BMI</th>\n",
       "    </tr>\n",
       "  </thead>\n",
       "  <tbody>\n",
       "    <tr>\n",
       "      <th>0</th>\n",
       "      <td>0</td>\n",
       "      <td>KATIE</td>\n",
       "      <td>12</td>\n",
       "      <td>F</td>\n",
       "      <td>59</td>\n",
       "      <td>95</td>\n",
       "      <td>149.86</td>\n",
       "      <td>43.091240</td>\n",
       "      <td>19.187462</td>\n",
       "    </tr>\n",
       "    <tr>\n",
       "      <th>1</th>\n",
       "      <td>1</td>\n",
       "      <td>LOUISE</td>\n",
       "      <td>12</td>\n",
       "      <td>F</td>\n",
       "      <td>61</td>\n",
       "      <td>123</td>\n",
       "      <td>154.94</td>\n",
       "      <td>55.791816</td>\n",
       "      <td>23.240389</td>\n",
       "    </tr>\n",
       "    <tr>\n",
       "      <th>2</th>\n",
       "      <td>2</td>\n",
       "      <td>JANE</td>\n",
       "      <td>12</td>\n",
       "      <td>F</td>\n",
       "      <td>55</td>\n",
       "      <td>74</td>\n",
       "      <td>139.70</td>\n",
       "      <td>33.565808</td>\n",
       "      <td>17.199043</td>\n",
       "    </tr>\n",
       "    <tr>\n",
       "      <th>3</th>\n",
       "      <td>3</td>\n",
       "      <td>JACLYN</td>\n",
       "      <td>12</td>\n",
       "      <td>F</td>\n",
       "      <td>66</td>\n",
       "      <td>145</td>\n",
       "      <td>167.64</td>\n",
       "      <td>65.770840</td>\n",
       "      <td>23.403353</td>\n",
       "    </tr>\n",
       "    <tr>\n",
       "      <th>4</th>\n",
       "      <td>4</td>\n",
       "      <td>LILLIE</td>\n",
       "      <td>12</td>\n",
       "      <td>F</td>\n",
       "      <td>52</td>\n",
       "      <td>64</td>\n",
       "      <td>132.08</td>\n",
       "      <td>29.029888</td>\n",
       "      <td>16.640687</td>\n",
       "    </tr>\n",
       "  </tbody>\n",
       "</table>\n",
       "</div>"
      ],
      "text/plain": [
       "   Unnamed: 0    Name  Age Sex  Height_inch  Weight_pound  Height_cm  \\\n",
       "0           0   KATIE   12   F           59            95     149.86   \n",
       "1           1  LOUISE   12   F           61           123     154.94   \n",
       "2           2    JANE   12   F           55            74     139.70   \n",
       "3           3  JACLYN   12   F           66           145     167.64   \n",
       "4           4  LILLIE   12   F           52            64     132.08   \n",
       "\n",
       "   Weight_kg        BMI  \n",
       "0  43.091240  19.187462  \n",
       "1  55.791816  23.240389  \n",
       "2  33.565808  17.199043  \n",
       "3  65.770840  23.403353  \n",
       "4  29.029888  16.640687  "
      ]
     },
     "execution_count": 34,
     "metadata": {},
     "output_type": "execute_result"
    }
   ],
   "source": [
    "pd.read_csv('BigClass_v2.csv').head()"
   ]
  },
  {
   "cell_type": "code",
   "execution_count": 46,
   "id": "83b74c7e",
   "metadata": {},
   "outputs": [
    {
     "name": "stdout",
     "output_type": "stream",
     "text": [
      "\n",
      "\n",
      "\u001b[1m> Entering new  chain...\u001b[0m\n",
      "\u001b[32;1m\u001b[1;3mThought: I need to group the data by Age and Sex\n",
      "Action: python_repl_ast\n",
      "Action Input: df.groupby(['Age', 'Sex']).size()\u001b[0m\n",
      "Observation: \u001b[36;1m\u001b[1;3mAge  Sex\n",
      "12   F      5\n",
      "     M      3\n",
      "13   F      3\n",
      "     M      4\n",
      "14   F      5\n",
      "     M      7\n",
      "15   F      2\n",
      "     M      5\n",
      "16   F      2\n",
      "     M      1\n",
      "17   F      1\n",
      "     M      2\n",
      "dtype: int64\u001b[0m\n",
      "Thought:\u001b[32;1m\u001b[1;3m I now know the final answer\n",
      "Final Answer: Age×Sexで集計した結果は、12歳の女性が5人、12歳の男性が3人、13歳の女性が3人、13歳の男性が4人、14歳の女性が5人、14歳の男性が7人、15歳の女性が2人、15歳の男性が5人、16歳の女性が2人、16歳の男性が1人、17歳の女性が1人、17歳の男性が2人である。\u001b[0m\n",
      "\n",
      "\u001b[1m> Finished chain.\u001b[0m\n"
     ]
    },
    {
     "data": {
      "text/plain": [
       "'Age×Sexで集計した結果は、12歳の女性が5人、12歳の男性が3人、13歳の女性が3人、13歳の男性が4人、14歳の女性が5人、14歳の男性が7人、15歳の女性が2人、15歳の男性が5人、16歳の女性が2人、16歳の男性が1人、17歳の女性が1人、17歳の男性が2人である。'"
      ]
     },
     "execution_count": 46,
     "metadata": {},
     "output_type": "execute_result"
    }
   ],
   "source": [
    "agent.run(\"Age×Sexで集計を実施してください\")"
   ]
  },
  {
   "cell_type": "code",
   "execution_count": 38,
   "id": "9b95686a",
   "metadata": {},
   "outputs": [
    {
     "name": "stdout",
     "output_type": "stream",
     "text": [
      "\n",
      "\n",
      "\u001b[1m> Entering new  chain...\u001b[0m\n",
      "\u001b[32;1m\u001b[1;3mThought: I need to aggregate the Age and Sex columns and then save the result\n",
      "Action: python_repl_ast\n",
      "Action Input: df.groupby(['Age', 'Sex']).size().reset_index(name='counts')\u001b[0m\n",
      "Observation: \u001b[36;1m\u001b[1;3m    Age Sex  counts\n",
      "0    12   F       5\n",
      "1    12   M       3\n",
      "2    13   F       3\n",
      "3    13   M       4\n",
      "4    14   F       5\n",
      "5    14   M       7\n",
      "6    15   F       2\n",
      "7    15   M       5\n",
      "8    16   F       2\n",
      "9    16   M       1\n",
      "10   17   F       1\n",
      "11   17   M       2\u001b[0m\n",
      "Thought:\u001b[32;1m\u001b[1;3m I need to save the result to a csv file\n",
      "Action: python_repl_ast\n",
      "Action Input: df.groupby(['Age', 'Sex']).size().reset_index(name='counts').to_csv('BigClass_cross.csv', index=False)\u001b[0m\n",
      "Observation: \u001b[36;1m\u001b[1;3m\u001b[0m\n",
      "Thought:\u001b[32;1m\u001b[1;3m I now know the final answer\n",
      "Final Answer: The Age×Sex aggregation result is saved to the file BigClass_cross.csv.\u001b[0m\n",
      "\n",
      "\u001b[1m> Finished chain.\u001b[0m\n"
     ]
    },
    {
     "data": {
      "text/plain": [
       "'The Age×Sex aggregation result is saved to the file BigClass_cross.csv.'"
      ]
     },
     "execution_count": 38,
     "metadata": {},
     "output_type": "execute_result"
    }
   ],
   "source": [
    "agent.run(\"Age×Sexの集計結果を表示し、その結果をBigClass_cross.csvとして保存してください\")"
   ]
  },
  {
   "cell_type": "code",
   "execution_count": 39,
   "id": "c329d39c",
   "metadata": {},
   "outputs": [
    {
     "data": {
      "text/html": [
       "<div>\n",
       "<style scoped>\n",
       "    .dataframe tbody tr th:only-of-type {\n",
       "        vertical-align: middle;\n",
       "    }\n",
       "\n",
       "    .dataframe tbody tr th {\n",
       "        vertical-align: top;\n",
       "    }\n",
       "\n",
       "    .dataframe thead th {\n",
       "        text-align: right;\n",
       "    }\n",
       "</style>\n",
       "<table border=\"1\" class=\"dataframe\">\n",
       "  <thead>\n",
       "    <tr style=\"text-align: right;\">\n",
       "      <th></th>\n",
       "      <th>Age</th>\n",
       "      <th>Sex</th>\n",
       "      <th>counts</th>\n",
       "    </tr>\n",
       "  </thead>\n",
       "  <tbody>\n",
       "    <tr>\n",
       "      <th>0</th>\n",
       "      <td>12</td>\n",
       "      <td>F</td>\n",
       "      <td>5</td>\n",
       "    </tr>\n",
       "    <tr>\n",
       "      <th>1</th>\n",
       "      <td>12</td>\n",
       "      <td>M</td>\n",
       "      <td>3</td>\n",
       "    </tr>\n",
       "    <tr>\n",
       "      <th>2</th>\n",
       "      <td>13</td>\n",
       "      <td>F</td>\n",
       "      <td>3</td>\n",
       "    </tr>\n",
       "    <tr>\n",
       "      <th>3</th>\n",
       "      <td>13</td>\n",
       "      <td>M</td>\n",
       "      <td>4</td>\n",
       "    </tr>\n",
       "    <tr>\n",
       "      <th>4</th>\n",
       "      <td>14</td>\n",
       "      <td>F</td>\n",
       "      <td>5</td>\n",
       "    </tr>\n",
       "    <tr>\n",
       "      <th>5</th>\n",
       "      <td>14</td>\n",
       "      <td>M</td>\n",
       "      <td>7</td>\n",
       "    </tr>\n",
       "    <tr>\n",
       "      <th>6</th>\n",
       "      <td>15</td>\n",
       "      <td>F</td>\n",
       "      <td>2</td>\n",
       "    </tr>\n",
       "    <tr>\n",
       "      <th>7</th>\n",
       "      <td>15</td>\n",
       "      <td>M</td>\n",
       "      <td>5</td>\n",
       "    </tr>\n",
       "    <tr>\n",
       "      <th>8</th>\n",
       "      <td>16</td>\n",
       "      <td>F</td>\n",
       "      <td>2</td>\n",
       "    </tr>\n",
       "    <tr>\n",
       "      <th>9</th>\n",
       "      <td>16</td>\n",
       "      <td>M</td>\n",
       "      <td>1</td>\n",
       "    </tr>\n",
       "    <tr>\n",
       "      <th>10</th>\n",
       "      <td>17</td>\n",
       "      <td>F</td>\n",
       "      <td>1</td>\n",
       "    </tr>\n",
       "    <tr>\n",
       "      <th>11</th>\n",
       "      <td>17</td>\n",
       "      <td>M</td>\n",
       "      <td>2</td>\n",
       "    </tr>\n",
       "  </tbody>\n",
       "</table>\n",
       "</div>"
      ],
      "text/plain": [
       "    Age Sex  counts\n",
       "0    12   F       5\n",
       "1    12   M       3\n",
       "2    13   F       3\n",
       "3    13   M       4\n",
       "4    14   F       5\n",
       "5    14   M       7\n",
       "6    15   F       2\n",
       "7    15   M       5\n",
       "8    16   F       2\n",
       "9    16   M       1\n",
       "10   17   F       1\n",
       "11   17   M       2"
      ]
     },
     "execution_count": 39,
     "metadata": {},
     "output_type": "execute_result"
    }
   ],
   "source": [
    "pd.read_csv('BigClass_cross.csv')"
   ]
  },
  {
   "cell_type": "code",
   "execution_count": null,
   "id": "73177559",
   "metadata": {},
   "outputs": [],
   "source": []
  },
  {
   "cell_type": "markdown",
   "id": "21168268",
   "metadata": {},
   "source": [
    "#### Multi CSV Example"
   ]
  },
  {
   "cell_type": "code",
   "execution_count": 41,
   "id": "d6f6773c",
   "metadata": {},
   "outputs": [],
   "source": [
    "agent2 = create_csv_agent(\n",
    "    llm=ChatOpenAI(temperature=0),\n",
    "    path=[\"../../data/BigClass.csv\", \"BigClass_v2.csv\"],\n",
    "    verbose=True,\n",
    "    agent_type=AgentType.OPENAI_FUNCTIONS,\n",
    ")"
   ]
  },
  {
   "cell_type": "code",
   "execution_count": 42,
   "id": "c108895a",
   "metadata": {},
   "outputs": [
    {
     "name": "stdout",
     "output_type": "stream",
     "text": [
      "\n",
      "\n",
      "\u001b[1m> Entering new  chain...\u001b[0m\n",
      "\u001b[32;1m\u001b[1;3m2つのデータセットの違いは、列の数と列の名前です。df1には\"Name\"、\"Age\"、\"Sex\"、\"Height_inch\"、\"Weight_pound\"の5つの列があります。一方、df2には\"Unnamed: 0\"、\"Name\"、\"Age\"、\"Sex\"、\"Height_inch\"、\"Weight_pound\"、\"Height_cm\"、\"Weight_kg\"、\"BMI\"の9つの列があります。また、df2には\"Unnamed: 0\"という列が追加されています。\u001b[0m\n",
      "\n",
      "\u001b[1m> Finished chain.\u001b[0m\n"
     ]
    },
    {
     "data": {
      "text/plain": [
       "'2つのデータセットの違いは、列の数と列の名前です。df1には\"Name\"、\"Age\"、\"Sex\"、\"Height_inch\"、\"Weight_pound\"の5つの列があります。一方、df2には\"Unnamed: 0\"、\"Name\"、\"Age\"、\"Sex\"、\"Height_inch\"、\"Weight_pound\"、\"Height_cm\"、\"Weight_kg\"、\"BMI\"の9つの列があります。また、df2には\"Unnamed: 0\"という列が追加されています。'"
      ]
     },
     "execution_count": 42,
     "metadata": {},
     "output_type": "execute_result"
    }
   ],
   "source": [
    "agent2.run(\"2つのデータセットの違いは？\")"
   ]
  },
  {
   "cell_type": "code",
   "execution_count": 45,
   "id": "9bd09159",
   "metadata": {},
   "outputs": [
    {
     "name": "stdout",
     "output_type": "stream",
     "text": [
      "\n",
      "\n",
      "\u001b[1m> Entering new  chain...\u001b[0m\n",
      "\u001b[32;1m\u001b[1;3mはい、2つのデータセットを縦結合することができます。pandasの`concat`関数を使用することで実現できます。以下に例を示します。\n",
      "\n",
      "```python\n",
      "import pandas as pd\n",
      "\n",
      "# 2つのデータフレームを作成\n",
      "df1 = pd.DataFrame({'Name': ['KATIE', 'LOUISE', 'JANE'],\n",
      "                    'Age': [12, 12, 12],\n",
      "                    'Sex': ['F', 'F', 'F'],\n",
      "                    'Height_inch': [59, 61, 55],\n",
      "                    'Weight_pound': [95, 123, 74]})\n",
      "\n",
      "df2 = pd.DataFrame({'Name': ['JACLYN', 'LILLIE'],\n",
      "                    'Age': [12, 12],\n",
      "                    'Sex': ['F', 'F'],\n",
      "                    'Height_inch': [66, 52],\n",
      "                    'Weight_pound': [145, 64]})\n",
      "\n",
      "# データフレームを縦結合\n",
      "df_concat = pd.concat([df1, df2], ignore_index=True)\n",
      "\n",
      "print(df_concat)\n",
      "```\n",
      "\n",
      "出力結果:\n",
      "\n",
      "```\n",
      "     Name  Age Sex  Height_inch  Weight_pound\n",
      "0   KATIE   12   F           59            95\n",
      "1  LOUISE   12   F           61           123\n",
      "2    JANE   12   F           55            74\n",
      "3  JACLYN   12   F           66           145\n",
      "4  LILLIE   12   F           52            64\n",
      "```\n",
      "\n",
      "このように、`concat`関数を使用することで2つのデータフレームを縦結合することができます。`ignore_index=True`を指定することで、結合後のデータフレームのインデックスが再設定されます。\u001b[0m\n",
      "\n",
      "\u001b[1m> Finished chain.\u001b[0m\n"
     ]
    },
    {
     "data": {
      "text/plain": [
       "\"はい、2つのデータセットを縦結合することができます。pandasの`concat`関数を使用することで実現できます。以下に例を示します。\\n\\n```python\\nimport pandas as pd\\n\\n# 2つのデータフレームを作成\\ndf1 = pd.DataFrame({'Name': ['KATIE', 'LOUISE', 'JANE'],\\n                    'Age': [12, 12, 12],\\n                    'Sex': ['F', 'F', 'F'],\\n                    'Height_inch': [59, 61, 55],\\n                    'Weight_pound': [95, 123, 74]})\\n\\ndf2 = pd.DataFrame({'Name': ['JACLYN', 'LILLIE'],\\n                    'Age': [12, 12],\\n                    'Sex': ['F', 'F'],\\n                    'Height_inch': [66, 52],\\n                    'Weight_pound': [145, 64]})\\n\\n# データフレームを縦結合\\ndf_concat = pd.concat([df1, df2], ignore_index=True)\\n\\nprint(df_concat)\\n```\\n\\n出力結果:\\n\\n```\\n     Name  Age Sex  Height_inch  Weight_pound\\n0   KATIE   12   F           59            95\\n1  LOUISE   12   F           61           123\\n2    JANE   12   F           55            74\\n3  JACLYN   12   F           66           145\\n4  LILLIE   12   F           52            64\\n```\\n\\nこのように、`concat`関数を使用することで2つのデータフレームを縦結合することができます。`ignore_index=True`を指定することで、結合後のデータフレームのインデックスが再設定されます。\""
      ]
     },
     "execution_count": 45,
     "metadata": {},
     "output_type": "execute_result"
    }
   ],
   "source": [
    "agent2.run(\"2つのデータセットを縦結合できますか？\")"
   ]
  },
  {
   "cell_type": "code",
   "execution_count": null,
   "id": "1edbf842",
   "metadata": {},
   "outputs": [],
   "source": []
  }
 ],
 "metadata": {
  "kernelspec": {
   "display_name": "Python 3 (ipykernel)",
   "language": "python",
   "name": "python3"
  },
  "language_info": {
   "codemirror_mode": {
    "name": "ipython",
    "version": 3
   },
   "file_extension": ".py",
   "mimetype": "text/x-python",
   "name": "python",
   "nbconvert_exporter": "python",
   "pygments_lexer": "ipython3",
   "version": "3.10.12"
  }
 },
 "nbformat": 4,
 "nbformat_minor": 5
}
