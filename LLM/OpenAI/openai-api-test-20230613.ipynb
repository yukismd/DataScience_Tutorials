{
 "cells": [
  {
   "cell_type": "code",
   "execution_count": null,
   "id": "3db9e379",
   "metadata": {},
   "outputs": [],
   "source": []
  },
  {
   "cell_type": "code",
   "execution_count": 1,
   "id": "ac6c54b5",
   "metadata": {},
   "outputs": [],
   "source": [
    "import openai"
   ]
  },
  {
   "cell_type": "code",
   "execution_count": 7,
   "id": "269e386b",
   "metadata": {},
   "outputs": [],
   "source": [
    "oai_key = open('yuki-openaikey-20230613.txt', 'r').read()\n",
    "#print(oai_key)\n",
    "\n",
    "openai.api_key = oai_key"
   ]
  },
  {
   "cell_type": "code",
   "execution_count": 44,
   "id": "5e241b7f",
   "metadata": {},
   "outputs": [],
   "source": [
    "input_text = '晴れた日曜日の午後には何をすればいいかな？'\n",
    "\n",
    "response = openai.Completion.create(\n",
    "    #model='gpt-3.5-turbo',\n",
    "    model='text-davinci-003',  # InstructGPT\n",
    "    prompt=input_text,\n",
    "    temperature=0.7,\n",
    "    max_tokens=256,\n",
    "    top_p=1,\n",
    "    frequency_penalty=0,\n",
    "    presence_penalty=0\n",
    ")"
   ]
  },
  {
   "cell_type": "code",
   "execution_count": 45,
   "id": "616d1ace",
   "metadata": {},
   "outputs": [
    {
     "data": {
      "text/plain": [
       "21"
      ]
     },
     "execution_count": 45,
     "metadata": {},
     "output_type": "execute_result"
    }
   ],
   "source": [
    "len(input_text)"
   ]
  },
  {
   "cell_type": "code",
   "execution_count": 46,
   "id": "9f492a71",
   "metadata": {},
   "outputs": [
    {
     "data": {
      "text/plain": [
       "openai.openai_object.OpenAIObject"
      ]
     },
     "execution_count": 46,
     "metadata": {},
     "output_type": "execute_result"
    }
   ],
   "source": [
    "type(response)"
   ]
  },
  {
   "cell_type": "code",
   "execution_count": 47,
   "id": "5c31d2b6",
   "metadata": {},
   "outputs": [
    {
     "data": {
      "text/plain": [
       "dict_keys(['id', 'object', 'created', 'model', 'choices', 'usage'])"
      ]
     },
     "execution_count": 47,
     "metadata": {},
     "output_type": "execute_result"
    }
   ],
   "source": [
    "response.keys()"
   ]
  },
  {
   "cell_type": "code",
   "execution_count": 48,
   "id": "54742ed2",
   "metadata": {},
   "outputs": [
    {
     "name": "stdout",
     "output_type": "stream",
     "text": [
      "id\n",
      "('id', 'cmpl-7QnZsQkdZLV4E2hckKwDyXiDxPAyo')\n",
      "--------------\n",
      "object\n",
      "('object', 'text_completion')\n",
      "--------------\n",
      "created\n",
      "('created', 1686621460)\n",
      "--------------\n",
      "model\n",
      "('model', 'text-davinci-003')\n",
      "--------------\n",
      "choices\n",
      "('choices', [<OpenAIObject at 0x7fd261197f40> JSON: {\n",
      "  \"text\": \"\\n\\n\\u65e5\\u66dc\\u65e5\\u306e\\u5348\\u5f8c\\u306b\\u306f\\u3001\\u304a\\u53cb\\u9054\\u3068\\u304a\\u51fa\\u304b\\u3051\\u3059\\u308b\\u306e\\u3082\\u3044\\u3044\\u3067\\u3059\\u306d\\u3002\\u304a\\u6563\\u6b69\\u3092\\u3057\\u305f\\u308a\\u3001\\u516c\\u5712\\u3084\\u6620\\u753b\\u9928\\u3067\\u904a\\u3093\\u3060\\u308a\\u3057\\u3066\\u3001\\u697d\\u3057\\u3044\\u6642\\u9593\\u3092\\u904e\\u3054\\u3057\\u307e\\u3057\\u3087\\u3046\\uff01\\u307e\\u305f\\u3001\\u5bb6\\u3067\\u306e\\u3093\\u3073\\u308a\\u904e\\u3054\\u3059\\u306e\\u3082\\u826f\\u3044\\u3067\\u3059\\u3088\\u3002\\u6563\\u6b69\\u3067\\u304d\\u306a\\u3044\\u65e5\\u3084\\u3001\\u5929\\u6c17\\u304c\\u60aa\\u3044\\u65e5\\u306a\\u3069\\u306f\\u3001\\u5bb6\\u3067\\u6599\\u7406\\u3092\\u4f5c\\u3063\\u305f\\u308a\\u3001\\u30b9\\u30dd\\u30fc\\u30c4\\u3092\\u3057\\u305f\\u308a\\u3001\\u8da3\\u5473\\u306e\\u4f5c\\u54c1\\u3092\\u4f5c\\u3063\\u305f\\u308a\\u3001\\u8aad\\u66f8\\u3092\\u3057\\u305f\\u308a\\u306a\\u3069\\u3001\\u697d\\u3057\\u3044\\u6642\\u9593\\u3092\\u904e\\u3054\\u3057\\u3066\\u307f\\u307e\\u3057\\u3087\\u3046\\uff01\",\n",
      "  \"index\": 0,\n",
      "  \"logprobs\": null,\n",
      "  \"finish_reason\": \"stop\"\n",
      "}])\n",
      "--------------\n",
      "usage\n",
      "('usage', <OpenAIObject at 0x7fd261198cc0> JSON: {\n",
      "  \"prompt_tokens\": 33,\n",
      "  \"completion_tokens\": 230,\n",
      "  \"total_tokens\": 263\n",
      "})\n",
      "--------------\n"
     ]
    }
   ],
   "source": [
    "for k, i in zip(response.keys(), response.items()):\n",
    "    print(k)\n",
    "    print(i)\n",
    "    print('--------------')"
   ]
  },
  {
   "cell_type": "code",
   "execution_count": 49,
   "id": "b266dc75",
   "metadata": {},
   "outputs": [
    {
     "data": {
      "text/plain": [
       "(list, 1)"
      ]
     },
     "execution_count": 49,
     "metadata": {},
     "output_type": "execute_result"
    }
   ],
   "source": [
    "type(response['choices']), len(response['choices'])"
   ]
  },
  {
   "cell_type": "code",
   "execution_count": 50,
   "id": "5fccec19",
   "metadata": {},
   "outputs": [
    {
     "data": {
      "text/plain": [
       "'\\n\\n日曜日の午後には、お友達とお出かけするのもいいですね。お散歩をしたり、公園や映画館で遊んだりして、楽しい時間を過ごしましょう！また、家でのんびり過ごすのも良いですよ。散歩できない日や、天気が悪い日などは、家で料理を作ったり、スポーツをしたり、趣味の作品を作ったり、読書をしたりなど、楽しい時間を過ごしてみましょう！'"
      ]
     },
     "execution_count": 50,
     "metadata": {},
     "output_type": "execute_result"
    }
   ],
   "source": [
    "response['choices'][0]['text']"
   ]
  },
  {
   "cell_type": "code",
   "execution_count": 51,
   "id": "56682746",
   "metadata": {},
   "outputs": [
    {
     "name": "stdout",
     "output_type": "stream",
     "text": [
      "\n",
      "\n",
      "日曜日の午後には、お友達とお出かけするのもいいですね。お散歩をしたり、公園や映画館で遊んだりして、楽しい時間を過ごしましょう！また、家でのんびり過ごすのも良いですよ。散歩できない日や、天気が悪い日などは、家で料理を作ったり、スポーツをしたり、趣味の作品を作ったり、読書をしたりなど、楽しい時間を過ごしてみましょう！\n"
     ]
    }
   ],
   "source": [
    "print(response['choices'][0]['text'])"
   ]
  },
  {
   "cell_type": "code",
   "execution_count": 42,
   "id": "2c78ac4a",
   "metadata": {},
   "outputs": [
    {
     "data": {
      "text/plain": [
       "<OpenAIObject chat.completion id=chatcmpl-7QnJ27fP1r6Sru1BoshDTzfKP5ZbE at 0x7fd2611dfc20> JSON: {\n",
       "  \"id\": \"chatcmpl-7QnJ27fP1r6Sru1BoshDTzfKP5ZbE\",\n",
       "  \"object\": \"chat.completion\",\n",
       "  \"created\": 1686620416,\n",
       "  \"model\": \"gpt-3.5-turbo-0301\",\n",
       "  \"usage\": {\n",
       "    \"prompt_tokens\": 46,\n",
       "    \"completion_tokens\": 12,\n",
       "    \"total_tokens\": 58\n",
       "  },\n",
       "  \"choices\": [\n",
       "    {\n",
       "      \"message\": {\n",
       "        \"role\": \"assistant\",\n",
       "        \"content\": \"The most popular Japanese baseball player is probably Ichiro Suzuki.\"\n",
       "      },\n",
       "      \"finish_reason\": \"stop\",\n",
       "      \"index\": 0\n",
       "    }\n",
       "  ]\n",
       "}"
      ]
     },
     "execution_count": 42,
     "metadata": {},
     "output_type": "execute_result"
    }
   ],
   "source": [
    "response2 = openai.ChatCompletion.create(\n",
    "    model='gpt-3.5-turbo',\n",
    "    messages=[\n",
    "        {\"role\": \"system\", \"content\": \"You are a helpful assistant.\"},\n",
    "        {\"role\": \"user\", \"content\": \"Knock knock.\"},\n",
    "        {\"role\": \"assistant\", \"content\": \"Who's there?\"},\n",
    "        {\"role\": \"user\", \"content\": \"Who is the most popular Japanese baseball player?\"},\n",
    "    ],\n",
    "    temperature=0,\n",
    ")\n",
    "\n",
    "response2"
   ]
  },
  {
   "cell_type": "code",
   "execution_count": 43,
   "id": "15b500ef",
   "metadata": {},
   "outputs": [
    {
     "data": {
      "text/plain": [
       "'The most popular Japanese baseball player is probably Ichiro Suzuki.'"
      ]
     },
     "execution_count": 43,
     "metadata": {},
     "output_type": "execute_result"
    }
   ],
   "source": [
    "response2['choices'][0]['message']['content']"
   ]
  },
  {
   "cell_type": "code",
   "execution_count": 55,
   "id": "6eae2edc",
   "metadata": {},
   "outputs": [
    {
     "data": {
      "text/plain": [
       "(10,\n",
       " ['The',\n",
       "  'most',\n",
       "  'popular',\n",
       "  'Japanese',\n",
       "  'baseball',\n",
       "  'player',\n",
       "  'is',\n",
       "  'probably',\n",
       "  'Ichiro',\n",
       "  'Suzuki.'])"
      ]
     },
     "execution_count": 55,
     "metadata": {},
     "output_type": "execute_result"
    }
   ],
   "source": [
    "len(response2['choices'][0]['message']['content'].split(' ')), response2['choices'][0]['message']['content'].split(' ')"
   ]
  },
  {
   "cell_type": "code",
   "execution_count": 57,
   "id": "fac7bcb4",
   "metadata": {},
   "outputs": [
    {
     "name": "stdout",
     "output_type": "stream",
     "text": [
      "{\n",
      "  \"id\": \"chatcmpl-7QoC7XuqyRve5jj2Ik4u4Nk5Facr6\",\n",
      "  \"object\": \"chat.completion\",\n",
      "  \"created\": 1686623831,\n",
      "  \"model\": \"gpt-3.5-turbo-0301\",\n",
      "  \"usage\": {\n",
      "    \"prompt_tokens\": 38,\n",
      "    \"completion_tokens\": 186,\n",
      "    \"total_tokens\": 224\n",
      "  },\n",
      "  \"choices\": [\n",
      "    {\n",
      "      \"message\": {\n",
      "        \"role\": \"assistant\",\n",
      "        \"content\": \"\\u73fe\\u5728\\u3001\\u4e16\\u754c\\u3067\\u6700\\u3082\\u901f\\u3044\\u8eca\\u306fSSC Tuatara\\u3067\\u3059\\u30022020\\u5e7410\\u6708\\u306b\\u884c\\u308f\\u308c\\u305f\\u516c\\u5f0f\\u306e\\u4e16\\u754c\\u6700\\u901f\\u8a18\\u9332\\u6311\\u6226\\u3067\\u3001\\u6700\\u9ad8\\u901f\\u5ea6508.73 km/h\\u3092\\u8a18\\u9332\\u3057\\u307e\\u3057\\u305f\\u3002\\u3057\\u304b\\u3057\\u3001\\u3053\\u306e\\u8a18\\u9332\\u306f\\u5f8c\\u306b\\u4e89\\u8b70\\u3092\\u5dfb\\u304d\\u8d77\\u3053\\u3057\\u3001\\u6b63\\u5f0f\\u306b\\u627f\\u8a8d\\u3055\\u308c\\u308b\\u304b\\u3069\\u3046\\u304b\\u304c\\u4e0d\\u660e\\u3067\\u3059\\u3002\\u307e\\u305f\\u3001\\u516c\\u9053\\u3067\\u306e\\u901f\\u5ea6\\u5236\\u9650\\u3092\\u5b88\\u308b\\u9650\\u308a\\u3001\\u591a\\u304f\\u306e\\u56fd\\u3067\\u306f\\u6cd5\\u5f8b\\u3067\\u6700\\u9ad8\\u901f\\u5ea6\\u304c\\u5236\\u9650\\u3055\\u308c\\u3066\\u3044\\u308b\\u305f\\u3081\\u3001\\u3053\\u306e\\u3088\\u3046\\u306a\\u9ad8\\u901f\\u5ea6\\u3092\\u9054\\u6210\\u3059\\u308b\\u8eca\\u306f\\u516c\\u9053\\u3067\\u306e\\u4f7f\\u7528\\u306b\\u9069\\u3057\\u3066\\u3044\\u306a\\u3044\\u3053\\u3068\\u306b\\u7559\\u610f\\u3059\\u308b\\u5fc5\\u8981\\u304c\\u3042\\u308a\\u307e\\u3059\\u3002\"\n",
      "      },\n",
      "      \"finish_reason\": \"stop\",\n",
      "      \"index\": 0\n",
      "    }\n",
      "  ]\n",
      "}\n"
     ]
    }
   ],
   "source": [
    "messages = [\n",
    "  # ChatGPTとの対話内容：\n",
    "  # {\"role\": ロール, \"content\": メッセージ}という辞書を要素とするリスト\n",
    "    {\"role\": \"system\", \"content\": \"userの回答に答えて下さい\"},\n",
    "    {\"role\": \"user\", \"content\": \"世界で最も速い車は？\"},\n",
    "]\n",
    "\n",
    "completion = openai.ChatCompletion.create(\n",
    "  model=\"gpt-3.5-turbo\",  # ChatGPT APIを使用するには'gpt-3.5-turbo'などを指定\n",
    "  messages=messages\n",
    ")\n",
    "\n",
    "print(completion)"
   ]
  },
  {
   "cell_type": "code",
   "execution_count": 67,
   "id": "6c893bec",
   "metadata": {},
   "outputs": [
    {
     "name": "stdout",
     "output_type": "stream",
     "text": [
      "現在、世界で最も速い車はSSC Tuataraです。2020年10月に行われた公式の世界最速記録挑戦で、最高速度508.73 km/hを記録しました。しかし、この記録は後に争議を巻き起こし、正式に承認されるかどうかが不明です。また、公道での速度制限を守る限り、多くの国では法律で最高速度が制限されているため、このような高速度を達成する車は公道での使用に適していないことに留意する必要があります。\n"
     ]
    }
   ],
   "source": [
    "print(completion['choices'][0]['message']['content'])"
   ]
  },
  {
   "cell_type": "code",
   "execution_count": 69,
   "id": "7ab7ec8c",
   "metadata": {},
   "outputs": [
    {
     "name": "stdout",
     "output_type": "stream",
     "text": [
      ">>> {'role': 'system', 'content': 'You are a helpful assistant.'}\n",
      "Thank you! How can I assist you today?\n",
      ">>> {'role': 'user', 'content': 'Who won the world series in 2020?'}\n",
      "The Los Angeles Dodgers won the World Series in 2020.\n",
      ">>> {'role': 'assistant', 'content': 'The Los Angeles Dodgers won the World Series in 2020.'}\n",
      "This is correct. The Dodgers defeated the Tampa Bay Rays in six games to win their first World Series title since 1988. The series was played in a bubble at Globe Life Field in Arlington, Texas due to the COVID-19 pandemic. Dodgers' third baseman Justin Turner was pulled from the game after testing positive for COVID-19, and his actions after leaving the field drew criticism.\n",
      ">>> {'role': 'user', 'content': 'Where was it played?'}\n",
      "I'm sorry, can you please provide more context or information about what game or event you are referring to?\n"
     ]
    }
   ],
   "source": [
    "messages = [\n",
    "  {\"role\": \"system\", \"content\": \"You are a helpful assistant.\"},\n",
    "  {\"role\": \"user\", \"content\": \"Who won the world series in 2020?\"},\n",
    "  {\"role\": \"assistant\", \"content\": \"The Los Angeles Dodgers won the World Series in 2020.\"},\n",
    "  {\"role\": \"user\", \"content\": \"Where was it played?\"}\n",
    "]\n",
    "\n",
    "for msg in messages:\n",
    "    completion = openai.ChatCompletion.create(\n",
    "      model=\"gpt-3.5-turbo\",\n",
    "      messages = [msg]\n",
    "    )\n",
    "    print('>>> {}'.format(msg))\n",
    "    print(completion[\"choices\"][0][\"message\"][\"content\"])"
   ]
  },
  {
   "cell_type": "code",
   "execution_count": 71,
   "id": "89cc619d",
   "metadata": {},
   "outputs": [
    {
     "name": "stdout",
     "output_type": "stream",
     "text": [
      ">>> Who won the world series in 2020?\n",
      "messages >>>>> [{'role': 'system', 'content': 'You are a helpful assistant.'}, {'role': 'user', 'content': 'Who won the world series in 2020?'}]\n",
      "The Los Angeles Dodgers won the World Series in 2020.\n",
      ">>> Where was it played?\n",
      "messages >>>>> [{'role': 'system', 'content': 'You are a helpful assistant.'}, {'role': 'user', 'content': 'Who won the world series in 2020?'}, {'role': 'assistant', 'content': 'The Los Angeles Dodgers won the World Series in 2020.'}, {'role': 'user', 'content': 'Where was it played?'}]\n",
      "The 2020 World Series was played at a neutral site, Globe Life Field in Arlington, Texas.\n"
     ]
    }
   ],
   "source": [
    "user_inputs = [\n",
    "  {\"role\": \"user\", \"content\": \"Who won the world series in 2020?\"},\n",
    "  {\"role\": \"user\", \"content\": \"Where was it played?\"}\n",
    "]\n",
    "\n",
    "messages = [\n",
    "  {\"role\": \"system\", \"content\": \"You are a helpful assistant.\"}\n",
    "]\n",
    "\n",
    "for user_input in user_inputs:\n",
    "    print(f'>>> {user_input[\"content\"]}')\n",
    "    messages.append(user_input)\n",
    "    print('messages >>>>> {}'.format(messages))\n",
    "    completion = openai.ChatCompletion.create(\n",
    "        model = 'gpt-3.5-turbo',\n",
    "        messages=messages\n",
    "    )\n",
    "    content = completion[\"choices\"][0][\"message\"][\"content\"] # type: ignore\n",
    "    print(content)\n",
    "    messages.append({\"role\": \"assistant\", \"content\": f'{content}'})"
   ]
  },
  {
   "cell_type": "code",
   "execution_count": null,
   "id": "9c85ba11",
   "metadata": {},
   "outputs": [],
   "source": []
  },
  {
   "cell_type": "code",
   "execution_count": null,
   "id": "d353b0ae",
   "metadata": {},
   "outputs": [],
   "source": []
  }
 ],
 "metadata": {
  "kernelspec": {
   "display_name": "Python 3 (ipykernel)",
   "language": "python",
   "name": "python3"
  },
  "language_info": {
   "codemirror_mode": {
    "name": "ipython",
    "version": 3
   },
   "file_extension": ".py",
   "mimetype": "text/x-python",
   "name": "python",
   "nbconvert_exporter": "python",
   "pygments_lexer": "ipython3",
   "version": "3.8.13"
  }
 },
 "nbformat": 4,
 "nbformat_minor": 5
}
