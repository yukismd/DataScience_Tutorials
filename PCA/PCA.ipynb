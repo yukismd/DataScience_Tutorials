{
 "cells": [
  {
   "cell_type": "markdown",
   "id": "416b3257",
   "metadata": {},
   "source": [
    "## sklearn PCAとTruncatedSVDの比較"
   ]
  },
  {
   "cell_type": "code",
   "execution_count": 6,
   "id": "0d1681a4",
   "metadata": {},
   "outputs": [],
   "source": [
    "import pandas as pd"
   ]
  },
  {
   "cell_type": "code",
   "execution_count": 4,
   "id": "c7237b81",
   "metadata": {},
   "outputs": [
    {
     "name": "stdout",
     "output_type": "stream",
     "text": [
      "(20, 4)\n"
     ]
    },
    {
     "data": {
      "text/html": [
       "<div>\n",
       "<style scoped>\n",
       "    .dataframe tbody tr th:only-of-type {\n",
       "        vertical-align: middle;\n",
       "    }\n",
       "\n",
       "    .dataframe tbody tr th {\n",
       "        vertical-align: top;\n",
       "    }\n",
       "\n",
       "    .dataframe thead th {\n",
       "        text-align: right;\n",
       "    }\n",
       "</style>\n",
       "<table border=\"1\" class=\"dataframe\">\n",
       "  <thead>\n",
       "    <tr style=\"text-align: right;\">\n",
       "      <th></th>\n",
       "      <th>x1</th>\n",
       "      <th>x2</th>\n",
       "      <th>x3</th>\n",
       "      <th>x4</th>\n",
       "    </tr>\n",
       "  </thead>\n",
       "  <tbody>\n",
       "    <tr>\n",
       "      <th>0</th>\n",
       "      <td>-0.721830</td>\n",
       "      <td>-1.110365</td>\n",
       "      <td>0.186052</td>\n",
       "      <td>0.513363</td>\n",
       "    </tr>\n",
       "    <tr>\n",
       "      <th>1</th>\n",
       "      <td>-0.382250</td>\n",
       "      <td>-0.439136</td>\n",
       "      <td>0.153928</td>\n",
       "      <td>-0.392975</td>\n",
       "    </tr>\n",
       "    <tr>\n",
       "      <th>2</th>\n",
       "      <td>1.456909</td>\n",
       "      <td>1.028704</td>\n",
       "      <td>-1.882683</td>\n",
       "      <td>-0.219185</td>\n",
       "    </tr>\n",
       "    <tr>\n",
       "      <th>3</th>\n",
       "      <td>-0.073114</td>\n",
       "      <td>-0.342675</td>\n",
       "      <td>1.099750</td>\n",
       "      <td>-0.923495</td>\n",
       "    </tr>\n",
       "    <tr>\n",
       "      <th>4</th>\n",
       "      <td>-0.012683</td>\n",
       "      <td>-0.242206</td>\n",
       "      <td>0.565778</td>\n",
       "      <td>-0.978181</td>\n",
       "    </tr>\n",
       "  </tbody>\n",
       "</table>\n",
       "</div>"
      ],
      "text/plain": [
       "         x1        x2        x3        x4\n",
       "0 -0.721830 -1.110365  0.186052  0.513363\n",
       "1 -0.382250 -0.439136  0.153928 -0.392975\n",
       "2  1.456909  1.028704 -1.882683 -0.219185\n",
       "3 -0.073114 -0.342675  1.099750 -0.923495\n",
       "4 -0.012683 -0.242206  0.565778 -0.978181"
      ]
     },
     "execution_count": 4,
     "metadata": {},
     "output_type": "execute_result"
    }
   ],
   "source": [
    "df = pd.read_csv('../data/pca_sample.csv')\n",
    "print(df.shape)\n",
    "df.head()"
   ]
  },
  {
   "cell_type": "code",
   "execution_count": 5,
   "id": "7691011f",
   "metadata": {},
   "outputs": [
    {
     "data": {
      "text/html": [
       "<div>\n",
       "<style scoped>\n",
       "    .dataframe tbody tr th:only-of-type {\n",
       "        vertical-align: middle;\n",
       "    }\n",
       "\n",
       "    .dataframe tbody tr th {\n",
       "        vertical-align: top;\n",
       "    }\n",
       "\n",
       "    .dataframe thead th {\n",
       "        text-align: right;\n",
       "    }\n",
       "</style>\n",
       "<table border=\"1\" class=\"dataframe\">\n",
       "  <thead>\n",
       "    <tr style=\"text-align: right;\">\n",
       "      <th></th>\n",
       "      <th>x1</th>\n",
       "      <th>x2</th>\n",
       "      <th>x3</th>\n",
       "      <th>x4</th>\n",
       "    </tr>\n",
       "  </thead>\n",
       "  <tbody>\n",
       "    <tr>\n",
       "      <th>count</th>\n",
       "      <td>2.000000e+01</td>\n",
       "      <td>2.000000e+01</td>\n",
       "      <td>2.000000e+01</td>\n",
       "      <td>2.000000e+01</td>\n",
       "    </tr>\n",
       "    <tr>\n",
       "      <th>mean</th>\n",
       "      <td>-5.551115e-17</td>\n",
       "      <td>5.662137e-16</td>\n",
       "      <td>9.436896e-17</td>\n",
       "      <td>-5.100087e-17</td>\n",
       "    </tr>\n",
       "    <tr>\n",
       "      <th>std</th>\n",
       "      <td>1.000000e+00</td>\n",
       "      <td>1.000000e+00</td>\n",
       "      <td>1.000000e+00</td>\n",
       "      <td>1.000000e+00</td>\n",
       "    </tr>\n",
       "    <tr>\n",
       "      <th>min</th>\n",
       "      <td>-2.167489e+00</td>\n",
       "      <td>-2.115625e+00</td>\n",
       "      <td>-1.942338e+00</td>\n",
       "      <td>-2.249756e+00</td>\n",
       "    </tr>\n",
       "    <tr>\n",
       "      <th>25%</th>\n",
       "      <td>-6.530280e-01</td>\n",
       "      <td>-5.161532e-01</td>\n",
       "      <td>-5.618184e-01</td>\n",
       "      <td>-5.892364e-01</td>\n",
       "    </tr>\n",
       "    <tr>\n",
       "      <th>50%</th>\n",
       "      <td>-2.224668e-02</td>\n",
       "      <td>2.774462e-02</td>\n",
       "      <td>1.699900e-01</td>\n",
       "      <td>-9.445538e-02</td>\n",
       "    </tr>\n",
       "    <tr>\n",
       "      <th>75%</th>\n",
       "      <td>4.185438e-01</td>\n",
       "      <td>6.479593e-01</td>\n",
       "      <td>5.942657e-01</td>\n",
       "      <td>5.309792e-01</td>\n",
       "    </tr>\n",
       "    <tr>\n",
       "      <th>max</th>\n",
       "      <td>1.691527e+00</td>\n",
       "      <td>1.944117e+00</td>\n",
       "      <td>2.012865e+00</td>\n",
       "      <td>2.229974e+00</td>\n",
       "    </tr>\n",
       "  </tbody>\n",
       "</table>\n",
       "</div>"
      ],
      "text/plain": [
       "                 x1            x2            x3            x4\n",
       "count  2.000000e+01  2.000000e+01  2.000000e+01  2.000000e+01\n",
       "mean  -5.551115e-17  5.662137e-16  9.436896e-17 -5.100087e-17\n",
       "std    1.000000e+00  1.000000e+00  1.000000e+00  1.000000e+00\n",
       "min   -2.167489e+00 -2.115625e+00 -1.942338e+00 -2.249756e+00\n",
       "25%   -6.530280e-01 -5.161532e-01 -5.618184e-01 -5.892364e-01\n",
       "50%   -2.224668e-02  2.774462e-02  1.699900e-01 -9.445538e-02\n",
       "75%    4.185438e-01  6.479593e-01  5.942657e-01  5.309792e-01\n",
       "max    1.691527e+00  1.944117e+00  2.012865e+00  2.229974e+00"
      ]
     },
     "execution_count": 5,
     "metadata": {},
     "output_type": "execute_result"
    }
   ],
   "source": [
    "df.describe()"
   ]
  },
  {
   "cell_type": "code",
   "execution_count": 19,
   "id": "4db7b51e",
   "metadata": {},
   "outputs": [
    {
     "data": {
      "text/html": [
       "<div>\n",
       "<style scoped>\n",
       "    .dataframe tbody tr th:only-of-type {\n",
       "        vertical-align: middle;\n",
       "    }\n",
       "\n",
       "    .dataframe tbody tr th {\n",
       "        vertical-align: top;\n",
       "    }\n",
       "\n",
       "    .dataframe thead th {\n",
       "        text-align: right;\n",
       "    }\n",
       "</style>\n",
       "<table border=\"1\" class=\"dataframe\">\n",
       "  <thead>\n",
       "    <tr style=\"text-align: right;\">\n",
       "      <th></th>\n",
       "      <th>x1</th>\n",
       "      <th>x2</th>\n",
       "      <th>x3</th>\n",
       "      <th>x4</th>\n",
       "    </tr>\n",
       "  </thead>\n",
       "  <tbody>\n",
       "    <tr>\n",
       "      <th>x1</th>\n",
       "      <td>1.000000</td>\n",
       "      <td>0.943608</td>\n",
       "      <td>-0.877850</td>\n",
       "      <td>0.121508</td>\n",
       "    </tr>\n",
       "    <tr>\n",
       "      <th>x2</th>\n",
       "      <td>0.943608</td>\n",
       "      <td>1.000000</td>\n",
       "      <td>-0.814495</td>\n",
       "      <td>0.194919</td>\n",
       "    </tr>\n",
       "    <tr>\n",
       "      <th>x3</th>\n",
       "      <td>-0.877850</td>\n",
       "      <td>-0.814495</td>\n",
       "      <td>1.000000</td>\n",
       "      <td>-0.170935</td>\n",
       "    </tr>\n",
       "    <tr>\n",
       "      <th>x4</th>\n",
       "      <td>0.121508</td>\n",
       "      <td>0.194919</td>\n",
       "      <td>-0.170935</td>\n",
       "      <td>1.000000</td>\n",
       "    </tr>\n",
       "  </tbody>\n",
       "</table>\n",
       "</div>"
      ],
      "text/plain": [
       "          x1        x2        x3        x4\n",
       "x1  1.000000  0.943608 -0.877850  0.121508\n",
       "x2  0.943608  1.000000 -0.814495  0.194919\n",
       "x3 -0.877850 -0.814495  1.000000 -0.170935\n",
       "x4  0.121508  0.194919 -0.170935  1.000000"
      ]
     },
     "execution_count": 19,
     "metadata": {},
     "output_type": "execute_result"
    }
   ],
   "source": [
    "# 相関係数行列\n",
    "df.corr()"
   ]
  },
  {
   "cell_type": "markdown",
   "id": "7908234f",
   "metadata": {},
   "source": [
    "### sklearn.decomposition.PCA\n",
    "https://scikit-learn.org/stable/modules/generated/sklearn.decomposition.PCA.html"
   ]
  },
  {
   "cell_type": "code",
   "execution_count": 41,
   "id": "56858d1f",
   "metadata": {},
   "outputs": [],
   "source": [
    "from sklearn.decomposition import PCA"
   ]
  },
  {
   "cell_type": "markdown",
   "id": "f09ab1bf",
   "metadata": {},
   "source": [
    "Rのprcomp、eigen、svdに一致"
   ]
  },
  {
   "cell_type": "code",
   "execution_count": 26,
   "id": "b6e0d249",
   "metadata": {},
   "outputs": [
    {
     "data": {
      "text/plain": [
       "PCA(n_components=2)"
      ]
     },
     "execution_count": 26,
     "metadata": {},
     "output_type": "execute_result"
    }
   ],
   "source": [
    "pca = PCA(n_components=2)\n",
    "pca.fit(df)"
   ]
  },
  {
   "cell_type": "code",
   "execution_count": 27,
   "id": "41f46f8b",
   "metadata": {},
   "outputs": [
    {
     "data": {
      "text/plain": [
       "array([[-0.58153505, -0.57280461,  0.55677856, -0.15397889],\n",
       "       [-0.13890374, -0.05367847,  0.07243157,  0.98619371]])"
      ]
     },
     "execution_count": 27,
     "metadata": {},
     "output_type": "execute_result"
    }
   ],
   "source": [
    "## 固有ベクトル\n",
    "pca.components_"
   ]
  },
  {
   "cell_type": "code",
   "execution_count": 28,
   "id": "576eaa55",
   "metadata": {},
   "outputs": [
    {
     "data": {
      "text/plain": [
       "array([2.80209404, 0.95972198])"
      ]
     },
     "execution_count": 28,
     "metadata": {},
     "output_type": "execute_result"
    }
   ],
   "source": [
    "## 固有値\n",
    "pca.explained_variance_"
   ]
  },
  {
   "cell_type": "code",
   "execution_count": 29,
   "id": "1d645f09",
   "metadata": {},
   "outputs": [
    {
     "data": {
      "text/plain": [
       "array([7.29655993, 4.27021283])"
      ]
     },
     "execution_count": 29,
     "metadata": {},
     "output_type": "execute_result"
    }
   ],
   "source": [
    "## 特異値\n",
    "pca.singular_values_"
   ]
  },
  {
   "cell_type": "code",
   "execution_count": 30,
   "id": "f25c4b47",
   "metadata": {},
   "outputs": [
    {
     "data": {
      "text/plain": [
       "array([[ 1.0803344 ,  0.67961885],\n",
       "       [ 0.62004485, -0.29973208],\n",
       "       [-2.45097726, -0.61011389],\n",
       "       [ 0.99331991, -0.80253789],\n",
       "       [ 0.61174476, -0.90893298],\n",
       "       [-2.61651996,  0.01433741],\n",
       "       [-0.9603671 ,  0.4558491 ],\n",
       "       [ 2.07095984,  0.51204651],\n",
       "       [ 1.63181076,  1.31745037],\n",
       "       [ 0.26669102,  2.31537841],\n",
       "       [-1.78430467, -0.6596796 ],\n",
       "       [ 0.00673924, -2.2745547 ],\n",
       "       [-0.86206566,  1.04827551],\n",
       "       [ 0.28505365, -0.56313217],\n",
       "       [ 0.93978566, -0.4270825 ],\n",
       "       [-2.6525435 ,  0.77292307],\n",
       "       [-1.16150274, -0.33224648],\n",
       "       [ 3.76721501, -0.55517478],\n",
       "       [-0.90199368,  0.16728738],\n",
       "       [ 1.11657547,  0.15002045]])"
      ]
     },
     "execution_count": 30,
     "metadata": {},
     "output_type": "execute_result"
    }
   ],
   "source": [
    "# 主成分\n",
    "pca.transform(df)"
   ]
  },
  {
   "cell_type": "markdown",
   "id": "656de8c6",
   "metadata": {},
   "source": [
    "### sklearn.decomposition.TruncatedSVD\n",
    "https://scikit-learn.org/stable/modules/generated/sklearn.decomposition.TruncatedSVD.html"
   ]
  },
  {
   "cell_type": "code",
   "execution_count": 31,
   "id": "6ab55249",
   "metadata": {},
   "outputs": [],
   "source": [
    "from sklearn.decomposition import TruncatedSVD"
   ]
  },
  {
   "cell_type": "code",
   "execution_count": 32,
   "id": "64153e3d",
   "metadata": {},
   "outputs": [
    {
     "data": {
      "text/plain": [
       "TruncatedSVD()"
      ]
     },
     "execution_count": 32,
     "metadata": {},
     "output_type": "execute_result"
    }
   ],
   "source": [
    "svd = TruncatedSVD(n_components=2)\n",
    "svd.fit(df)"
   ]
  },
  {
   "cell_type": "code",
   "execution_count": 33,
   "id": "9e563f84",
   "metadata": {},
   "outputs": [
    {
     "data": {
      "text/plain": [
       "array([[-0.58153505, -0.57280461,  0.55677856, -0.15397889],\n",
       "       [-0.13890374, -0.05367847,  0.07243157,  0.98619371]])"
      ]
     },
     "execution_count": 33,
     "metadata": {},
     "output_type": "execute_result"
    }
   ],
   "source": [
    "## 固有ベクトル\n",
    "svd.components_"
   ]
  },
  {
   "cell_type": "code",
   "execution_count": 39,
   "id": "8d19377c",
   "metadata": {},
   "outputs": [
    {
     "data": {
      "text/plain": [
       "array([2.80209404, 0.95972198])"
      ]
     },
     "execution_count": 39,
     "metadata": {},
     "output_type": "execute_result"
    }
   ],
   "source": [
    "## 固有値\n",
    "#svd.explained_variance_\n",
    "svd.explained_variance_ * (20/19)"
   ]
  },
  {
   "cell_type": "code",
   "execution_count": 36,
   "id": "ecf3a818",
   "metadata": {},
   "outputs": [
    {
     "data": {
      "text/plain": [
       "array([7.29655993, 4.27021283])"
      ]
     },
     "execution_count": 36,
     "metadata": {},
     "output_type": "execute_result"
    }
   ],
   "source": [
    "## 特異値\n",
    "svd.singular_values_"
   ]
  },
  {
   "cell_type": "code",
   "execution_count": 42,
   "id": "9d603825",
   "metadata": {},
   "outputs": [
    {
     "data": {
      "text/plain": [
       "array([[ 1.0803344 ,  0.67961885],\n",
       "       [ 0.62004485, -0.29973208],\n",
       "       [-2.45097726, -0.61011389],\n",
       "       [ 0.99331991, -0.80253789],\n",
       "       [ 0.61174476, -0.90893298],\n",
       "       [-2.61651996,  0.01433741],\n",
       "       [-0.9603671 ,  0.4558491 ],\n",
       "       [ 2.07095984,  0.51204651],\n",
       "       [ 1.63181076,  1.31745037],\n",
       "       [ 0.26669102,  2.31537841],\n",
       "       [-1.78430467, -0.6596796 ],\n",
       "       [ 0.00673924, -2.2745547 ],\n",
       "       [-0.86206566,  1.04827551],\n",
       "       [ 0.28505365, -0.56313217],\n",
       "       [ 0.93978566, -0.4270825 ],\n",
       "       [-2.6525435 ,  0.77292307],\n",
       "       [-1.16150274, -0.33224648],\n",
       "       [ 3.76721501, -0.55517478],\n",
       "       [-0.90199368,  0.16728738],\n",
       "       [ 1.11657547,  0.15002045]])"
      ]
     },
     "execution_count": 42,
     "metadata": {},
     "output_type": "execute_result"
    }
   ],
   "source": [
    "# 主成分\n",
    "svd.transform(df)"
   ]
  },
  {
   "cell_type": "code",
   "execution_count": null,
   "id": "7e4f8ef2",
   "metadata": {},
   "outputs": [],
   "source": []
  }
 ],
 "metadata": {
  "kernelspec": {
   "display_name": "Python 3",
   "language": "python",
   "name": "python3"
  },
  "language_info": {
   "codemirror_mode": {
    "name": "ipython",
    "version": 3
   },
   "file_extension": ".py",
   "mimetype": "text/x-python",
   "name": "python",
   "nbconvert_exporter": "python",
   "pygments_lexer": "ipython3",
   "version": "3.8.3"
  }
 },
 "nbformat": 4,
 "nbformat_minor": 5
}
